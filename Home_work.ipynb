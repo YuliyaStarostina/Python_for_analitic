{
  "nbformat": 4,
  "nbformat_minor": 0,
  "metadata": {
    "colab": {
      "provenance": [],
      "include_colab_link": true
    },
    "kernelspec": {
      "name": "python3",
      "display_name": "Python 3"
    },
    "language_info": {
      "name": "python"
    }
  },
  "cells": [
    {
      "cell_type": "markdown",
      "metadata": {
        "id": "view-in-github",
        "colab_type": "text"
      },
      "source": [
        "<a href=\"https://colab.research.google.com/github/YuliyaStarostina/Python_for_analitic/blob/main/Home_work.ipynb\" target=\"_parent\"><img src=\"https://colab.research.google.com/assets/colab-badge.svg\" alt=\"Open In Colab\"/></a>"
      ]
    },
    {
      "cell_type": "markdown",
      "source": [
        "# **Семинар 1**. Основы Python\n",
        "# Домашнее задание 1\n",
        "Задача_1:\n",
        "Треугольник существует только тогда, когда сумма любых двух его сторон больше третьей. Дано a, b, c - стороны предполагаемого треугольника. Требуется сравнить длину каждого отрезка-стороны с суммой двух других. Если хотя бы в одном случае отрезок окажется больше суммы двух других, то треугольника с такими сторонами не существует. Отдельно сообщить является ли треугольник разносторонним, равнобедренным или равносторонним."
      ],
      "metadata": {
        "id": "ADr_wP_6dr7q"
      }
    },
    {
      "cell_type": "code",
      "source": [
        "def triangle_type(a, b, c):\n",
        "    # Проверка существования треугольника\n",
        "    if a + b <= c or a + c <= b or b + c <= a:\n",
        "        return \"Треугольник с такими сторонами не существует\"\n",
        "\n",
        "    # Определение типа треугольника\n",
        "    if a != b and b != c and a != c:\n",
        "        return \"Треугольник разносторонний\"\n",
        "    elif a == b and b == c:\n",
        "        return \"Треугольник равносторонний\"\n",
        "    else:\n",
        "        return \"Треугольник равнобедренный\"\n",
        "\n",
        "# Примеры использования функции\n",
        "print(triangle_type(3, 4, 5))  # Разносторонний\n",
        "print(triangle_type(5, 5, 5))  # Равносторонний\n",
        "print(triangle_type(5, 5, 3))  # Равнобедренный"
      ],
      "metadata": {
        "colab": {
          "base_uri": "https://localhost:8080/"
        },
        "id": "rFkI9j3rddUs",
        "outputId": "8e7e6e00-7099-4c02-fc89-168580ea09c3"
      },
      "execution_count": null,
      "outputs": [
        {
          "output_type": "stream",
          "name": "stdout",
          "text": [
            "Треугольник разносторонний\n",
            "Треугольник равносторонний\n",
            "Треугольник равнобедренный\n"
          ]
        }
      ]
    },
    {
      "cell_type": "markdown",
      "source": [
        "Задача_2: Напишите код, который запрашивает число и сообщает является ли оно простым или составным. Используйте правило для проверки: “Число является простым, если делится нацело только на единицу и на себя”. Сделайте ограничение на ввод отрицательных чисел и чисел больше 100 тысяч."
      ],
      "metadata": {
        "id": "Ta_VKQ86eBh_"
      }
    },
    {
      "cell_type": "code",
      "source": [
        "def is_prime():\n",
        "    num = int(input(\"Введите число: \"))\n",
        "\n",
        "    if num < 0 or num > 100000:\n",
        "        return \"Введено недопустимое число. Допустимы числа от 0 до 100000.\"\n",
        "\n",
        "    if num == 1 or num == 0:\n",
        "        return \"Число не является ни простым, ни составным.\"\n",
        "\n",
        "    for i in range(2, int(num**0.5) + 1):\n",
        "        if num % i == 0:\n",
        "            return \"Число составное.\"\n",
        "    return \"Число простое.\"\n",
        "\n",
        "print(is_prime())"
      ],
      "metadata": {
        "colab": {
          "base_uri": "https://localhost:8080/"
        },
        "id": "8LsR_aeSeTER",
        "outputId": "4f3d3bad-26d8-4837-f5b7-f03697fa528d"
      },
      "execution_count": null,
      "outputs": [
        {
          "output_type": "stream",
          "name": "stdout",
          "text": [
            "Введите число: 47652\n",
            "Число составное.\n"
          ]
        }
      ]
    },
    {
      "cell_type": "markdown",
      "source": [
        "Задача_3: Программа загадывает число от 0 до 1000. Необходимо угадать число за 10 попыток. Программа должна подсказывать “больше” или “меньше” после каждой попытки. Для генерации случайного числа используйте код:\n",
        "from random import randintnum = randint(LOWER_LIMIT, UPPER_LIMIT)"
      ],
      "metadata": {
        "id": "oOrCIhT_e0KN"
      }
    },
    {
      "cell_type": "code",
      "source": [
        "from random import randint\n",
        "\n",
        "LOWER_LIMIT = 0\n",
        "UPPER_LIMIT = 1000\n",
        "NUM_OF_GUESSES = 10\n",
        "\n",
        "def guess_num():\n",
        "    num = randint(LOWER_LIMIT, UPPER_LIMIT)\n",
        "\n",
        "    print(\"Угадайте число от\", LOWER_LIMIT, \"до\", UPPER_LIMIT)\n",
        "\n",
        "    for i in range(NUM_OF_GUESSES):\n",
        "        guess = int(input(\"Попытка номер \" + str(i+1) + \": \"))\n",
        "\n",
        "        if guess == num:\n",
        "            print(\"Поздравляю! Вы угадали число.\")\n",
        "            return\n",
        "        elif guess < num:\n",
        "            print(\"Загаданное число больше вашего.\")\n",
        "        else:\n",
        "            print(\"Загаданное число меньше вашего.\")\n",
        "\n",
        "    print(\"К сожалению, вы не угадали число. Загаданное число было\", num)\n",
        "\n",
        "guess_num()\n"
      ],
      "metadata": {
        "colab": {
          "base_uri": "https://localhost:8080/"
        },
        "id": "3lqLtLRghrHh",
        "outputId": "328ad740-6f82-4d9a-ce9c-e1bbe125d56c"
      },
      "execution_count": 1,
      "outputs": [
        {
          "output_type": "stream",
          "name": "stdout",
          "text": [
            "Угадайте число от 0 до 1000\n",
            "Попытка номер 1: 600\n",
            "Загаданное число меньше вашего.\n",
            "Попытка номер 2: 300\n",
            "Загаданное число меньше вашего.\n",
            "Попытка номер 3: 200\n",
            "Загаданное число меньше вашего.\n",
            "Попытка номер 4: 100\n",
            "Загаданное число меньше вашего.\n",
            "Попытка номер 5: 50\n",
            "Загаданное число больше вашего.\n",
            "Попытка номер 6: 60\n",
            "Загаданное число меньше вашего.\n",
            "Попытка номер 7: 55\n",
            "Загаданное число больше вашего.\n",
            "Попытка номер 8: 57\n",
            "Поздравляю! Вы угадали число.\n"
          ]
        }
      ]
    },
    {
      "cell_type": "markdown",
      "source": [
        "# **Семинар 2**. Простые типы данных"
      ],
      "metadata": {
        "id": "3cVltQosil7X"
      }
    },
    {
      "cell_type": "markdown",
      "source": [
        "# Домашнее задание 2\n",
        "\n",
        "Задача_1: Напишите программу, которая получает целое число и возвращает его шестнадцатеричное строковое представление. Функцию hex используйте для проверки своего результата."
      ],
      "metadata": {
        "id": "-hfT9TMli3Ka"
      }
    },
    {
      "cell_type": "code",
      "source": [
        "num = int(input(\"Введите целое число: \"))\n",
        "hex_str = hex(num)[2:]  # преобразуем число в шестнадцатеричную строку и удаляем первые два символа '0x'\n",
        "print(f\"Шестнадцатеричное представление числа: {hex_str}\")"
      ],
      "metadata": {
        "colab": {
          "base_uri": "https://localhost:8080/"
        },
        "id": "SPtwnyX8jGwp",
        "outputId": "fb51d325-7c9b-49c3-cc6f-ec50be5e2628"
      },
      "execution_count": 5,
      "outputs": [
        {
          "output_type": "stream",
          "name": "stdout",
          "text": [
            "Введите целое число: 125\n",
            "Шестнадцатеричное представление числа: 7d\n"
          ]
        }
      ]
    },
    {
      "cell_type": "markdown",
      "source": [
        "Мы также можем использовать функцию `hex` для проверки своего результата, как указано в задании:"
      ],
      "metadata": {
        "id": "pMEPs9X_j-ki"
      }
    },
    {
      "cell_type": "code",
      "source": [
        "num = int(input(\"Введите целое число: \"))\n",
        "hex_str = hex(num)[2:]  # преобразуем число в шестнадцатеричную строку и удаляем первые два символа '0x'\n",
        "print(f\"Результат: {hex_str}\")\n",
        "# Проверка со встроенной функцией hex()\n",
        "hex_builtin = hex(num)\n",
        "print(f\"Результат с использованием hex(): {hex_builtin}\")"
      ],
      "metadata": {
        "colab": {
          "base_uri": "https://localhost:8080/"
        },
        "id": "dHWMQyGokIc_",
        "outputId": "a8fe7546-75f5-42bc-92a9-8fd5a9cf6564"
      },
      "execution_count": 8,
      "outputs": [
        {
          "output_type": "stream",
          "name": "stdout",
          "text": [
            "Введите целое число: 125\n",
            "Результат: 7d\n",
            "Результат с использованием hex(): 0x7d\n"
          ]
        }
      ]
    },
    {
      "cell_type": "markdown",
      "source": [
        "Задача_2: Напишите программу, которая принимает две строки вида “a/b” - дробь с числителем и знаменателем. Программа должна возвращать сумму и произведение* дробей. Для проверки своего кода используйте модуль fractions"
      ],
      "metadata": {
        "id": "Y6xNKAcakhkW"
      }
    },
    {
      "cell_type": "code",
      "source": [
        "from fractions import Fraction\n",
        "\n",
        "def calculate_fraction_operations(fraction1, fraction2):\n",
        "    # Разбиваем строки на числитель и знаменатель\n",
        "    numerator1, denominator1 = map(int, fraction1.split('/'))\n",
        "    numerator2, denominator2 = map(int, fraction2.split('/'))\n",
        "     # Создаем дробные числа с помощью модуля fractions\n",
        "    fraction1 = Fraction(numerator1, denominator1)\n",
        "    fraction2 = Fraction(numerator2, denominator2)\n",
        "\n",
        "    # Выполняем операции с дробными числами\n",
        "    sum_result = fraction1 + fraction2\n",
        "    product_result = fraction1 * fraction2\n",
        "\n",
        "    # Возвращаем результаты в виде строк\n",
        "    return str(sum_result), str(product_result)\n",
        "\n",
        "# Тестируем программу\n",
        "fraction1 = input('Введите первую дробь (в формате a/b): ')\n",
        "fraction2 = input('Введите вторую дробь (в формате a/b): ')\n",
        "\n",
        "sum_result, product_result = calculate_fraction_operations(fraction1, fraction2)\n",
        "print('Сумма дробей:', sum_result)\n",
        "print('Произведение дробей:', product_result)"
      ],
      "metadata": {
        "colab": {
          "base_uri": "https://localhost:8080/"
        },
        "id": "asiaSzMmkuY-",
        "outputId": "7d2657db-cb73-4c13-9e32-06f54b35164e"
      },
      "execution_count": 9,
      "outputs": [
        {
          "output_type": "stream",
          "name": "stdout",
          "text": [
            "Введите первую дробь (в формате a/b): 4/2\n",
            "Введите вторую дробь (в формате a/b): 3/8\n",
            "Сумма дробей: 19/8\n",
            "Произведение дробей: 3/4\n"
          ]
        }
      ]
    },
    {
      "cell_type": "markdown",
      "source": [
        "# **Семинар** **3**. Коллекции\n",
        "# Домашнее задание 3\n",
        "Задача_1: Дан список повторяющихся элементов. Вернуть список с дублирующимися элементами. В результирующем списке не должно быть дубликатов."
      ],
      "metadata": {
        "id": "AWQmW1xqmNgL"
      }
    },
    {
      "cell_type": "code",
      "source": [
        "def find_duplicates(lst):\n",
        "    return list(set([x for x in lst if lst.count(x) > 1]))\n",
        "\n",
        "lst = [1, 2, 2, 3, 3, 3, 4, 4, 4, 4]\n",
        "print(find_duplicates(lst))"
      ],
      "metadata": {
        "colab": {
          "base_uri": "https://localhost:8080/"
        },
        "id": "fgiJmkkYnLGs",
        "outputId": "a47b6507-e52f-4f69-a674-14de88bfd284"
      },
      "execution_count": 10,
      "outputs": [
        {
          "output_type": "stream",
          "name": "stdout",
          "text": [
            "[2, 3, 4]\n"
          ]
        }
      ]
    },
    {
      "cell_type": "markdown",
      "source": [
        "Задача_2: В большой текстовой строке подсчитать количество встречаемых слов и вернуть 10 самых частых. Не учитывать знаки препинания и регистр символов. За основу возьмите любую статью из википедии или из документации к языку."
      ],
      "metadata": {
        "id": "Lk7IZapYn0O1"
      }
    },
    {
      "cell_type": "code",
      "source": [
        "import re\n",
        "from collections import Counter\n",
        "text = \"\"\"Ехал Грека через реку. Видит Грека в реке рак. Сунул Грека руку в реку, рак за руку Грека цап\"\"\"\n",
        "# Разбиение текста на слова\n",
        "words = re.findall(r'\\w+', text)\n",
        "\n",
        "# Подсчет количества вхождений слов в текст\n",
        "word_count = {}\n",
        "for word in words:\n",
        "    if word.isalpha():\n",
        "        word_count[word] = word_count.get(word, 0) + 1\n",
        "\n",
        "# Получение 10 самых часто встречаемых слов\n",
        "most_common_words = sorted(word_count.items(), key=lambda x: x[1], reverse=True)[:10]\n",
        "\n",
        "# Вывод результатов\n",
        "for word, count in most_common_words:\n",
        "    print(f\"{word}: {count}\")"
      ],
      "metadata": {
        "colab": {
          "base_uri": "https://localhost:8080/"
        },
        "id": "1x1w3WU_oDUI",
        "outputId": "ffde2828-3e04-4f4b-d3f7-1cfeb74ba461"
      },
      "execution_count": 14,
      "outputs": [
        {
          "output_type": "stream",
          "name": "stdout",
          "text": [
            "Грека: 4\n",
            "реку: 2\n",
            "в: 2\n",
            "рак: 2\n",
            "руку: 2\n",
            "Ехал: 1\n",
            "через: 1\n",
            "Видит: 1\n",
            "реке: 1\n",
            "Сунул: 1\n"
          ]
        }
      ]
    },
    {
      "cell_type": "markdown",
      "source": [
        "Задача_3: Создайте словарь со списком вещей для похода в качестве ключа и их массой в качестве значения. Определите какие вещи влезут в рюкзак передав его максимальную грузоподъёмность. Достаточно вернуть один допустимый вариант.*Верните все возможные варианты комплектации рюкзака."
      ],
      "metadata": {
        "id": "-rCbcE3Erk-M"
      }
    },
    {
      "cell_type": "code",
      "source": [
        "def fit_backpack(max_capacity):\n",
        "    items = {\n",
        "        'Тента': 2,\n",
        "        'Спальный мешок': 3,\n",
        "        'Каремат': 1,\n",
        "        'Газовая горелка': 1.5,\n",
        "        'Походная кастрюля': 0.5,\n",
        "        'Фонарик': 0.2\n",
        "    }\n",
        "\n",
        "    # Создаем пустой список, чтобы хранить вещи, помещенные в рюкзак\n",
        "    backpack = []\n",
        "\n",
        "    # Изначально суммарная масса вещей в рюкзаке равна 0\n",
        "    total_weight = 0\n",
        "\n",
        "    # Перебираем все предметы и проверяем, помещается ли каждый из них в рюкзак при данной максимальной грузоподъемности\n",
        "    for item, weight in items.items():\n",
        "        if total_weight + weight <= max_capacity:\n",
        "            # Если помещается, добавляем предмет в рюкзак и увеличиваем суммарную массу\n",
        "            backpack.append(item)\n",
        "            total_weight += weight\n",
        "\n",
        "    # Возвращаем список вещей, помещенных в рюкзак\n",
        "    return backpack\n",
        "\n",
        "\n",
        "# Пример использования функции\n",
        "max_capacity = 5\n",
        "result = fit_backpack(max_capacity)\n",
        "print(\"Возможные варианты комплектации рюкзака:\")\n",
        "for item in result:\n",
        "    print(item)\n"
      ],
      "metadata": {
        "colab": {
          "base_uri": "https://localhost:8080/"
        },
        "id": "_xUhMi1qr5i4",
        "outputId": "69439029-670b-412b-f246-f110ae4f4518"
      },
      "execution_count": 17,
      "outputs": [
        {
          "output_type": "stream",
          "name": "stdout",
          "text": [
            "Возможные варианты комплектации рюкзака:\n",
            "Тента\n",
            "Спальный мешок\n"
          ]
        }
      ]
    },
    {
      "cell_type": "markdown",
      "source": [
        "В данном примере функция fit_backpack принимает максимальную грузоподъемность рюкзака и возвращает список предметов, которые помещаются в рюкзак. При этом возвращается только один допустимый вариант, который найдется первым. Если нужно получить все возможные варианты комплектации рюкзака, можно модифицировать код и использовать другой подход, например, рекурсию или генераторы."
      ],
      "metadata": {
        "id": "5KGv5kEJuoYo"
      }
    },
    {
      "cell_type": "markdown",
      "source": [
        "# **Семинар** **4**. Функции\n",
        "Домашнее задание 4\n",
        "\n",
        "Задача_1: Напишите функцию для транспонирования матрицы"
      ],
      "metadata": {
        "id": "A2m_R6xwt9Ka"
      }
    },
    {
      "cell_type": "code",
      "source": [
        "def transpose_matrix(matrix):\n",
        "    transposed_matrix = []\n",
        "    for j in range(len(matrix[0])):\n",
        "        row = []\n",
        "        for i in range(len(matrix)):\n",
        "            row.append(matrix[i][j])\n",
        "        transposed_matrix.append(row)\n",
        "    return transposed_matrix"
      ],
      "metadata": {
        "id": "WAggehVruiRQ"
      },
      "execution_count": 19,
      "outputs": []
    },
    {
      "cell_type": "markdown",
      "source": [
        "Задача_2: Напишите функцию принимающую на вход только ключевые параметры и возвращающую словарь, где ключ — значение переданного аргумента, а значение — имя аргумента. Если ключ не хешируем, используйте его строковое представление."
      ],
      "metadata": {
        "id": "ZhBkkmU_vFMI"
      }
    },
    {
      "cell_type": "markdown",
      "source": [
        "Для решения этой задачи можно воспользоваться специальным классом `MappingProxyType` из модуля `types`. Этот класс создает неизменяемое представление словаря, где изменения в оригинальном словаре отражаются в созданном представлении. В данном случае мы будем использовать его для создания словаря, где ключи - значения аргументов, а значения - их имена.\n"
      ],
      "metadata": {
        "id": "bal-IHhJxgwR"
      }
    },
    {
      "cell_type": "code",
      "source": [
        "import types\n",
        "\n",
        "def create_dict(**kwargs):\n",
        "    return types.MappingProxyType(kwargs)\n",
        "\n",
        "# Пример использования\n",
        "result = create_dict(a=1, b=2, c=3)\n",
        "print(result)"
      ],
      "metadata": {
        "colab": {
          "base_uri": "https://localhost:8080/"
        },
        "id": "9LJhYTRsxRko",
        "outputId": "2dae0103-f69e-492e-8f3f-5949046ec3d5"
      },
      "execution_count": 22,
      "outputs": [
        {
          "output_type": "stream",
          "name": "stdout",
          "text": [
            "{'a': 1, 'b': 2, 'c': 3}\n"
          ]
        }
      ]
    },
    {
      "cell_type": "markdown",
      "source": [
        "В этом примере функция `create_dict` принимает на вход произвольное количество ключевых параметров `kwargs`. Затем она создает словарь с помощью класса `MappingProxyType` и возвращает его. При использовании функции в качестве ключей будут значения аргументов, а в качестве значений - их имена.\n",
        "\n",
        "Обратите внимание, что словарь, созданный с помощью `types.MappingProxyType`, является неизменяемым, поэтому любые попытки изменить его будут приводить к возникновению ошибки."
      ],
      "metadata": {
        "id": "JQwFc3f-xwJL"
      }
    },
    {
      "cell_type": "markdown",
      "source": [
        "Задача_3: Возьмите задачу о банкомате из семинара 2. Разбейте её на отдельные операции — функции. Дополнительно сохраняйте все операции поступления и снятия средств в список.\n",
        "\n",
        "Начальная сумма равна нулю\n",
        "Допустимые действия: пополнить, снять, выйти\n",
        "Сумма пополнения и снятия кратны 50 у.е.\n",
        "Процент за снятие — 1.5% от суммы снятия, но не менее 30 и не более 600 у.е.\n",
        "После каждой третей операции пополнения или снятия начисляются проценты - 3%\n",
        "Нельзя снять больше, чем на счёте\n",
        "При превышении суммы в 5 млн, вычитать налог на богатство 10% перед каждой операцией, даже ошибочной\n",
        "Любое действие выводит сумму денег"
      ],
      "metadata": {
        "id": "N0JgCmXiytQi"
      }
    },
    {
      "cell_type": "markdown",
      "source": [
        "Операции:\n",
        "- пополнить счет\n",
        "- снять деньги\n",
        "- вывести сумму денег\n",
        "\n",
        "Кроме того, будет необходимо сохранять все операции поступления и снятия средств в отдельный список."
      ],
      "metadata": {
        "id": "44eAxYmq3-Ni"
      }
    },
    {
      "cell_type": "code",
      "source": [
        "# Инициализация начальной суммы счета\n",
        "balance = 0\n",
        "\n",
        "# Инициализация списка операций\n",
        "transactions = []\n",
        "\n",
        "# Функция пополнения счета\n",
        "def deposit(amount):\n",
        "    global balance\n",
        "    balance += amount\n",
        "\n",
        "    # Добавление операции в список\n",
        "    transactions.append(\"Пополнение: +\" + str(amount))\n",
        "\n",
        "# Функция снятия денег\n",
        "def withdraw(amount):\n",
        "    global balance\n",
        "    global transactions\n",
        "\n",
        "    # Проверка на превышение суммы на счете\n",
        "    if amount > balance:\n",
        "        print(\"Недостаточно средств на счете!\")\n",
        "        return\n",
        "\n",
        "    # Проверка на превышение суммы в 5 млн\n",
        "    if balance > 5000000:\n",
        "        tax = balance * 0.1\n",
        "        print(\"Вычитаем налог на богатство:\", tax)\n",
        "        balance -= tax\n",
        "\n",
        "    # Расчет комиссии\n",
        "    commission = max(amount * 0.015, 30)\n",
        "    commission = min(commission, 600)\n",
        "\n",
        "    # Вычитание суммы с учетом комиссии\n",
        "    balance -= (amount + commission)\n",
        "\n",
        "    # Добавление операции в список\n",
        "    transactions.append(\"Снятие: -\" + str(amount) + \" (Комиссия: -\" + str(commission) + \")\")\n",
        "\n",
        "# Функция вывода суммы денег\n",
        "def check_balance():\n",
        "    global balance\n",
        "    print(\"Сумма на счете:\", balance)\n",
        "\n",
        "# Тестирование функций\n",
        "deposit(200) # Пополнение: +200\n",
        "withdraw(100) # Снятие: -100 (Комиссия: -30)\n",
        "check_balance() # Сумма на счете: 70\n",
        "\n",
        "print(transactions) # ['Пополнение: +200', 'Снятие: -100 (Комиссия: -30)']\n"
      ],
      "metadata": {
        "colab": {
          "base_uri": "https://localhost:8080/"
        },
        "id": "LplBy-8d4GqZ",
        "outputId": "2e91f42a-3387-41af-b8ab-2a2fe07e702c"
      },
      "execution_count": 23,
      "outputs": [
        {
          "output_type": "stream",
          "name": "stdout",
          "text": [
            "Сумма на счете: 70\n",
            "['Пополнение: +200', 'Снятие: -100 (Комиссия: -30)']\n"
          ]
        }
      ]
    },
    {
      "cell_type": "markdown",
      "source": [
        "# **Семинар** **5**. Итераторы и генераторы\n",
        "# Домашнее задание 5\n",
        "\n",
        "Задача_1: Напишите функцию, которая принимает на вход строку - абсолютный путь до файла. Функция возвращает кортеж из трёх элементов: путь, имя файла, расширение файла."
      ],
      "metadata": {
        "id": "x8Vocgg95ZMz"
      }
    },
    {
      "cell_type": "code",
      "source": [
        "import os\n",
        "def split_path(path):\n",
        "    directory, filename = os.path.split(path)\n",
        "    name, extension = os.path.splitext(filename)\n",
        "    return directory, name, extension\n",
        "path = \"/path/to/file.txt\"\n",
        "directory, name, extension = split_path(path)\n",
        "print(\"Directory:\", directory)\n",
        "print(\"Name:\", name)\n",
        "print(\"Extension:\", extension)"
      ],
      "metadata": {
        "colab": {
          "base_uri": "https://localhost:8080/"
        },
        "id": "_M9VJSWt6Qsy",
        "outputId": "48e0f7fd-f1f1-4ec8-f9bc-c6cb1fae24c6"
      },
      "execution_count": 29,
      "outputs": [
        {
          "output_type": "stream",
          "name": "stdout",
          "text": [
            "Directory: /path/to\n",
            "Name: file\n",
            "Extension: .txt\n"
          ]
        }
      ]
    },
    {
      "cell_type": "markdown",
      "source": [
        "Задача_2: Напишите однострочный генератор словаря, который принимает на вход три списка одинаковой длины: имена str, ставка int, премия str с указанием процентов вида “10.25%”. В результате получаем словарь с именем в качестве ключа и суммой премии в качестве значения. Сумма рассчитывается как ставка умноженная на процент премии"
      ],
      "metadata": {
        "id": "P8568I8t7YeG"
      }
    },
    {
      "cell_type": "code",
      "source": [
        "def generate_salary_dict(names_list, salaries_list, bonuses_list):\n",
        "    return {name: salary * (1 + float(bonus.strip('%')) / 100) for name, salary, bonus in zip(names_list, salaries_list, bonuses_list)}\n",
        "\n",
        "names = [\"Yuliya\", \"Ekaterina\", \"Oleg\"]\n",
        "salaries = [10000, 15000, 20000]\n",
        "bonuses = [\"10%\", \"15%\", \"20%\"]\n",
        "\n",
        "salary_dict = generate_salary_dict(names, salaries, bonuses)\n",
        "print(salary_dict)"
      ],
      "metadata": {
        "colab": {
          "base_uri": "https://localhost:8080/"
        },
        "id": "vf-uTbZn8Aac",
        "outputId": "b41a1ecd-05ce-4741-c537-2df0ef40bb5e"
      },
      "execution_count": 33,
      "outputs": [
        {
          "output_type": "stream",
          "name": "stdout",
          "text": [
            "{'Yuliya': 11000.0, 'Ekaterina': 17250.0, 'Oleg': 24000.0}\n"
          ]
        }
      ]
    },
    {
      "cell_type": "markdown",
      "source": [
        "Задача_3: Создайте функцию генератор чисел Фибоначчи"
      ],
      "metadata": {
        "id": "_npfmVh89Eum"
      }
    },
    {
      "cell_type": "code",
      "source": [
        "def fib_generator():\n",
        "    a, b = 0, 1\n",
        "    while True:\n",
        "        yield a\n",
        "        a, b = b, a + b\n",
        "# Пример использования\n",
        "fib = fib_generator()\n",
        "for _ in range(10):\n",
        "    print(next(fib))"
      ],
      "metadata": {
        "colab": {
          "base_uri": "https://localhost:8080/"
        },
        "id": "zI4S4UfB9Tfu",
        "outputId": "0053949e-10fb-4d7c-e039-3e7079da016b"
      },
      "execution_count": 35,
      "outputs": [
        {
          "output_type": "stream",
          "name": "stdout",
          "text": [
            "0\n",
            "1\n",
            "1\n",
            "2\n",
            "3\n",
            "5\n",
            "8\n",
            "13\n",
            "21\n",
            "34\n"
          ]
        }
      ]
    },
    {
      "cell_type": "markdown",
      "source": [
        "В данном примере функция `fib_generator()` является генератором, который будет генерировать числа Фибоначчи по одному каждый раз, когда вызывается функция `next()`. Цикл `for` используется для итерации генератора и вывода первых 10 чисел Фибоначчи."
      ],
      "metadata": {
        "id": "GuYNCTmk-0kG"
      }
    }
  ]
}