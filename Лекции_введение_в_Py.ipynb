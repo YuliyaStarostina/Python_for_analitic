{
  "nbformat": 4,
  "nbformat_minor": 0,
  "metadata": {
    "colab": {
      "provenance": [],
      "include_colab_link": true
    },
    "kernelspec": {
      "name": "python3",
      "display_name": "Python 3"
    },
    "language_info": {
      "name": "python"
    }
  },
  "cells": [
    {
      "cell_type": "markdown",
      "metadata": {
        "id": "view-in-github",
        "colab_type": "text"
      },
      "source": [
        "<a href=\"https://colab.research.google.com/github/YuliyaStarostina/Python_for_analitic/blob/main/%D0%9B%D0%B5%D0%BA%D1%86%D0%B8%D0%B8_%D0%B2%D0%B2%D0%B5%D0%B4%D0%B5%D0%BD%D0%B8%D0%B5_%D0%B2_Py.ipynb\" target=\"_parent\"><img src=\"https://colab.research.google.com/assets/colab-badge.svg\" alt=\"Open In Colab\"/></a>"
      ]
    },
    {
      "cell_type": "markdown",
      "source": [
        "# **Урок 1. Основы Python**"
      ],
      "metadata": {
        "id": "fP14uIp9WYLJ"
      }
    },
    {
      "cell_type": "markdown",
      "source": [
        "#Работа с pip\n"
      ],
      "metadata": {
        "id": "-AkwihFtE6QJ"
      }
    },
    {
      "cell_type": "markdown",
      "source": [
        "Для установки используем команду install далее указываем название\n",
        "устанавливаемого дополнения.\n",
        "Потренируемся с установкой и добавим в проект библиотеку requests. Requests —\n",
        "это простая, но элегантная библиотека для работы с HTTP."
      ],
      "metadata": {
        "id": "oQVuULv4Fz25"
      }
    },
    {
      "cell_type": "code",
      "source": [
        "pip install requests"
      ],
      "metadata": {
        "colab": {
          "base_uri": "https://localhost:8080/"
        },
        "id": "yhazMPRSFJs1",
        "outputId": "ef2380d0-1c95-43a1-b077-b0d3b3b79032"
      },
      "execution_count": null,
      "outputs": [
        {
          "output_type": "stream",
          "name": "stdout",
          "text": [
            "Requirement already satisfied: requests in /usr/local/lib/python3.10/dist-packages (2.31.0)\n",
            "Requirement already satisfied: charset-normalizer<4,>=2 in /usr/local/lib/python3.10/dist-packages (from requests) (3.2.0)\n",
            "Requirement already satisfied: idna<4,>=2.5 in /usr/local/lib/python3.10/dist-packages (from requests) (3.4)\n",
            "Requirement already satisfied: urllib3<3,>=1.21.1 in /usr/local/lib/python3.10/dist-packages (from requests) (2.0.4)\n",
            "Requirement already satisfied: certifi>=2017.4.17 in /usr/local/lib/python3.10/dist-packages (from requests) (2023.7.22)\n"
          ]
        }
      ]
    },
    {
      "cell_type": "markdown",
      "source": [
        "\"Пип\" скачает и установит библиотеку requests последней версии в папку venv\n",
        "виртуального окружения. В основной системе и в других окружениях библиотеки не\n",
        "будет."
      ],
      "metadata": {
        "id": "Tkh7Lz6ZF4gV"
      }
    },
    {
      "cell_type": "markdown",
      "source": [
        "Убедимся, что установка прошла успешно. Выполним команду"
      ],
      "metadata": {
        "id": "S0ZEYW_QF926"
      }
    },
    {
      "cell_type": "code",
      "source": [
        "pip freeze"
      ],
      "metadata": {
        "colab": {
          "base_uri": "https://localhost:8080/"
        },
        "id": "BbUtCLpnF-wg",
        "outputId": "65159266-59b5-4178-9c1d-4d6b5440f274"
      },
      "execution_count": null,
      "outputs": [
        {
          "output_type": "stream",
          "name": "stdout",
          "text": [
            "absl-py==1.4.0\n",
            "aiohttp==3.8.5\n",
            "aiosignal==1.3.1\n",
            "alabaster==0.7.13\n",
            "albumentations==1.3.1\n",
            "altair==4.2.2\n",
            "anyio==3.7.1\n",
            "appdirs==1.4.4\n",
            "argon2-cffi==23.1.0\n",
            "argon2-cffi-bindings==21.2.0\n",
            "array-record==0.4.1\n",
            "arviz==0.15.1\n",
            "astropy==5.3.3\n",
            "astunparse==1.6.3\n",
            "async-timeout==4.0.3\n",
            "attrs==23.1.0\n",
            "audioread==3.0.0\n",
            "autograd==1.6.2\n",
            "Babel==2.12.1\n",
            "backcall==0.2.0\n",
            "beautifulsoup4==4.11.2\n",
            "bleach==6.0.0\n",
            "blinker==1.4\n",
            "blis==0.7.10\n",
            "blosc2==2.0.0\n",
            "bokeh==3.2.2\n",
            "bqplot==0.12.40\n",
            "branca==0.6.0\n",
            "build==1.0.3\n",
            "CacheControl==0.13.1\n",
            "cachetools==5.3.1\n",
            "catalogue==2.0.9\n",
            "certifi==2023.7.22\n",
            "cffi==1.15.1\n",
            "chardet==5.2.0\n",
            "charset-normalizer==3.2.0\n",
            "chex==0.1.7\n",
            "click==8.1.7\n",
            "click-plugins==1.1.1\n",
            "cligj==0.7.2\n",
            "cloudpickle==2.2.1\n",
            "cmake==3.27.4.1\n",
            "cmdstanpy==1.1.0\n",
            "colorcet==3.0.1\n",
            "colorlover==0.3.0\n",
            "colour==0.1.5\n",
            "community==1.0.0b1\n",
            "confection==0.1.2\n",
            "cons==0.4.6\n",
            "contextlib2==21.6.0\n",
            "contourpy==1.1.0\n",
            "convertdate==2.4.0\n",
            "cryptography==41.0.3\n",
            "cufflinks==0.17.3\n",
            "cvxopt==1.3.2\n",
            "cvxpy==1.3.2\n",
            "cycler==0.11.0\n",
            "cymem==2.0.7\n",
            "Cython==3.0.2\n",
            "dask==2023.8.1\n",
            "datascience==0.17.6\n",
            "db-dtypes==1.1.1\n",
            "dbus-python==1.2.18\n",
            "debugpy==1.6.6\n",
            "decorator==4.4.2\n",
            "defusedxml==0.7.1\n",
            "distributed==2023.8.1\n",
            "distro==1.7.0\n",
            "dlib==19.24.2\n",
            "dm-tree==0.1.8\n",
            "docutils==0.18.1\n",
            "dopamine-rl==4.0.6\n",
            "duckdb==0.8.1\n",
            "earthengine-api==0.1.368\n",
            "easydict==1.10\n",
            "ecos==2.0.12\n",
            "editdistance==0.6.2\n",
            "eerepr==0.0.4\n",
            "en-core-web-sm @ https://github.com/explosion/spacy-models/releases/download/en_core_web_sm-3.6.0/en_core_web_sm-3.6.0-py3-none-any.whl#sha256=83276fc78a70045627144786b52e1f2728ad5e29e5e43916ec37ea9c26a11212\n",
            "entrypoints==0.4\n",
            "ephem==4.1.4\n",
            "et-xmlfile==1.1.0\n",
            "etils==1.4.1\n",
            "etuples==0.3.9\n",
            "exceptiongroup==1.1.3\n",
            "fastai==2.7.12\n",
            "fastcore==1.5.29\n",
            "fastdownload==0.0.7\n",
            "fastjsonschema==2.18.0\n",
            "fastprogress==1.0.3\n",
            "fastrlock==0.8.2\n",
            "filelock==3.12.2\n",
            "Fiona==1.9.4.post1\n",
            "firebase-admin==5.3.0\n",
            "Flask==2.2.5\n",
            "flatbuffers==23.5.26\n",
            "flax==0.7.2\n",
            "folium==0.14.0\n",
            "fonttools==4.42.1\n",
            "frozendict==2.3.8\n",
            "frozenlist==1.4.0\n",
            "fsspec==2023.6.0\n",
            "future==0.18.3\n",
            "gast==0.4.0\n",
            "gcsfs==2023.6.0\n",
            "GDAL==3.4.3\n",
            "gdown==4.6.6\n",
            "geemap==0.26.0\n",
            "gensim==4.3.2\n",
            "geocoder==1.38.1\n",
            "geographiclib==2.0\n",
            "geopandas==0.13.2\n",
            "geopy==2.3.0\n",
            "gin-config==0.5.0\n",
            "glob2==0.7\n",
            "google==2.0.3\n",
            "google-api-core==2.11.1\n",
            "google-api-python-client==2.84.0\n",
            "google-auth==2.17.3\n",
            "google-auth-httplib2==0.1.0\n",
            "google-auth-oauthlib==1.0.0\n",
            "google-cloud-bigquery==3.10.0\n",
            "google-cloud-bigquery-connection==1.12.1\n",
            "google-cloud-bigquery-storage==2.22.0\n",
            "google-cloud-core==2.3.3\n",
            "google-cloud-datastore==2.15.2\n",
            "google-cloud-firestore==2.11.1\n",
            "google-cloud-functions==1.13.2\n",
            "google-cloud-language==2.9.1\n",
            "google-cloud-storage==2.8.0\n",
            "google-cloud-translate==3.11.3\n",
            "google-colab @ file:///colabtools/dist/google-colab-1.0.0.tar.gz#sha256=d7ca28cf0cd540f8806889b4413fe8d5bfa6732cb77d9e567be069fc4e765870\n",
            "google-crc32c==1.5.0\n",
            "google-pasta==0.2.0\n",
            "google-resumable-media==2.6.0\n",
            "googleapis-common-protos==1.60.0\n",
            "googledrivedownloader==0.4\n",
            "graphviz==0.20.1\n",
            "greenlet==2.0.2\n",
            "grpc-google-iam-v1==0.12.6\n",
            "grpcio==1.57.0\n",
            "grpcio-status==1.48.2\n",
            "gspread==3.4.2\n",
            "gspread-dataframe==3.3.1\n",
            "gym==0.25.2\n",
            "gym-notices==0.0.8\n",
            "h5netcdf==1.2.0\n",
            "h5py==3.9.0\n",
            "holidays==0.32\n",
            "holoviews==1.17.1\n",
            "html5lib==1.1\n",
            "httpimport==1.3.1\n",
            "httplib2==0.22.0\n",
            "humanize==4.7.0\n",
            "hyperopt==0.2.7\n",
            "idna==3.4\n",
            "imageio==2.31.3\n",
            "imageio-ffmpeg==0.4.8\n",
            "imagesize==1.4.1\n",
            "imbalanced-learn==0.10.1\n",
            "imgaug==0.4.0\n",
            "importlib-metadata==6.8.0\n",
            "importlib-resources==6.0.1\n",
            "imutils==0.5.4\n",
            "inflect==7.0.0\n",
            "iniconfig==2.0.0\n",
            "intel-openmp==2023.2.0\n",
            "ipyevents==2.0.2\n",
            "ipyfilechooser==0.6.0\n",
            "ipykernel==5.5.6\n",
            "ipyleaflet==0.17.3\n",
            "ipython==7.34.0\n",
            "ipython-genutils==0.2.0\n",
            "ipython-sql==0.5.0\n",
            "ipytree==0.2.2\n",
            "ipywidgets==7.7.1\n",
            "itsdangerous==2.1.2\n",
            "jax==0.4.14\n",
            "jaxlib @ https://storage.googleapis.com/jax-releases/cuda11/jaxlib-0.4.14+cuda11.cudnn86-cp310-cp310-manylinux2014_x86_64.whl#sha256=09c439923a785df517e3f470158dd3e46de454a01eca80935eed4ba383b5e90a\n",
            "jeepney==0.7.1\n",
            "jieba==0.42.1\n",
            "Jinja2==3.1.2\n",
            "joblib==1.3.2\n",
            "jsonpickle==3.0.2\n",
            "jsonschema==4.19.0\n",
            "jsonschema-specifications==2023.7.1\n",
            "jupyter-client==6.1.12\n",
            "jupyter-console==6.1.0\n",
            "jupyter-server==1.24.0\n",
            "jupyter_core==5.3.1\n",
            "jupyterlab-pygments==0.2.2\n",
            "jupyterlab-widgets==3.0.8\n",
            "kaggle==1.5.16\n",
            "keras==2.13.1\n",
            "keyring==23.5.0\n",
            "kiwisolver==1.4.5\n",
            "langcodes==3.3.0\n",
            "launchpadlib==1.10.16\n",
            "lazr.restfulclient==0.14.4\n",
            "lazr.uri==1.0.6\n",
            "lazy_loader==0.3\n",
            "libclang==16.0.6\n",
            "librosa==0.10.1\n",
            "lightgbm==4.0.0\n",
            "linkify-it-py==2.0.2\n",
            "lit==16.0.6\n",
            "llvmlite==0.39.1\n",
            "locket==1.0.0\n",
            "logical-unification==0.4.6\n",
            "LunarCalendar==0.0.9\n",
            "lxml==4.9.3\n",
            "Markdown==3.4.4\n",
            "markdown-it-py==3.0.0\n",
            "MarkupSafe==2.1.3\n",
            "matplotlib==3.7.1\n",
            "matplotlib-inline==0.1.6\n",
            "matplotlib-venn==0.11.9\n",
            "mdit-py-plugins==0.4.0\n",
            "mdurl==0.1.2\n",
            "miniKanren==1.0.3\n",
            "missingno==0.5.2\n",
            "mistune==0.8.4\n",
            "mizani==0.9.3\n",
            "mkl==2023.2.0\n",
            "ml-dtypes==0.2.0\n",
            "mlxtend==0.22.0\n",
            "more-itertools==10.1.0\n",
            "moviepy==1.0.3\n",
            "mpmath==1.3.0\n",
            "msgpack==1.0.5\n",
            "multidict==6.0.4\n",
            "multipledispatch==1.0.0\n",
            "multitasking==0.0.11\n",
            "murmurhash==1.0.9\n",
            "music21==9.1.0\n",
            "natsort==8.4.0\n",
            "nbclassic==1.0.0\n",
            "nbclient==0.8.0\n",
            "nbconvert==6.5.4\n",
            "nbformat==5.9.2\n",
            "nest-asyncio==1.5.7\n",
            "networkx==3.1\n",
            "nibabel==4.0.2\n",
            "nltk==3.8.1\n",
            "notebook==6.5.5\n",
            "notebook_shim==0.2.3\n",
            "numba==0.56.4\n",
            "numexpr==2.8.5\n",
            "numpy==1.23.5\n",
            "oauth2client==4.1.3\n",
            "oauthlib==3.2.2\n",
            "opencv-contrib-python==4.8.0.76\n",
            "opencv-python==4.8.0.76\n",
            "opencv-python-headless==4.8.0.76\n",
            "openpyxl==3.1.2\n",
            "opt-einsum==3.3.0\n",
            "optax==0.1.7\n",
            "orbax-checkpoint==0.3.5\n",
            "osqp==0.6.2.post8\n",
            "packaging==23.1\n",
            "pandas==1.5.3\n",
            "pandas-datareader==0.10.0\n",
            "pandas-gbq==0.17.9\n",
            "pandocfilters==1.5.0\n",
            "panel==1.2.2\n",
            "param==1.13.0\n",
            "parso==0.8.3\n",
            "partd==1.4.0\n",
            "pathlib==1.0.1\n",
            "pathy==0.10.2\n",
            "patsy==0.5.3\n",
            "pexpect==4.8.0\n",
            "pickleshare==0.7.5\n",
            "Pillow==9.4.0\n",
            "pip-tools==6.13.0\n",
            "platformdirs==3.10.0\n",
            "plotly==5.15.0\n",
            "plotnine==0.12.3\n",
            "pluggy==1.3.0\n",
            "polars==0.17.3\n",
            "pooch==1.7.0\n",
            "portpicker==1.5.2\n",
            "prefetch-generator==1.0.3\n",
            "preshed==3.0.8\n",
            "prettytable==3.8.0\n",
            "proglog==0.1.10\n",
            "progressbar2==4.2.0\n",
            "prometheus-client==0.17.1\n",
            "promise==2.3\n",
            "prompt-toolkit==3.0.39\n",
            "prophet==1.1.4\n",
            "proto-plus==1.22.3\n",
            "protobuf==3.20.3\n",
            "psutil==5.9.5\n",
            "psycopg2==2.9.7\n",
            "ptyprocess==0.7.0\n",
            "py-cpuinfo==9.0.0\n",
            "py4j==0.10.9.7\n",
            "pyarrow==9.0.0\n",
            "pyasn1==0.5.0\n",
            "pyasn1-modules==0.3.0\n",
            "pycocotools==2.0.7\n",
            "pycparser==2.21\n",
            "pyct==0.5.0\n",
            "pydantic==1.10.12\n",
            "pydata-google-auth==1.8.2\n",
            "pydot==1.4.2\n",
            "pydot-ng==2.0.0\n",
            "pydotplus==2.0.2\n",
            "PyDrive==1.3.1\n",
            "PyDrive2==1.6.3\n",
            "pyerfa==2.0.0.3\n",
            "pygame==2.5.1\n",
            "Pygments==2.16.1\n",
            "PyGObject==3.42.1\n",
            "PyJWT==2.3.0\n",
            "pymc==5.7.2\n",
            "PyMeeus==0.5.12\n",
            "pymystem3==0.2.0\n",
            "PyOpenGL==3.1.7\n",
            "pyOpenSSL==23.2.0\n",
            "pyparsing==3.1.1\n",
            "pyperclip==1.8.2\n",
            "pyproj==3.6.0\n",
            "pyproject_hooks==1.0.0\n",
            "pyshp==2.3.1\n",
            "PySocks==1.7.1\n",
            "pytensor==2.14.2\n",
            "pytest==7.4.1\n",
            "python-apt==0.0.0\n",
            "python-box==7.1.1\n",
            "python-dateutil==2.8.2\n",
            "python-louvain==0.16\n",
            "python-slugify==8.0.1\n",
            "python-utils==3.7.0\n",
            "pytz==2023.3.post1\n",
            "pyviz_comms==3.0.0\n",
            "PyWavelets==1.4.1\n",
            "PyYAML==6.0.1\n",
            "pyzmq==23.2.1\n",
            "qdldl==0.1.7.post0\n",
            "qudida==0.0.4\n",
            "ratelim==0.1.6\n",
            "referencing==0.30.2\n",
            "regex==2023.6.3\n",
            "requests==2.31.0\n",
            "requests-oauthlib==1.3.1\n",
            "requirements-parser==0.5.0\n",
            "rich==13.5.2\n",
            "rpds-py==0.10.2\n",
            "rpy2==3.4.2\n",
            "rsa==4.9\n",
            "scikit-image==0.19.3\n",
            "scikit-learn==1.2.2\n",
            "scipy==1.11.2\n",
            "scooby==0.7.2\n",
            "scs==3.2.3\n",
            "seaborn==0.12.2\n",
            "SecretStorage==3.3.1\n",
            "Send2Trash==1.8.2\n",
            "shapely==2.0.1\n",
            "six==1.16.0\n",
            "sklearn-pandas==2.2.0\n",
            "smart-open==6.4.0\n",
            "sniffio==1.3.0\n",
            "snowballstemmer==2.2.0\n",
            "sortedcontainers==2.4.0\n",
            "soundfile==0.12.1\n",
            "soupsieve==2.5\n",
            "soxr==0.3.6\n",
            "spacy==3.6.1\n",
            "spacy-legacy==3.0.12\n",
            "spacy-loggers==1.0.4\n",
            "Sphinx==5.0.2\n",
            "sphinxcontrib-applehelp==1.0.7\n",
            "sphinxcontrib-devhelp==1.0.5\n",
            "sphinxcontrib-htmlhelp==2.0.4\n",
            "sphinxcontrib-jsmath==1.0.1\n",
            "sphinxcontrib-qthelp==1.0.6\n",
            "sphinxcontrib-serializinghtml==1.1.9\n",
            "SQLAlchemy==2.0.20\n",
            "sqlparse==0.4.4\n",
            "srsly==2.4.7\n",
            "statsmodels==0.14.0\n",
            "sympy==1.12\n",
            "tables==3.8.0\n",
            "tabulate==0.9.0\n",
            "tbb==2021.10.0\n",
            "tblib==2.0.0\n",
            "tenacity==8.2.3\n",
            "tensorboard==2.13.0\n",
            "tensorboard-data-server==0.7.1\n",
            "tensorflow==2.13.0\n",
            "tensorflow-datasets==4.9.2\n",
            "tensorflow-estimator==2.13.0\n",
            "tensorflow-gcs-config==2.13.0\n",
            "tensorflow-hub==0.14.0\n",
            "tensorflow-io-gcs-filesystem==0.33.0\n",
            "tensorflow-metadata==1.14.0\n",
            "tensorflow-probability==0.20.1\n",
            "tensorstore==0.1.41\n",
            "termcolor==2.3.0\n",
            "terminado==0.17.1\n",
            "text-unidecode==1.3\n",
            "textblob==0.17.1\n",
            "tf-slim==1.1.0\n",
            "thinc==8.1.12\n",
            "threadpoolctl==3.2.0\n",
            "tifffile==2023.8.30\n",
            "tinycss2==1.2.1\n",
            "toml==0.10.2\n",
            "tomli==2.0.1\n",
            "toolz==0.12.0\n",
            "torch @ https://download.pytorch.org/whl/cu118/torch-2.0.1%2Bcu118-cp310-cp310-linux_x86_64.whl#sha256=a7a49d459bf4862f64f7bc1a68beccf8881c2fa9f3e0569608e16ba6f85ebf7b\n",
            "torchaudio @ https://download.pytorch.org/whl/cu118/torchaudio-2.0.2%2Bcu118-cp310-cp310-linux_x86_64.whl#sha256=26692645ea061a005c57ec581a2d0425210ac6ba9f923edf11cc9b0ef3a111e9\n",
            "torchdata==0.6.1\n",
            "torchsummary==1.5.1\n",
            "torchtext==0.15.2\n",
            "torchvision @ https://download.pytorch.org/whl/cu118/torchvision-0.15.2%2Bcu118-cp310-cp310-linux_x86_64.whl#sha256=19ca4ab5d6179bbe53cff79df1a855ee6533c2861ddc7389f68349d8b9f8302a\n",
            "tornado==6.3.2\n",
            "tqdm==4.66.1\n",
            "traitlets==5.7.1\n",
            "traittypes==0.2.1\n",
            "triton==2.0.0\n",
            "tweepy==4.13.0\n",
            "typer==0.9.0\n",
            "types-setuptools==68.2.0.0\n",
            "typing_extensions==4.5.0\n",
            "tzlocal==5.0.1\n",
            "uc-micro-py==1.0.2\n",
            "uritemplate==4.1.1\n",
            "urllib3==2.0.4\n",
            "vega-datasets==0.9.0\n",
            "wadllib==1.3.6\n",
            "wasabi==1.1.2\n",
            "wcwidth==0.2.6\n",
            "webcolors==1.13\n",
            "webencodings==0.5.1\n",
            "websocket-client==1.6.2\n",
            "Werkzeug==2.3.7\n",
            "widgetsnbextension==3.6.5\n",
            "wordcloud==1.9.2\n",
            "wrapt==1.15.0\n",
            "xarray==2023.7.0\n",
            "xarray-einstats==0.6.0\n",
            "xgboost==1.7.6\n",
            "xlrd==2.0.1\n",
            "xyzservices==2023.7.0\n",
            "yarl==1.9.2\n",
            "yellowbrick==1.5\n",
            "yfinance==0.2.28\n",
            "zict==3.0.0\n",
            "zipp==3.16.2\n"
          ]
        }
      ]
    },
    {
      "cell_type": "markdown",
      "source": [
        "Мы получили список всех дополнений внутри нашего виртуального окружения.\n",
        "Помимо requests были скачаны библиотеки зависимости, необходимые для работы\n",
        "requests. Данный процесс автоматизирован. Зависимости указывает разработчик, а\n",
        "pip рекурсивно их устанавливает."
      ],
      "metadata": {
        "id": "2qoeeGwaGE9D"
      }
    },
    {
      "cell_type": "markdown",
      "source": [
        "Чтобы в будущем облегчить развертывание проекта на новом/боевом/тестовом\n",
        "сервере, используют файл **requirements**.txt В него помещают перечень всех уже\n",
        "установленных дополнений. Для этого используют команду"
      ],
      "metadata": {
        "id": "Fx3eI7ddGPWD"
      }
    },
    {
      "cell_type": "code",
      "source": [
        "pip freeze > requirements.txt"
      ],
      "metadata": {
        "id": "KXtsJQ-XGcNR"
      },
      "execution_count": null,
      "outputs": []
    },
    {
      "cell_type": "code",
      "source": [
        "my_list = [2, 4, 6, 2, 8, 10, 12, 2, 4, 14, 2]\n",
        "spam = my_list.index(4)"
      ],
      "metadata": {
        "id": "r2kdo4t3hZXw"
      },
      "execution_count": null,
      "outputs": []
    },
    {
      "cell_type": "markdown",
      "source": [
        "Для быстрой установки в новое окружение всего содержимого файла используется\n",
        "команда"
      ],
      "metadata": {
        "id": "sQ4wXlNkGjCf"
      }
    },
    {
      "cell_type": "code",
      "source": [
        "pip install -r requirements.txt"
      ],
      "metadata": {
        "colab": {
          "base_uri": "https://localhost:8080/"
        },
        "id": "UlV_T_XEGmcD",
        "outputId": "e079a0f6-3499-4316-d407-bc072be14779"
      },
      "execution_count": null,
      "outputs": [
        {
          "output_type": "stream",
          "name": "stdout",
          "text": [
            "Collecting en-core-web-sm@ https://github.com/explosion/spacy-models/releases/download/en_core_web_sm-3.6.0/en_core_web_sm-3.6.0-py3-none-any.whl#sha256=83276fc78a70045627144786b52e1f2728ad5e29e5e43916ec37ea9c26a11212 (from -r requirements.txt (line 79))\n",
            "  Downloading https://github.com/explosion/spacy-models/releases/download/en_core_web_sm-3.6.0/en_core_web_sm-3.6.0-py3-none-any.whl (12.8 MB)\n",
            "\u001b[2K     \u001b[90m━━━━━━━━━━━━━━━━━━━━━━━━━━━━━━━━━━━━━━━━\u001b[0m \u001b[32m12.8/12.8 MB\u001b[0m \u001b[31m23.5 MB/s\u001b[0m eta \u001b[36m0:00:00\u001b[0m\n",
            "\u001b[?25hProcessing /colabtools/dist/google-colab-1.0.0.tar.gz (from -r requirements.txt (line 132))\n",
            "\u001b[31mERROR: Could not install packages due to an OSError: [Errno 2] No such file or directory: '/colabtools/dist/google-colab-1.0.0.tar.gz'\n",
            "\u001b[0m\u001b[31m\n",
            "\u001b[0m"
          ]
        }
      ]
    },
    {
      "cell_type": "markdown",
      "source": [
        "# Переменные и требования к именам\n",
        "В Python всё объект. Числа, строки, массивы и даже функции и классы являются\n",
        "объектом. Переменная в Python является указателем на объект. Разберём на\n",
        "примере.\n"
      ],
      "metadata": {
        "id": "p1wLeF5sG8VH"
      }
    },
    {
      "cell_type": "code",
      "source": [
        "a = 5"
      ],
      "metadata": {
        "id": "yuUmVL2bHB7h"
      },
      "execution_count": null,
      "outputs": []
    },
    {
      "cell_type": "markdown",
      "source": [
        "Переменная \"a\" хранит значение \"5\". Верно. Также верно, что Python создал объект\n",
        "целого типа 5 (о типах данных мы поговорим на следующих лекциях). Далее была\n",
        "создана переменная \"a\" которая является указателем на объект целого типа число\n",
        "пять.\n",
        "\n",
        "Python является языком со строгой динамической типизацией. Это означает что тип\n",
        "объекта изменить невозможно он строго задаётся при создании объекта. При этом\n",
        "переменные могут ссылаться на объекты разных типов. И это не вызывает ошибки."
      ],
      "metadata": {
        "id": "9uImEi_LHEno"
      }
    },
    {
      "cell_type": "code",
      "source": [
        "a = 5\n",
        "a = \"hello world\"\n",
        "a = 42.0 * 3.141592 / 2.71828"
      ],
      "metadata": {
        "id": "PZ7Ug5WEHKrL"
      },
      "execution_count": null,
      "outputs": []
    },
    {
      "cell_type": "markdown",
      "source": [
        "PEP-8! Обратите внимание на отступы в один пробел вокруг\n",
        "математических знаков \"=\", \"*\" и др. Это требование по оформлению\n",
        "кода, которое повышает его читаемость.\n",
        "## 🔥 Важно! Использование одной и той же переменной для разных типов\n",
        "данных является плохим стилем. Предварительная инициализация переменных\n",
        "в языке не нужна. Вы можете использовать переменную в том месте где оно\n",
        "понадобилось. Даже если уже написали несколько сотен строк кода."
      ],
      "metadata": {
        "id": "tdV-LPq2HYUL"
      }
    },
    {
      "cell_type": "markdown",
      "source": [
        "Что ещё нужно знать когда речь идёт о переменных и их именах:\n",
        "\n",
        "● Python использует кодировку utf-8. Поэтому в качестве имени переменной\n",
        "может выступать любой набор символов, даже смайлик. Однако правильные\n",
        "имена это имена на латинице, т.е. английские строчные буквы, слова.\n",
        "Например name, age.\n",
        "\n",
        "● Если название переменной состоит из нескольких слов такие слова\n",
        "записываются строчными буквами разделяются символом подчёркивания.\n",
        "Этот стиль называется snake_case.\n",
        "\n",
        "● В качестве первого символа в имени переменной запрещено использовать\n",
        "цифры и другие знаки пунктуации в этом случае Python выдаст ошибку. Имя\n",
        "начинается с буквы или символа подчёркивания.\n",
        "\n",
        "● Не используйте написание слов на транслите. Воспользуйтесь онлайн\n",
        "переводчиком на английский. Не zdorove, а health."
      ],
      "metadata": {
        "id": "qGa8xjjrHgso"
      }
    },
    {
      "cell_type": "markdown",
      "source": [
        "# Константы\n",
        "Дополнительных команд для создания констант в языке Python нет. Есть лишь\n",
        "договорённость что константа — это переменная написанное прописными буквами.\n",
        "Примеры констант.\n"
      ],
      "metadata": {
        "id": "jgc6FINNHocn"
      }
    },
    {
      "cell_type": "code",
      "source": [
        "MAX_COUNT = 1000\n",
        "ZERO = 0\n",
        "DATA_AFTER_DELETE = 'No data'\n",
        "DAY = 60 * 60 * 24\n"
      ],
      "metadata": {
        "id": "KUORhoXUHsTT"
      },
      "execution_count": null,
      "outputs": []
    },
    {
      "cell_type": "markdown",
      "source": [
        "Константа в программировании — способ адресации данных, изменение которых\n",
        "программой не предполагается или запрещается. Python не вызовет исключение,\n",
        "если вы измените константу внутри кода. Но подобные действия со стороны\n",
        "программиста являются неверными.\n",
        "\n",
        "# True, False, None\n",
        "Отдельно хочу выделить три встроенные в язык Python константы. Это истина True,\n",
        "ложь False и ничего None. Первая буква строчная остальные прописные. Истину или\n",
        "ложь мы получаем в результате логических операций. О них мы поговорим чуть\n",
        "позже Значение None означает \"ничего\". Его можно использовать для создания\n",
        "переменной, значение которой изначально мы не знаем. Также None возвращают\n",
        "некоторые функции, результат работы которых не подразумевает возврат значения."
      ],
      "metadata": {
        "id": "6TA7rgTiH-01"
      }
    },
    {
      "cell_type": "markdown",
      "source": [
        "# Функция id()\n",
        "Вернёмся к тому что в Python всё объект, а переменная является ссылкой на объект.\n",
        "Воспользуемся встроенной функцией id(), которая возвращает адрес объекта в\n",
        "оперативной памяти вашего компьютера."
      ],
      "metadata": {
        "id": "BTakYIwaIFXA"
      }
    },
    {
      "cell_type": "code",
      "source": [
        "a = 5\n",
        "print(id(a))\n",
        "a = \"hello world\"\n",
        "print(id(a))\n",
        "a = 42.0 * 3.141592 / 2.71828\n",
        "print(id(a))"
      ],
      "metadata": {
        "colab": {
          "base_uri": "https://localhost:8080/"
        },
        "id": "95AvWfMXII4j",
        "outputId": "f07ebe4d-057b-42b8-d7b4-3d3919bf22f9"
      },
      "execution_count": null,
      "outputs": [
        {
          "output_type": "stream",
          "name": "stdout",
          "text": [
            "136072464253296\n",
            "136072051794288\n",
            "136072039628752\n"
          ]
        }
      ]
    },
    {
      "cell_type": "markdown",
      "source": [
        "В отличие от режима интерпретатора, запуск программных файлов не выводит\n",
        "значения на экран. Поэтому мы используем функцию print(), внутри которой\n",
        "передаём вызов функции id(a). Как вы видите одна и та же переменная возвращает\n",
        "три разных адреса для трёх разных объектов в памяти Python."
      ],
      "metadata": {
        "id": "ho-1R1McIMsx"
      }
    },
    {
      "cell_type": "markdown",
      "source": [
        "# Зарезервированные слова, keyword.kwlist\n",
        "Существует чуть менее 40 зарезервированных слов, которые образуют базовый\n",
        "синтаксис языка Python. Ниже представлены они все.\n",
        "False, None, True, and, as, assert, async, await, break, class,\n",
        "continue, def, del, elif, else, except, finally, for, from,\n",
        "global, if, import, in, is, lambda, nonlocal, not, or, pass,\n",
        "raise, return, try, while, with, yield.\n",
        "\n",
        "А также case и match начиная с версии Python 3.10.\n",
        "Первую Троицу из списка мы разобрали, когда говорили о встроенных в Python\n",
        "константах. О остальных зарезервированных словах мы будем говорить далее на\n",
        "протяжении всего курса. Уверен, что некоторые слова вам знакомы по прошлым\n",
        "курсам и другим языкам программирования."
      ],
      "metadata": {
        "id": "w4u5y4pXIeJH"
      }
    },
    {
      "cell_type": "markdown",
      "source": [
        "Важно! Запрещено использовать в качестве имён переменных\n",
        "зарезервированные слова. Python завершить код с ошибкой.\n"
      ],
      "metadata": {
        "id": "mbrYwstmIkGv"
      }
    },
    {
      "cell_type": "markdown",
      "source": [
        "# Ввод и вывод данных\n",
        "Для ввода и вывода данных в консоль поэтому используются стандартные потоки\n",
        "ввода-вывода. Однако программист не работает с ними напрямую, а использует\n",
        "встроенные в язык функции print() для вывода данных и input() для ввода данных и\n",
        "сохранение в переменные.\n",
        "\n",
        "## Вывод, функция print()"
      ],
      "metadata": {
        "id": "3NlX_ty-Ix1k"
      }
    },
    {
      "cell_type": "code",
      "source": [
        "print(*objects, sep=' ', end='\\n', file=sys.stdout, flush=False)"
      ],
      "metadata": {
        "colab": {
          "base_uri": "https://localhost:8080/",
          "height": 176
        },
        "id": "sZ92Xh47I9wT",
        "outputId": "38ec696f-ce21-4ca7-a12b-9cbf65e561c9"
      },
      "execution_count": null,
      "outputs": [
        {
          "output_type": "error",
          "ename": "NameError",
          "evalue": "ignored",
          "traceback": [
            "\u001b[0;31m---------------------------------------------------------------------------\u001b[0m",
            "\u001b[0;31mNameError\u001b[0m                                 Traceback (most recent call last)",
            "\u001b[0;32m<ipython-input-7-43f7fbeca32a>\u001b[0m in \u001b[0;36m<cell line: 1>\u001b[0;34m()\u001b[0m\n\u001b[0;32m----> 1\u001b[0;31m \u001b[0mprint\u001b[0m\u001b[0;34m(\u001b[0m\u001b[0;34m*\u001b[0m\u001b[0mobjects\u001b[0m\u001b[0;34m,\u001b[0m \u001b[0msep\u001b[0m\u001b[0;34m=\u001b[0m\u001b[0;34m' '\u001b[0m\u001b[0;34m,\u001b[0m \u001b[0mend\u001b[0m\u001b[0;34m=\u001b[0m\u001b[0;34m'\\n'\u001b[0m\u001b[0;34m,\u001b[0m \u001b[0mfile\u001b[0m\u001b[0;34m=\u001b[0m\u001b[0msys\u001b[0m\u001b[0;34m.\u001b[0m\u001b[0mstdout\u001b[0m\u001b[0;34m,\u001b[0m \u001b[0mflush\u001b[0m\u001b[0;34m=\u001b[0m\u001b[0;32mFalse\u001b[0m\u001b[0;34m)\u001b[0m\u001b[0;34m\u001b[0m\u001b[0;34m\u001b[0m\u001b[0m\n\u001b[0m",
            "\u001b[0;31mNameError\u001b[0m: name 'objects' is not defined"
          ]
        }
      ]
    },
    {
      "cell_type": "markdown",
      "source": [
        "Функция print() принимает один или несколько объектов разделённых запятыми и\n",
        "выводят их на печать По умолчанию это вывод в консоль, т.е. стандартный поток\n",
        "вывода."
      ],
      "metadata": {
        "id": "8RfqFYQ6JF_K"
      }
    },
    {
      "cell_type": "code",
      "source": [
        "print(42)\n",
        "print(1, 2, 3, 4)\n",
        "print('Hello', ',', 'world', '!')"
      ],
      "metadata": {
        "colab": {
          "base_uri": "https://localhost:8080/"
        },
        "id": "jtYmOKtbJI0r",
        "outputId": "81c8fc3f-c48d-421e-d21d-f8a517bf3a85"
      },
      "execution_count": null,
      "outputs": [
        {
          "output_type": "stream",
          "name": "stdout",
          "text": [
            "42\n",
            "1 2 3 4\n",
            "Hello , world !\n"
          ]
        }
      ]
    },
    {
      "cell_type": "markdown",
      "source": [
        "Отдельно уточню про два ключевых аргумента sep и end.\n",
        "sep по умолчанию хранит один пробел. Именно этим символом разделяются все\n",
        "объекты, перечисленные через запятую.\n",
        "end по умолчанию хранит символ перехода на новую строку '\\n'. Это то, что функция\n",
        "print добавляет после вывода всех объектов."
      ],
      "metadata": {
        "id": "WnANtiJNJOXa"
      }
    },
    {
      "cell_type": "code",
      "source": [
        "print(42, sep='___', end='\\n(=^.^=)\\n')\n",
        "print(1, 2, 3, 4, sep='___', end='\\n(=^.^=)\\n')\n",
        "print('Hello', ',', 'world', '!', sep='___', end='\\n(=^.^=)\\n')"
      ],
      "metadata": {
        "colab": {
          "base_uri": "https://localhost:8080/"
        },
        "id": "1B4DUtPTJSzy",
        "outputId": "d84db23a-acdb-406f-e762-dd2345871910"
      },
      "execution_count": null,
      "outputs": [
        {
          "output_type": "stream",
          "name": "stdout",
          "text": [
            "42\n",
            "(=^.^=)\n",
            "1___2___3___4\n",
            "(=^.^=)\n",
            "Hello___,___world___!\n",
            "(=^.^=)\n"
          ]
        }
      ]
    },
    {
      "cell_type": "markdown",
      "source": [
        "Обратите внимание, что текст, заключённый в одинарные или двойные кавычки,\n",
        "выводится без изменения. Python воспринимает его как строковую информацию.\n",
        "Для вывода содержимого переменных мы указываем имя переменной без кавычек."
      ],
      "metadata": {
        "id": "LX9ai1WDKSCW"
      }
    },
    {
      "cell_type": "code",
      "source": [
        "number = 42\n",
        "print(number, sep='___', end='\\n(=^.^=)\\n')\n",
        "ONE = 1\n",
        "TWO = 2\n",
        "print(ONE, TWO, 3, 4, sep='> <', end='>')\n"
      ],
      "metadata": {
        "colab": {
          "base_uri": "https://localhost:8080/"
        },
        "id": "87u8sjbuKU7A",
        "outputId": "9d06de56-db41-418f-a533-51f65c191b33"
      },
      "execution_count": null,
      "outputs": [
        {
          "output_type": "stream",
          "name": "stdout",
          "text": [
            "42\n",
            "(=^.^=)\n",
            "1> <2> <3> <4>"
          ]
        }
      ]
    },
    {
      "cell_type": "markdown",
      "source": [
        "# Ввод, функция input()\n",
        "Для ввода данных и сохранение их в переменной используется функция input()."
      ],
      "metadata": {
        "id": "blJNCxpIKZNP"
      }
    },
    {
      "cell_type": "code",
      "source": [
        "result = input([prompt])"
      ],
      "metadata": {
        "colab": {
          "base_uri": "https://localhost:8080/",
          "height": 176
        },
        "id": "Zujx6hJEKiI6",
        "outputId": "dd76037c-0c7c-4efc-9d82-d49a64ccf2a4"
      },
      "execution_count": null,
      "outputs": [
        {
          "output_type": "error",
          "ename": "NameError",
          "evalue": "ignored",
          "traceback": [
            "\u001b[0;31m---------------------------------------------------------------------------\u001b[0m",
            "\u001b[0;31mNameError\u001b[0m                                 Traceback (most recent call last)",
            "\u001b[0;32m<ipython-input-11-4986dc9a2be4>\u001b[0m in \u001b[0;36m<cell line: 1>\u001b[0;34m()\u001b[0m\n\u001b[0;32m----> 1\u001b[0;31m \u001b[0mresult\u001b[0m \u001b[0;34m=\u001b[0m \u001b[0minput\u001b[0m\u001b[0;34m(\u001b[0m\u001b[0;34m[\u001b[0m\u001b[0mprompt\u001b[0m\u001b[0;34m]\u001b[0m\u001b[0;34m)\u001b[0m\u001b[0;34m\u001b[0m\u001b[0;34m\u001b[0m\u001b[0m\n\u001b[0m",
            "\u001b[0;31mNameError\u001b[0m: name 'prompt' is not defined"
          ]
        }
      ]
    },
    {
      "cell_type": "markdown",
      "source": [
        "Если в качестве аргумента функции передать значение, оно будет выведено как\n",
        "подсказка перед вводом данных. Функция возвращает объект строкового типа,\n",
        "который можно сохранить в переменную."
      ],
      "metadata": {
        "id": "SEgxw-FCKlvM"
      }
    },
    {
      "cell_type": "code",
      "source": [
        "name = input('Ваше имя: ')"
      ],
      "metadata": {
        "colab": {
          "base_uri": "https://localhost:8080/",
          "height": 321
        },
        "id": "uyP-442BKocl",
        "outputId": "01d173d8-78da-4884-e156-b809df2c7bc7"
      },
      "execution_count": null,
      "outputs": [
        {
          "output_type": "error",
          "ename": "KeyboardInterrupt",
          "evalue": "ignored",
          "traceback": [
            "\u001b[0;31m---------------------------------------------------------------------------\u001b[0m",
            "\u001b[0;31mKeyboardInterrupt\u001b[0m                         Traceback (most recent call last)",
            "\u001b[0;32m<ipython-input-12-c59e95ef5dc2>\u001b[0m in \u001b[0;36m<cell line: 1>\u001b[0;34m()\u001b[0m\n\u001b[0;32m----> 1\u001b[0;31m \u001b[0mname\u001b[0m \u001b[0;34m=\u001b[0m \u001b[0minput\u001b[0m\u001b[0;34m(\u001b[0m\u001b[0;34m'Ваше имя: '\u001b[0m\u001b[0;34m)\u001b[0m\u001b[0;34m\u001b[0m\u001b[0;34m\u001b[0m\u001b[0m\n\u001b[0m",
            "\u001b[0;32m/usr/local/lib/python3.10/dist-packages/ipykernel/kernelbase.py\u001b[0m in \u001b[0;36mraw_input\u001b[0;34m(self, prompt)\u001b[0m\n\u001b[1;32m    849\u001b[0m                 \u001b[0;34m\"raw_input was called, but this frontend does not support input requests.\"\u001b[0m\u001b[0;34m\u001b[0m\u001b[0;34m\u001b[0m\u001b[0m\n\u001b[1;32m    850\u001b[0m             )\n\u001b[0;32m--> 851\u001b[0;31m         return self._input_request(str(prompt),\n\u001b[0m\u001b[1;32m    852\u001b[0m             \u001b[0mself\u001b[0m\u001b[0;34m.\u001b[0m\u001b[0m_parent_ident\u001b[0m\u001b[0;34m,\u001b[0m\u001b[0;34m\u001b[0m\u001b[0;34m\u001b[0m\u001b[0m\n\u001b[1;32m    853\u001b[0m             \u001b[0mself\u001b[0m\u001b[0;34m.\u001b[0m\u001b[0m_parent_header\u001b[0m\u001b[0;34m,\u001b[0m\u001b[0;34m\u001b[0m\u001b[0;34m\u001b[0m\u001b[0m\n",
            "\u001b[0;32m/usr/local/lib/python3.10/dist-packages/ipykernel/kernelbase.py\u001b[0m in \u001b[0;36m_input_request\u001b[0;34m(self, prompt, ident, parent, password)\u001b[0m\n\u001b[1;32m    893\u001b[0m             \u001b[0;32mexcept\u001b[0m \u001b[0mKeyboardInterrupt\u001b[0m\u001b[0;34m:\u001b[0m\u001b[0;34m\u001b[0m\u001b[0;34m\u001b[0m\u001b[0m\n\u001b[1;32m    894\u001b[0m                 \u001b[0;31m# re-raise KeyboardInterrupt, to truncate traceback\u001b[0m\u001b[0;34m\u001b[0m\u001b[0;34m\u001b[0m\u001b[0m\n\u001b[0;32m--> 895\u001b[0;31m                 \u001b[0;32mraise\u001b[0m \u001b[0mKeyboardInterrupt\u001b[0m\u001b[0;34m(\u001b[0m\u001b[0;34m\"Interrupted by user\"\u001b[0m\u001b[0;34m)\u001b[0m \u001b[0;32mfrom\u001b[0m \u001b[0;32mNone\u001b[0m\u001b[0;34m\u001b[0m\u001b[0;34m\u001b[0m\u001b[0m\n\u001b[0m\u001b[1;32m    896\u001b[0m             \u001b[0;32mexcept\u001b[0m \u001b[0mException\u001b[0m \u001b[0;32mas\u001b[0m \u001b[0me\u001b[0m\u001b[0;34m:\u001b[0m\u001b[0;34m\u001b[0m\u001b[0;34m\u001b[0m\u001b[0m\n\u001b[1;32m    897\u001b[0m                 \u001b[0mself\u001b[0m\u001b[0;34m.\u001b[0m\u001b[0mlog\u001b[0m\u001b[0;34m.\u001b[0m\u001b[0mwarning\u001b[0m\u001b[0;34m(\u001b[0m\u001b[0;34m\"Invalid Message:\"\u001b[0m\u001b[0;34m,\u001b[0m \u001b[0mexc_info\u001b[0m\u001b[0;34m=\u001b[0m\u001b[0;32mTrue\u001b[0m\u001b[0;34m)\u001b[0m\u001b[0;34m\u001b[0m\u001b[0;34m\u001b[0m\u001b[0m\n",
            "\u001b[0;31mKeyboardInterrupt\u001b[0m: Interrupted by user"
          ]
        }
      ]
    },
    {
      "cell_type": "markdown",
      "source": [
        "Обратите внимание на следующий пример."
      ],
      "metadata": {
        "id": "rK-Q-tLFKtiw"
      }
    },
    {
      "cell_type": "code",
      "source": [
        "age = input('Ваш возраст: ')"
      ],
      "metadata": {
        "id": "Z34XPUg3KwJa"
      },
      "execution_count": null,
      "outputs": []
    },
    {
      "cell_type": "markdown",
      "source": [
        "В переменной age будет сохранено значение в строковом формате. Посчитать\n",
        "сколько лет назад человеку стукнуло 18 не получится."
      ],
      "metadata": {
        "id": "NYeo310kKyV1"
      }
    },
    {
      "cell_type": "markdown",
      "source": [
        "Для приведения строки к числу используем функции int() — целый тип или float() —\n",
        "вещественный тип, число с плавающей запятой. Подробнее о них поговорим на\n",
        "следующей лекции."
      ],
      "metadata": {
        "id": "kuPlSwvQK6G0"
      }
    },
    {
      "cell_type": "code",
      "source": [
        "age = float(input('Ваш возраст: '))\n",
        "how_old = age - 18\n",
        "print(how_old, \"лет назад ты стал совершеннолетним\")"
      ],
      "metadata": {
        "colab": {
          "base_uri": "https://localhost:8080/"
        },
        "id": "dVVW3AN5K9vP",
        "outputId": "3d9276ba-e085-4e0c-d889-2e08c783cf60"
      },
      "execution_count": null,
      "outputs": [
        {
          "output_type": "stream",
          "name": "stdout",
          "text": [
            "Ваш возраст: 41\n",
            "23.0 лет назад ты стал совершеннолетним\n"
          ]
        }
      ]
    },
    {
      "cell_type": "markdown",
      "source": [],
      "metadata": {
        "id": "PwSly9NELMO0"
      }
    },
    {
      "cell_type": "markdown",
      "source": [
        "# Антипаттерн \"магические числа\"\n",
        "В прошлом примере мы использовали антипаттерн — плохой стиль для написания\n",
        "кода. Число 18 используется в коде коде без пояснений. Такой антипаттерн\n",
        "называется \"магическое число\". Рекомендуется помещать числа в константы,\n",
        "которые храняться в начале файла."
      ],
      "metadata": {
        "id": "2kL_5EAbLMUE"
      }
    },
    {
      "cell_type": "code",
      "source": [
        "ADULT = 18\n",
        "age = float(input('Ваш возраст: '))\n",
        "how_old = age - ADULT\n",
        "print(how_old, \"лет назад ты стал совершеннолетним\")"
      ],
      "metadata": {
        "colab": {
          "base_uri": "https://localhost:8080/"
        },
        "id": "8eU-mVQxLQ8J",
        "outputId": "ac9aa54a-0864-41cd-f0f3-99db0002aac3"
      },
      "execution_count": null,
      "outputs": [
        {
          "output_type": "stream",
          "name": "stdout",
          "text": [
            "Ваш возраст: 41\n",
            "23.0 лет назад ты стал совершеннолетним\n"
          ]
        }
      ]
    },
    {
      "cell_type": "markdown",
      "source": [
        "Плюсом такого подхода является возможность легко корректировать большие\n",
        "проекты. Представьте, что в вашем коде несколько тысяч строк, а число 18\n",
        "использовалось несколько десятков раз.\n",
        "\n",
        "● При развертывании проекта в стране, где совершеннолетием считается 21\n",
        "год вы будете перечитывать весь код в поисках магических \"18\" и править их\n",
        "на \"21\". В случае с константой изменить число нужно в одном месте.\n",
        "\n",
        "● Дополнительный сложности могут возникнуть, если в коде будет 18 как\n",
        "возраст совершеннолетия и 18 как коэффициент для рассчёт чего-либо.\n",
        "Теперь править кода ещё сложнее, ведь возраст изменился, а коэффициент\n",
        "-нет. В случае с сохранением значений в константы мы снова меняем число в\n",
        "одном месте."
      ],
      "metadata": {
        "id": "alq-bhZBLWhY"
      }
    },
    {
      "cell_type": "markdown",
      "source": [
        "# 3. Ветвление\n",
        "Ветвление в программировании — операция, применяющаяся в случаях, когда\n",
        "выполнение или невыполнение некоторого набора команд должно зависеть от\n",
        "выполнения или невыполнения некоторого условия. Ветвление — одна из трёх\n",
        "базовых конструкций структурного программирования.\n",
        "\"Некоторое условие\" должно возвращать истину True или ложь False. В Python есть\n",
        "возможность использовать неявное преобразование типов. Так любое целое число\n",
        "помимо нуля считается истиной, а ноль — ложью. Любая коллекция с данными —\n",
        "истина, а пустая коллекция — ложь. Подробнее хорошие приёмы неявного\n",
        "преобразования мы рассмотрим далее на курсе. А пока стоит запомнить, что явное\n",
        "лучше неявного."
      ],
      "metadata": {
        "id": "tHXqSBjJLbo9"
      }
    },
    {
      "cell_type": "markdown",
      "source": [
        "# Если, if"
      ],
      "metadata": {
        "id": "QspNaufFLifZ"
      }
    },
    {
      "cell_type": "markdown",
      "source": [
        "Простейшая проверка условия происходит при помощи зарезервированного слова\n",
        "if\n"
      ],
      "metadata": {
        "id": "1Cwwj_F8LlTM"
      }
    },
    {
      "cell_type": "code",
      "source": [
        "pwd = 'text'\n",
        "res = input('Input password: ')\n",
        "if res == pwd:\n",
        " print('Доступ разрешён')"
      ],
      "metadata": {
        "colab": {
          "base_uri": "https://localhost:8080/"
        },
        "id": "HUbqx4xlLnok",
        "outputId": "37db24a0-ce58-473e-8c3f-9b083d8cfd27"
      },
      "execution_count": null,
      "outputs": [
        {
          "output_type": "stream",
          "name": "stdout",
          "text": [
            "Input password: text\n",
            "Доступ разрешён\n"
          ]
        }
      ]
    },
    {
      "cell_type": "markdown",
      "source": [
        "В строке 3 мы используем if, далее пишем выражение, которое должно вернуть\n",
        "истину или ложь и завершаем строку двоеточием.\n",
        "В Python доступны все 6 операций сравнения:"
      ],
      "metadata": {
        "id": "of_1jYf2LzNz"
      }
    },
    {
      "cell_type": "markdown",
      "source": [
        "«==» — равно\n",
        "\n",
        "«!=» — не равно\n",
        "\n",
        "«>» — больше\n",
        "\n",
        "«<=» — меньше или равно\n",
        "\n",
        "«<» — меньше\n",
        "\n",
        "«>=» — больше или равно"
      ],
      "metadata": {
        "id": "TFAOIJumMQcv"
      }
    },
    {
      "cell_type": "markdown",
      "source": [
        "### Отступы вместо фигурных скобок\n",
        "Обратите внимание на отступ в четыре пробела в следующей после if строке кода. В\n",
        "отличие от Си-подобных языков программирования? таких как Java, C# и других,\n",
        "Python не используют фигурные скобки для создания логических блоков кода.\n",
        "21\n",
        "Вместо этого мы создаём отступы из четырёх пробелов. Такой стиль повышает\n",
        "читаемость кода и сокращает количество ошибок."
      ],
      "metadata": {
        "id": "wsuwMSlvMa_n"
      }
    },
    {
      "cell_type": "code",
      "source": [
        "pwd = 'text'\n",
        "res = input('Input password: ')\n",
        "if res == pwd:\n",
        "  print('Доступ разрешён')\n",
        "  print('Но будьте осторожны')\n",
        "print('Работа завершена')\n"
      ],
      "metadata": {
        "id": "oQ0GKWXgMfE6"
      },
      "execution_count": null,
      "outputs": []
    },
    {
      "cell_type": "markdown",
      "source": [],
      "metadata": {
        "id": "7YNPziACMh-y"
      }
    },
    {
      "cell_type": "markdown",
      "source": [
        "Строки 4-5 написаны с отступом и будут выполнены в случае истинности в строке 3.\n",
        "Строка 6 будет выполнена в любом случае, т.к. написана без отступов.\n",
        "\n",
        "💡 PEP-8! рекомендует использовать в качестве отступа 4 пробела.\n",
        "Программа будет верно работать и с 2 и с 8 отступами, и даже с\n",
        "символом табуляции (при условии что во всём коде использован единый\n",
        "стиль отступания). Но программы проверки кода — линтеры будут\n",
        "выдавать предупреждения, а коллеги по проекту подзатыльники.\n",
        "Также обратите внимание, что IDE при верной настройке заменяют нажатие\n",
        "клавиши TAB на клавиатуре на ввод 4 пробелов.\n",
        "\n",
        "Обратите внимание на отсутствие скобок в строке 3. Python не требует заключать\n",
        "логическое выражение в скобки. А IDE c проверкой синтаксиса будет ругаться на\n",
        "скобки, как на рудимент. Единственный случай, когда вам могут понадобится\n",
        "скобки, построение сложных логических выражений, где надо поменять порядок\n",
        "логических проверок с традиционного слева направо, на другой."
      ],
      "metadata": {
        "id": "vq5YSflEMiPq"
      }
    },
    {
      "cell_type": "markdown",
      "source": [
        "# Иначе, else"
      ],
      "metadata": {
        "id": "eUuZzhI-Mp11"
      }
    },
    {
      "cell_type": "markdown",
      "source": [
        "Для выполнения кода в случае ложности логического выражения используется\n",
        "зарезервированное слово else c обязательным двоеточием после него.\n"
      ],
      "metadata": {
        "id": "8h4nZiV5Msjt"
      }
    },
    {
      "cell_type": "code",
      "source": [
        "pwd = 'text'\n",
        "res = input('Input password: ')\n",
        "if res == pwd:\n",
        "  print('Доступ разрешён')\n",
        "  print('Но будьте осторожны')\n",
        "else:\n",
        "  print('Доступ запрещён')\n",
        "  print('Работа завершена')\n"
      ],
      "metadata": {
        "id": "ub8sbP00MupA"
      },
      "execution_count": null,
      "outputs": []
    },
    {
      "cell_type": "markdown",
      "source": [
        "Слово else относится к тому if, с которым находится на одном уровне. В примере\n",
        "ниже верхний if связан с нижним else, а средний if со средним else."
      ],
      "metadata": {
        "id": "wlpA-kA-MxRZ"
      }
    },
    {
      "cell_type": "code",
      "source": [
        "pwd = 'text'\n",
        "res = input('Input password: ')\n",
        "if res == pwd:\n",
        " print('Доступ разрешён')\n",
        " my_math = int(input('2 + 2 = '))\n",
        " if 2 + 2 == my_math:\n",
        "  print('Вы в нормальном мире')\n",
        " else:\n",
        "  print('Но будьте осторожны')\n",
        "else:\n",
        " print('Доступ запрещён')\n",
        " print('Работа завершена')\n"
      ],
      "metadata": {
        "colab": {
          "base_uri": "https://localhost:8080/"
        },
        "id": "_8-HEVIcMzlb",
        "outputId": "fed6c23d-ec5a-4868-a7fa-82d1c0b1ca7c"
      },
      "execution_count": null,
      "outputs": [
        {
          "output_type": "stream",
          "name": "stdout",
          "text": [
            "Input password: text\n",
            "Доступ разрешён\n",
            "2 + 2 = 4\n",
            "Вы в нормальном мире\n"
          ]
        }
      ]
    },
    {
      "cell_type": "markdown",
      "source": [
        "# Еще если, elif"
      ],
      "metadata": {
        "id": "q4zXYm5zNKJX"
      }
    },
    {
      "cell_type": "markdown",
      "source": [
        "Для проверки нескольких выражений используется elfi - сокращение от else if."
      ],
      "metadata": {
        "id": "SxLgCh6eNMxL"
      }
    },
    {
      "cell_type": "code",
      "source": [
        "color = input('Твой любимый цвет: ')\n",
        "if color == 'красный':\n",
        "  print('Любитель яркого')\n",
        "elif color == 'зелёный':\n",
        "  print('Ты не охотник?')\n",
        "elif color == 'синий':\n",
        "  print('Ха, классика!')\n",
        "else:\n",
        "  print('Тебя не понять')"
      ],
      "metadata": {
        "colab": {
          "base_uri": "https://localhost:8080/"
        },
        "id": "Gl-C7pU8NO-i",
        "outputId": "3c29bf5e-8b64-49aa-e486-01c35c896d95"
      },
      "execution_count": null,
      "outputs": [
        {
          "output_type": "stream",
          "name": "stdout",
          "text": [
            "Твой любимый цвет: черный\n",
            "Тебя не понять\n"
          ]
        }
      ]
    },
    {
      "cell_type": "markdown",
      "source": [
        "Проверка работает до первого совпадения. После него дальнейший код\n",
        "пропускается. А если совпадений нет, срабатывает код после else"
      ],
      "metadata": {
        "id": "XrrRsx_tNp1V"
      }
    },
    {
      "cell_type": "markdown",
      "source": [
        "# Выбор из вариантов, match и case"
      ],
      "metadata": {
        "id": "QtoKjbJUNsNB"
      }
    },
    {
      "cell_type": "markdown",
      "source": [
        "В Python версии 3.10, т.е. совсем недавно появилась новая возможность\n",
        "множественного сравнения. Это конструкция match и case. После match указываем\n",
        "23\n",
        "переменную для сравнения. Далее идёт блок из множества case с вариантами\n",
        "сравнения. Рассмотрим работу кода на примере.\n",
        "\n",
        "🔥 Важно! Если у вас стоит Python версии 3.9 и ниже, код не будет работать."
      ],
      "metadata": {
        "id": "iOXlbEE0Nvej"
      }
    },
    {
      "cell_type": "code",
      "source": [
        "color = input('Твой любимый цвет: ')\n",
        "match color:\n",
        "  case 'красный' | 'оранжевый':\n",
        "    print('Любитель яркого')\n",
        "  case 'зелёный':\n",
        "    print('Ты не охотник?')\n",
        "  case 'синий' | 'голубой':\n",
        "    print('Ха, классика!')\n",
        "  case _:\n",
        "    print('Тебя не понять')"
      ],
      "metadata": {
        "colab": {
          "base_uri": "https://localhost:8080/"
        },
        "id": "jYdIzX3uN1ap",
        "outputId": "fec958d6-ea87-41ba-94d8-8b01f4f38382"
      },
      "execution_count": null,
      "outputs": [
        {
          "output_type": "stream",
          "name": "stdout",
          "text": [
            "Твой любимый цвет: синий\n",
            "Ха, классика!\n"
          ]
        }
      ]
    },
    {
      "cell_type": "markdown",
      "source": [
        "Данный код аналогичен прошлому варианту с elif. Добавлена возможность\n",
        "проверить несколько цветов. Например для красного и оранжевого будет один\n",
        "вывод. Вертикальная черта играет роль оператора \"или\". Уточню что пользователь\n",
        "вводит один единственный цвет.\n",
        "Вместо слова else в данной конструкции используется сочетание case _ На этом\n",
        "курсе мы ещё несколько раз будет встречаться с подчеркиванием. И каждый раз он\n",
        "имеет разные эффект в зависимости от применения."
      ],
      "metadata": {
        "id": "xe5O_n_SOHRm"
      }
    },
    {
      "cell_type": "markdown",
      "source": [
        "# Логические конструкции, or, and, not\n",
        "\n",
        "В Python доступны три логических оператора:\n",
        "\n",
        "● and — логическое умножение «И»;\n",
        "\n",
        "● or — логическое сложение «ИЛИ»;\n",
        "\n",
        "● not — логическое отрицание «НЕ».\n",
        "\n",
        "Логика их работы представлена в таблице"
      ],
      "metadata": {
        "id": "TcWg2fBXOMWN"
      }
    },
    {
      "cell_type": "markdown",
      "source": [
        "А теперь пример кода на Python чтобы разобраться в правильном синтаксисе\n",
        "построения логических выражений. Вычислим високосный год в Григорианском\n",
        "календаре поэтапно:"
      ],
      "metadata": {
        "id": "LZfVvUg0O3VA"
      }
    },
    {
      "cell_type": "code",
      "source": [
        "year = int(input('Введите год в формате yyyy: '))\n",
        "if year % 4 != 0:\n",
        "  print(\"Обычный\")\n",
        "elif year % 100 == 0:\n",
        "  if year % 400 == 0:\n",
        "    print(\"Високосный\")\n",
        "  else:\n",
        "    print(\"Обычный\")\n",
        "else:\n",
        "  print(\"Високосный\")"
      ],
      "metadata": {
        "colab": {
          "base_uri": "https://localhost:8080/"
        },
        "id": "Skx9rhs0O6Dq",
        "outputId": "04f671f6-3b18-4672-d78a-f8eecbdc7093"
      },
      "execution_count": null,
      "outputs": [
        {
          "output_type": "stream",
          "name": "stdout",
          "text": [
            "Введите год в формате yyyy: 2024\n",
            "Високосный\n"
          ]
        }
      ]
    },
    {
      "cell_type": "markdown",
      "source": [
        "А теперь выберем все случаи, когда год обычный и запишем их в одну строку:"
      ],
      "metadata": {
        "id": "MZYa4ul_PcCS"
      }
    },
    {
      "cell_type": "code",
      "source": [
        "if year % 4 != 0 or year % 100 == 0 and year % 400 != 0:\n",
        "  print(\"Обычный\")\n",
        "else:\n",
        "  print(\"Високосный\")"
      ],
      "metadata": {
        "id": "_dgwiJ75PeYw"
      },
      "execution_count": null,
      "outputs": []
    },
    {
      "cell_type": "markdown",
      "source": [
        "Python последовательно слева направо проверяет логическое выражение,\n",
        "формируя финальный ответ — True или False."
      ],
      "metadata": {
        "id": "9AH93pBhPqLS"
      }
    },
    {
      "cell_type": "markdown",
      "source": [
        "# Ленивый if\n",
        "Ещё раз посмотрим на прошлый пример кода."
      ],
      "metadata": {
        "id": "abPl7jwMPtsr"
      }
    },
    {
      "cell_type": "code",
      "source": [
        "if year % 4 != 0 or year % 100 == 0 and year % 400 != 0:"
      ],
      "metadata": {
        "colab": {
          "base_uri": "https://localhost:8080/",
          "height": 141
        },
        "id": "p9pOwWC8PwpM",
        "outputId": "bd68f45a-ae4b-4de8-da06-c72683b13962"
      },
      "execution_count": null,
      "outputs": [
        {
          "output_type": "error",
          "ename": "SyntaxError",
          "evalue": "ignored",
          "traceback": [
            "\u001b[0;36m  File \u001b[0;32m\"<ipython-input-22-f05970df497f>\"\u001b[0;36m, line \u001b[0;32m1\u001b[0m\n\u001b[0;31m    if year % 4 != 0 or year % 100 == 0 and year % 400 != 0:\u001b[0m\n\u001b[0m                                                            ^\u001b[0m\n\u001b[0;31mSyntaxError\u001b[0m\u001b[0;31m:\u001b[0m incomplete input\n"
          ]
        }
      ]
    },
    {
      "cell_type": "markdown",
      "source": [
        "В Python как и в некоторых других языках программирования if \"ленивый\". Если в\n",
        "логическом выражении есть оператор or и первое значение то есть левое вернуло\n",
        "истину, дальнейшая проверка не происходит, возвращается True. Если в\n",
        "логическом выражении есть оператор and и левая половина вернула ложь, то\n",
        "возвращается False без проверки правой половины выражения."
      ],
      "metadata": {
        "id": "VJHBUuoZP0ye"
      }
    },
    {
      "cell_type": "markdown",
      "source": [
        "# Проверка на вхождение, in\n",
        "На одном из следующих уроках поговорим о коллекциях. Пока для простоты\n",
        "договоримся, что список целых чисел в квадратных скобках — массив данных.\n",
        "Оператор in проверяет вхождение элемента в последовательность."
      ],
      "metadata": {
        "id": "XzIKVMgiP6_T"
      }
    },
    {
      "cell_type": "code",
      "source": [
        "data = [0, 1, 1, 2, 3, 5, 8, 13, 21]\n",
        "num = int(input('Введи число: '))\n",
        "if num in data:\n",
        "  print('Леонардо передаёт привет!')"
      ],
      "metadata": {
        "colab": {
          "base_uri": "https://localhost:8080/"
        },
        "id": "WwOY4c4ZP-Ci",
        "outputId": "2f0acf00-7bc5-4c10-9f29-8cfa9f06b454"
      },
      "execution_count": null,
      "outputs": [
        {
          "output_type": "stream",
          "name": "stdout",
          "text": [
            "Введи число: 8\n",
            "Леонардо передаёт привет!\n"
          ]
        }
      ]
    },
    {
      "cell_type": "markdown",
      "source": [
        "А теперь тот же самый код, но с конструкцией not — отрицание:"
      ],
      "metadata": {
        "id": "tKOVLlpiQFpB"
      }
    },
    {
      "cell_type": "code",
      "source": [
        "data = [0, 1, 1, 2, 3, 5, 8, 13, 21]\n",
        "num = int(input('Введи число: '))\n",
        "if num not in data:\n",
        "  print('Леонардо грустит :-(')"
      ],
      "metadata": {
        "colab": {
          "base_uri": "https://localhost:8080/"
        },
        "id": "RHdRVwsTQHts",
        "outputId": "6d989403-76c3-4fef-fd44-12060c7b0895"
      },
      "execution_count": null,
      "outputs": [
        {
          "name": "stdout",
          "output_type": "stream",
          "text": [
            "Введи число: 8\n"
          ]
        }
      ]
    },
    {
      "cell_type": "markdown",
      "source": [
        "Обратите внимание на порядок слов в строке 3. Python использует максимально\n",
        "приближенные к человеческому, а точнее к английскому языку стиль\n",
        "программирования: \"Если число не входит в данные, то…\""
      ],
      "metadata": {
        "id": "0-YX-UxbQRvR"
      }
    },
    {
      "cell_type": "markdown",
      "source": [
        "# Тернарный оператор\n",
        "Завершим разговор о ветвлениях тернарным оператором. Он позволяет записать 4\n",
        "логические строки в одну.\n",
        "\n",
        "Было:"
      ],
      "metadata": {
        "id": "4hKXpvMoQVlZ"
      }
    },
    {
      "cell_type": "code",
      "source": [
        "my_math = int(input('2 + 2 = '))\n",
        "if 2 + 2 == my_math:\n",
        "  print('Верно!')\n",
        "else:\n",
        "  print('Вы уверены?')"
      ],
      "metadata": {
        "colab": {
          "base_uri": "https://localhost:8080/"
        },
        "id": "76R4SED2QaYo",
        "outputId": "63df3065-371b-45e4-f4ca-1fb1115f0464"
      },
      "execution_count": null,
      "outputs": [
        {
          "output_type": "stream",
          "name": "stdout",
          "text": [
            "2 + 2 = 6\n",
            "Вы уверены?\n"
          ]
        }
      ]
    },
    {
      "cell_type": "markdown",
      "source": [
        "Стало:\n"
      ],
      "metadata": {
        "id": "_AVjKUdYQmQu"
      }
    },
    {
      "cell_type": "code",
      "source": [
        "my_math = int(input('2 + 2 = '))\n",
        "print('Верно!' if 2 + 2 == my_math else 'Вы уверены?')"
      ],
      "metadata": {
        "colab": {
          "base_uri": "https://localhost:8080/"
        },
        "id": "mpfZirmEQpbJ",
        "outputId": "7a16d691-e972-4c83-fbab-9580dd6147f7"
      },
      "execution_count": null,
      "outputs": [
        {
          "output_type": "stream",
          "name": "stdout",
          "text": [
            "2 + 2 = 4\n",
            "Верно!\n"
          ]
        }
      ]
    },
    {
      "cell_type": "markdown",
      "source": [
        "Слева от if записываем выражение для истины, справа от else результат для лжи.\n"
      ],
      "metadata": {
        "id": "YEfJzTYdQwiu"
      }
    },
    {
      "cell_type": "markdown",
      "source": [
        "Важно! При использовании тернарного оператора важно помнить, что\n",
        "код должен сохранить свою читаемость. Слишком длинные и сложные\n",
        "конструкции стоит переписать в более привычном виде в 4 строки.\n",
        "\n",
        "💡 PEP-8! требует, чтобы длина строки кода не превышала 80 символов.\n",
        "Современные мониторы с широкими экранами и высоким разрешением с\n",
        "легкостью вмещают больше символов. Поэтому ограничение было\n",
        "пересмотрено и увеличено до 120 символов. Более длинные строки кода\n",
        "в Python недопустимы, т.к. снижают его читаемость."
      ],
      "metadata": {
        "id": "ThVND4p-Q0Lq"
      }
    },
    {
      "cell_type": "markdown",
      "source": [
        "# 4. Циклы\n",
        "Рассмотрим способы создания циклов в Python.\n",
        "\n",
        "🔥 Важно! Мы снова будем использовать отступы в 4 пробела. Это\n",
        "неотъемлемая часть синтаксиса языка.\n",
        "\n",
        "# Логический цикл while\n",
        "Цикл while является циклом с предусловием. Проверяем логическое условие,\n",
        "аналогично \"если\" и в случае истинности выполняем вложенный блок кода. Далее\n",
        "возвращаемся к проверке условия.\n",
        "Попробуем перебрать всё чётные числа от нуля до введённого пользователем\n",
        "исключительно.."
      ],
      "metadata": {
        "id": "Qx4LWz4yRHK-"
      }
    },
    {
      "cell_type": "code",
      "source": [
        "num = float(input('Введите число: '))\n",
        "count = 0\n",
        "while count < num:\n",
        "  print(count)\n",
        "  count += 2\n"
      ],
      "metadata": {
        "id": "WbqImJ7MRYuw"
      },
      "execution_count": null,
      "outputs": []
    },
    {
      "cell_type": "markdown",
      "source": [
        "Проверка условия после while и выполнение тела цикла продолжается до тех пор,\n",
        "пока условие истинно.\n",
        "\n",
        "# Синтаксический сахар\n",
        "Обратите внимание на нижнюю строку кода. \"+=\" - синтаксический сахар Python.\n",
        "\n",
        "Синтаксический сахар (англ. syntactic sugar) в языке программирования — это\n",
        "синтаксические возможности, применение которых не влияет на поведение\n",
        "программы, но делает использование языка более удобным для человека.\n",
        "Для неизменяемых типов данных, а числа в Python неизменяемы, две следующие\n",
        "строки кода эквивалентны."
      ],
      "metadata": {
        "id": "VQ8l2qtJRhCp"
      }
    },
    {
      "cell_type": "code",
      "source": [
        "num = num + 1\n",
        "num += 1\n",
        "num++ # не работает в Python"
      ],
      "metadata": {
        "id": "2U128JmIRske"
      },
      "execution_count": null,
      "outputs": []
    },
    {
      "cell_type": "markdown",
      "source": [
        "Аналогично можно записать коротко вычитание, умножение, целочисленное\n",
        "деление и другие операции."
      ],
      "metadata": {
        "id": "L1ngL8hRRutu"
      }
    },
    {
      "cell_type": "markdown",
      "source": [
        "# Возврат в начало цикла, continue\n",
        "При необходимости работу цикла можно прервать и досрочно вернуться к проверке\n",
        "условия. Для этого используем зарезервированное слово continue.\n",
        "Выведем все чётные числа (как в прошлом примере), кроме тех, которые кратны 12."
      ],
      "metadata": {
        "id": "wnylDOwfRxcn"
      }
    },
    {
      "cell_type": "code",
      "source": [
        "num = float(input('Введите число: '))\n",
        "STEP = 2\n",
        "limit = num - STEP\n",
        "count = -STEP\n",
        "while count < limit:\n",
        "  count += STEP\n",
        "  if count % 12 == 0:\n",
        "    continue\n",
        "  print(count)"
      ],
      "metadata": {
        "colab": {
          "base_uri": "https://localhost:8080/"
        },
        "id": "ZRVQzfBNR3NA",
        "outputId": "9f5c310c-39ef-44e2-e5e6-b0393f25e239"
      },
      "execution_count": null,
      "outputs": [
        {
          "output_type": "stream",
          "name": "stdout",
          "text": [
            "Введите число: 45\n",
            "2\n",
            "4\n",
            "6\n",
            "8\n",
            "10\n",
            "14\n",
            "16\n",
            "18\n",
            "20\n",
            "22\n",
            "26\n",
            "28\n",
            "30\n",
            "32\n",
            "34\n",
            "38\n",
            "40\n",
            "42\n",
            "44\n"
          ]
        }
      ]
    },
    {
      "cell_type": "markdown",
      "source": [
        "if внутри цикла проверяет кратность двенадцати. В случае истинности команда\n",
        "continue возвращает нас к началу цикла, к while.\n",
        "И пара слов о двух оптимизациях в коде:\n",
        "1. STEP = 2 — добавили константу для движения по чётным и ушли от\n",
        "\"магических чисел\". Теперь изменение условия на \"вывод чисел кратных 5\"\n",
        "потребует замены числа в одном месте кода.\n",
        "2. Ввели переменную limit. Чтобы цикл не выводил лишние числа, больше\n",
        "введенного num, на каждой проверке цикла while надо вычитать значение\n",
        "шага. Но шаг — константа. Для экономии ресурсов ПК и ускорения работы\n",
        "кода логично сделать вычитание один раз перед циклом и сравнивать\n",
        "значения быстрее, без вычитания в строке while"
      ],
      "metadata": {
        "id": "gy9kAVdySMMQ"
      }
    },
    {
      "cell_type": "markdown",
      "source": [
        "# Досрочное завершение цикла, break\n",
        "Ещё один способ управления циклом — команда break для его досрочного\n",
        "завершения. Она отлично подходит для создания циклов с постусловием,\n",
        "бесконечных циклов с возможностью выхода.\n",
        "Рассмотрим на примере программы, которая просит ввести число внутри заданного\n",
        "диапазона.\n"
      ],
      "metadata": {
        "id": "4sKUZPMpSRwg"
      }
    },
    {
      "cell_type": "code",
      "source": [
        "min_limit = 0\n",
        "max_limit = 10\n",
        "while True:\n",
        "  print('Введи число между', min_limit, 'и', max_limit, '? ')\n",
        "  num = float(input())\n",
        "  if num < min_limit or num > max_limit:\n",
        "    print('Неверно')\n",
        "  else:\n",
        "    break\n",
        "print('Было введено число ' + str(num))"
      ],
      "metadata": {
        "colab": {
          "base_uri": "https://localhost:8080/"
        },
        "id": "KEkj61-LSWIj",
        "outputId": "3d088062-d0e6-46b4-f77c-29ccc2d54b64"
      },
      "execution_count": null,
      "outputs": [
        {
          "output_type": "stream",
          "name": "stdout",
          "text": [
            "Введи число между 0 и 10 ? \n",
            "6\n",
            "Было введено число 6.0\n"
          ]
        }
      ]
    },
    {
      "cell_type": "markdown",
      "source": [
        "Конструкция while True: создаёт бесконечный цикл. Вместо True можно было бы\n",
        "подставить любое выражение, которое всегда возвращает истину. Но именно такая\n",
        "реализация обеспечивает лучшую читаемость и быстродействие."
      ],
      "metadata": {
        "id": "Ev7X1uXbSsVQ"
      }
    },
    {
      "cell_type": "markdown",
      "source": [
        "# Действие после цикла, else\n",
        "Зарезервированное слово else может применятся не только к ветвлениям, но и к\n",
        "циклам. Для этого else должно быть расположено на том же уровне, т.е. иметь\n",
        "столько же пробельных отступов, что и начало цикла — while.\n",
        "Доработаем прошлую программу и дадим 3 попытки на попадание в диапазон."
      ],
      "metadata": {
        "id": "ObCxIps_SvK0"
      }
    },
    {
      "cell_type": "code",
      "source": [
        "min_limit = 0\n",
        "max_limit = 10\n",
        "count = 3\n",
        "\n",
        "while count > 0:\n",
        "  print('Попытка ' + str(count))\n",
        "  count -= 1\n",
        "  num = float(input('Введи число между ' + str(min_limit) + ' и' + str(max_limit) + ': '))\n",
        "  if num < min_limit or num > max_limit:\n",
        "    print('Неверно')\n",
        "  else:\n",
        "    break\n",
        "else:\n",
        "  print('Исчерпаны все попытки. Сожалею.')\n",
        "  quit()\n",
        "print('Было введено число ' + str(num))"
      ],
      "metadata": {
        "colab": {
          "base_uri": "https://localhost:8080/"
        },
        "id": "UbC4bHM4SyVy",
        "outputId": "4405cb7b-cafb-4a6e-b596-cf3941d8a9cc"
      },
      "execution_count": null,
      "outputs": [
        {
          "output_type": "stream",
          "name": "stdout",
          "text": [
            "Попытка 3\n",
            "Введи число между 0 и10: 7\n",
            "Было введено число 7.0\n"
          ]
        }
      ]
    },
    {
      "cell_type": "markdown",
      "source": [
        "Что изменилось в коде:\n",
        "● Добавили счётчик count. Цикл проверяет не уменьшился ли счётчик до нуля.\n",
        "Если нет, переходим в тело цикла. Выводим значение счётчика на каждом\n",
        "витке цикла и уменьшает его на единицу.\n",
        "\n",
        "● Добавили else для while. Логика следующая. Если пользователь ввёл верное\n",
        "число и сработала команда break, блок else для цикла игнорируется. А если\n",
        "числа вводились ошибочно, счётчик досчитал до нуля и произошел выход из\n",
        "цикла по \"лжи\" в while. В этом случае сработает блок кода после else для\n",
        "цикла.\n",
        "Если коротко, вызов break в цикле игнорирует else для цикла.\n",
        "\n",
        "● quit() — ещё одна функция для завершения кода раньше, чем мы дойдём до\n",
        "конца файла. Это вторая функция. Первой, exit() мы пользовались для\n",
        "завершения работы сеанса интерпретатора. Работают они аналогично.\n",
        "\n",
        "● Мы добавили пустые строки в код. Python игнорирует такие строки. Но\n",
        "разделение кода на блоки по смыслу упрощает чтение. Кроме того, на\n",
        "следующих лекциях мы поговорим о пустых строках, которые прописаны в\n",
        "PEP-8. Но не ставьте пустые строки после каждой строки кода. Если вам\n",
        "нравится большой межстрочный интервал, настройте его в своей IDE.\n",
        "\n",
        "● PEP-8! Кстати, последняя строка в файле должны быть пустой. Именно одна,\n",
        "а не ноль, и не две."
      ],
      "metadata": {
        "id": "ZxC7jH17TeEC"
      }
    },
    {
      "cell_type": "markdown",
      "source": [
        "# Цикл итератор for in\n",
        "Цикл for in используется Python разработчиками намного чаще. Прежде чем\n",
        "приступить к его рассмотрению уточню, что команды continue, break и else могут\n",
        "применяться к циклу for in точно так же как и до этого в цикле while.\n",
        "Рассмотрим работу цикла в качестве итератора последовательности.\n",
        "Итерироваться будем по массиву с числами из части про ветвления и проверку на\n",
        "вхождение."
      ],
      "metadata": {
        "id": "_TM0dE2MTk84"
      }
    },
    {
      "cell_type": "code",
      "source": [
        "data = [0, 1, 1, 2, 3, 5, 8, 13, 21]\n",
        "for item in data:\n",
        "  print(item)\n"
      ],
      "metadata": {
        "colab": {
          "base_uri": "https://localhost:8080/"
        },
        "id": "IdIxGp9BTsVS",
        "outputId": "0f694977-f9c6-46f0-97a8-5b83dc158628"
      },
      "execution_count": null,
      "outputs": [
        {
          "output_type": "stream",
          "name": "stdout",
          "text": [
            "0\n",
            "1\n",
            "1\n",
            "2\n",
            "3\n",
            "5\n",
            "8\n",
            "13\n",
            "21\n"
          ]
        }
      ]
    },
    {
      "cell_type": "markdown",
      "source": [
        "Цикл последовательно перебирает все элементы массива data и поочерёдно\n",
        "помещает их в переменную item. После for указываем переменную или переменные\n",
        "для приема значений, они изменяются на каждом витке цикла. После in указываем\n",
        "объект, из которого последовательно берём данные.\n",
        "\n",
        "🔥 Важно! Нельзя изменять содержимое контейнера (в нашем примере\n",
        "data) во время итерации по нему, т.е. внутри цикла. Это приведет к\n",
        "неожиданным ошибкам."
      ],
      "metadata": {
        "id": "8A4hd5uITwaH"
      }
    },
    {
      "cell_type": "markdown",
      "source": [
        "# Цикл по целым числам, он же арифметический цикл, функция range()\n",
        "Для перебора целых чисел цикл for in используется в связке с функцией range(). Она\n",
        "выступает в качестве объекта итератора. Пример печати чётных чисел от нуля до\n",
        "введённого числа может выглядеть так с циклом for:"
      ],
      "metadata": {
        "id": "O5eQTXyuT1C8"
      }
    },
    {
      "cell_type": "code",
      "source": [
        "num = int(input('Введите число: '))\n",
        "for i in range(0, num, 2):\n",
        " print(i)"
      ],
      "metadata": {
        "colab": {
          "base_uri": "https://localhost:8080/"
        },
        "id": "K5COOD3YT8K-",
        "outputId": "b0a3e3fe-422f-4f58-99b8-32386b55588c"
      },
      "execution_count": null,
      "outputs": [
        {
          "output_type": "stream",
          "name": "stdout",
          "text": [
            "Введите число: 5\n",
            "0\n",
            "2\n",
            "4\n"
          ]
        }
      ]
    },
    {
      "cell_type": "markdown",
      "source": [
        "Важно! Аргументами функции range() должны быть целые числа, int()"
      ],
      "metadata": {
        "id": "UZZYIY4HUBnH"
      }
    },
    {
      "cell_type": "markdown",
      "source": [
        "Рассмотрим подробнее варианты работы функции range(). Обратите внимание на\n",
        "количество переданных функции аргументов\n",
        "\n",
        "range(stop) — перебираем значения от нуля до stop исключительно с шагом один\n",
        "\n",
        "range(start, stop) — перебираем значения от start включительно до stop\n",
        "исключительно с шагом один\n",
        "\n",
        "range(start, stop, step) — перебираем значения от start включительно до stop\n",
        "исключительно с шагом step.\n",
        "\n",
        "Пара если.\n",
        "\n",
        "● Если значение step отрицательное, перебор будет в сторону уменьшения.\n",
        "\n",
        "● Если start больше stop при положительном step или наоборот start меньше\n",
        "stop при отрицательном step, цикл не сработает ни разу. range(10, 5, 2) -\n",
        "ничего"
      ],
      "metadata": {
        "id": "4aLTr4GeUEAi"
      }
    },
    {
      "cell_type": "markdown",
      "source": [
        "## Имена переменных в цикле\n",
        "Исторически сложилось, что для переменных, которые \"считают арифметику\" в\n",
        "цикле используются переменные i, j, k. Именно в таком порядке с учёт\n",
        "вложеннности. Этой традиции более полувека. Так что смело продолжайте её и ваш\n",
        "код поймут. Например так выглядят 3 вложенных цикла. Обратите внимание на\n",
        "отступы, которые показывают уровень вложенности"
      ],
      "metadata": {
        "id": "0l7aQaW5UPTy"
      }
    },
    {
      "cell_type": "code",
      "source": [
        "count = 10\n",
        "for i in range(count):\n",
        "  for j in range(count):\n",
        "    for k in range(count):\n",
        "      print(i, j, k)"
      ],
      "metadata": {
        "id": "v2YrwVWgUrVs"
      },
      "execution_count": null,
      "outputs": []
    },
    {
      "cell_type": "markdown",
      "source": [
        "А так выглядят два последовательных цикла"
      ],
      "metadata": {
        "id": "B0J7u2dyUxp8"
      }
    },
    {
      "cell_type": "code",
      "source": [
        "count = 10\n",
        "for i in range(count):\n",
        "  print(i)\n",
        "for i in range(count):\n",
        "  print(i)\n"
      ],
      "metadata": {
        "id": "kNbBUB8qU1Ou"
      },
      "execution_count": null,
      "outputs": []
    },
    {
      "cell_type": "markdown",
      "source": [
        "Однако, когда мы перебираем какие-то данные, вместо однобуквенных переменных\n",
        "можно использовать подходящие имена. Например так может выглядеть перебор\n",
        "животных, которые хранятся в массиве данных"
      ],
      "metadata": {
        "id": "PHaL3Dc2U6wk"
      }
    },
    {
      "cell_type": "code",
      "source": [
        "animals = ['cat', 'dog', 'wolf', 'rat', 'dragon']\n",
        "for animal in animals:\n",
        "  print(animal)"
      ],
      "metadata": {
        "id": "uMdNUdA-U8qj"
      },
      "execution_count": null,
      "outputs": []
    },
    {
      "cell_type": "markdown",
      "source": [
        "Как вы помните читаемость имеет значение.\n",
        "\n",
        "имеем массив животных\n",
        "\n",
        "для каждого животного в списке животных\n",
        "\n",
        "печатаем животное\n"
      ],
      "metadata": {
        "id": "NzmA3DloVB6m"
      }
    },
    {
      "cell_type": "markdown",
      "source": [
        "# Цикл с нумерацией элементов, функция enumerate()\n",
        "В финале рассмотрим ещё одну функцию, enumerate(). Она позволяет добавить\n",
        "порядковый номер к элементам итерируемой последовательности. Доработаем\n",
        "пример с животными. Будем выводить порядковый номер перед указанием\n",
        "животного."
      ],
      "metadata": {
        "id": "nbfL8huTVLvo"
      }
    },
    {
      "cell_type": "code",
      "source": [
        "animals = ['cat', 'dog', 'wolf', 'rat', 'dragon']\n",
        "for i, animal in enumerate(animals, start=1):\n",
        "  print(i, animal)"
      ],
      "metadata": {
        "colab": {
          "base_uri": "https://localhost:8080/"
        },
        "id": "aEHb_dDoVXRM",
        "outputId": "9e748a7c-23bf-4445-e4fe-a7c941bff1d0"
      },
      "execution_count": null,
      "outputs": [
        {
          "output_type": "stream",
          "name": "stdout",
          "text": [
            "1 cat\n",
            "2 dog\n",
            "3 wolf\n",
            "4 rat\n",
            "5 dragon\n"
          ]
        }
      ]
    },
    {
      "cell_type": "markdown",
      "source": [
        "Что изменилось?\n",
        "\n",
        "● После for указано две переменные через запятую. В i будет помещаться\n",
        "порядковый номер. В animal очередное животное из списка.\n",
        "\n",
        "● Функция enumerate() получила в качестве первого аргумента список\n",
        "животных. Второй аргумент — стартовое значение счётчика, т.е. первое\n",
        "значение, которое попадёт в i.\n",
        "Если второй аргумент не передать, нумерация начнётся с нуля.\n",
        "\n",
        "Важно! Функция **enumerate** позволяет перебирать только целые числа в\n",
        "порядке возрастания с шагом один.\n"
      ],
      "metadata": {
        "id": "I-WyXNHCVgJ1"
      }
    },
    {
      "cell_type": "markdown",
      "source": [
        "# **Лекция 2. Простые типы данных**"
      ],
      "metadata": {
        "id": "cejUdZmWWFqk"
      }
    },
    {
      "cell_type": "markdown",
      "source": [
        "# 1. Простые типы данных и коллекции\n",
        "В Python существует достаточно большое количество типов данных. И речь идёт не\n",
        "о множестве вариантов целого числа на 1, 2, 4 и 8 байт со знаком и без знака.\n",
        "Целый тип как раз представлен в единственном экземпляре. Условно все типы\n",
        "данных можно разделить на простые типы и коллекции. А вот примитивных типов,\n",
        "вроде того же целого беззнакового на 2 байта и т.п. в Python нет.\n",
        "\n",
        "Коллекции объединяют в себе другие типы данных. Самый популярные пример\n",
        "коллекции в информатике — массив.\n",
        "В противоположность коллекциям простые типы не объединяют объекты в группы,\n",
        "а используются сами по себе. О них пойдет речь не этой лекции. Там, где это\n",
        "необходимо, будем вспоминать коллекции. Но подробнее разберём их на\n",
        "следующей лекции."
      ],
      "metadata": {
        "id": "5XcTN_qcW5UB"
      }
    },
    {
      "cell_type": "markdown",
      "source": [
        "# Строгая динамическая типизация Python\n",
        "Повторим один момент из первой лекции. Python является языком со строгой\n",
        "динамической типизацией. Это означает что тип объекта изменить невозможно, он\n",
        "строго задаётся при создании объекта. При этом переменные могут ссылаться на\n",
        "объекты разных типов. И это не вызывает ошибки."
      ],
      "metadata": {
        "id": "dRkkFKzFW_b5"
      }
    },
    {
      "cell_type": "code",
      "source": [
        "a = 5\n",
        "a = \"hello world\"\n",
        "a = 42.0 * 3.141592 / 2.71828"
      ],
      "metadata": {
        "id": "KVrqrtSeXE8X"
      },
      "execution_count": null,
      "outputs": []
    },
    {
      "cell_type": "markdown",
      "source": [
        "# Функция type()\n",
        "Чтобы разобраться в динамической типизации, воспользуемся функцией type(). Она\n",
        "возвращает класс объекта, его тип."
      ],
      "metadata": {
        "id": "r5P8_MhAXHaR"
      }
    },
    {
      "cell_type": "code",
      "source": [
        "a = 5\n",
        "print(type(a))\n",
        "a = \"hello world\"\n",
        "print(type(a))\n",
        "a = 42.0 * 3.141592 / 2.71828\n",
        "print(type(a))"
      ],
      "metadata": {
        "colab": {
          "base_uri": "https://localhost:8080/"
        },
        "id": "40o0xTXAXK3I",
        "outputId": "ebb5b8f5-96c7-4d9c-f789-e561fc3b48bc"
      },
      "execution_count": null,
      "outputs": [
        {
          "output_type": "stream",
          "name": "stdout",
          "text": [
            "<class 'int'>\n",
            "<class 'str'>\n",
            "<class 'float'>\n"
          ]
        }
      ]
    },
    {
      "cell_type": "markdown",
      "source": [
        "Как видите у нас меняется класс объекта, на который ссылается переменная. Она\n",
        "динамически изменяется.\n",
        "Слово class при выводе типа сообщает, что мы обратились к объекту, экземпляру\n",
        "класса. Это не просто пара байт информации, а сложная структура,\n",
        "обеспечивающая работу кода в целом и динамическую типизацию в частности.\n",
        "# Строгая типизация\n",
        "Вспомним функцию id() из прошлой лекции.\n"
      ],
      "metadata": {
        "id": "yHX0v6uKXOW2"
      }
    },
    {
      "cell_type": "code",
      "source": [
        "a = 5\n",
        "5\n",
        "print(type(a), id(a))\n",
        "a = \"hello world\"\n",
        "print(type(a), id(a))\n",
        "a = 42.0 * 3.141592 / 2.71828\n",
        "print(type(a), id(a)"
      ],
      "metadata": {
        "id": "WM6iZ3_jXSRJ"
      },
      "execution_count": null,
      "outputs": []
    },
    {
      "cell_type": "markdown",
      "source": [
        "Каждый раз возвращается новый адрес объекта в памяти. Python не меняет класс\n",
        "объекта. Он меняет переменную. Каждый раз она ссылается на новый объект. Такая\n",
        "механика прописана в самом интерпретаторе.\n",
        "# Функция isinstance()\n",
        "Для проверки типа объекта используется функция isinstance()."
      ],
      "metadata": {
        "id": "mHwP0sJ6XUyd"
      }
    },
    {
      "cell_type": "code",
      "source": [
        "isinstance(object, classinfo)"
      ],
      "metadata": {
        "id": "tvSj_sA0XbaX"
      },
      "execution_count": null,
      "outputs": []
    },
    {
      "cell_type": "markdown",
      "source": [
        "Функция принимает на вход объект и класс и возвращает истину, если объект\n",
        "является экземпляром прямого или косвенного подкласса."
      ],
      "metadata": {
        "id": "aWbztCAaXdiJ"
      }
    },
    {
      "cell_type": "code",
      "source": [
        "data = 42\n",
        "print(isinstance(data, int))"
      ],
      "metadata": {
        "colab": {
          "base_uri": "https://localhost:8080/"
        },
        "id": "3izAhVw9XinW",
        "outputId": "d6903712-00d3-4c27-c91a-363dbe71f2e3"
      },
      "execution_count": null,
      "outputs": [
        {
          "output_type": "stream",
          "name": "stdout",
          "text": [
            "True\n"
          ]
        }
      ]
    },
    {
      "cell_type": "markdown",
      "source": [
        "Получили True, т.к. 42 — целое число.\n"
      ],
      "metadata": {
        "id": "DEJ38h9DXoYg"
      }
    },
    {
      "cell_type": "code",
      "source": [
        "data = True\n",
        "print(isinstance(data, int))"
      ],
      "metadata": {
        "colab": {
          "base_uri": "https://localhost:8080/"
        },
        "id": "GmZOkNrYXqWf",
        "outputId": "65b0f3fa-27ac-4002-bf0b-b471134fe43e"
      },
      "execution_count": null,
      "outputs": [
        {
          "output_type": "stream",
          "name": "stdout",
          "text": [
            "True\n"
          ]
        }
      ]
    },
    {
      "cell_type": "markdown",
      "source": [
        "Снова истина, т.к. логический объект True в Python подклассом, основанном на\n",
        "классе int. Проверка может проходить сразу по нескольким классам. В этом случае\n",
        "истину вернётся, если объект является экземпляром любого из переданных в\n",
        "кортеже классов."
      ],
      "metadata": {
        "id": "a5M8yCx6XrgR"
      }
    },
    {
      "cell_type": "code",
      "source": [
        "data = 3.14\n",
        "print(isinstance(data, (int, float, complex)))"
      ],
      "metadata": {
        "id": "j1jy_odhXu9c"
      },
      "execution_count": null,
      "outputs": []
    },
    {
      "cell_type": "markdown",
      "source": [
        "**Внимание**! Обратите внимание, что функция принимает 2 аргумента. Второй\n",
        "аргумент — кортеж, внутри которого через запятую перечислены 3 класса.\n",
        "\n",
        "\n",
        "🔥 **Важно!** Для проверки типа можно вызывать функцию type() и сравнить\n",
        "значение с результатом. Но документация к языку не рекомендует так делать.\n",
        "Для получения информации о типе объекта правильно использовать функцию\n",
        "isinstance()."
      ],
      "metadata": {
        "id": "7VkuBnU1XyIr"
      }
    },
    {
      "cell_type": "markdown",
      "source": [
        "# Оператор is\n",
        "Ещё один способ взаимодействия с типами данных — оператор is. Он похож на\n",
        "сравнение (двойное равно), но сравнивает не значения, а сами объекты."
      ],
      "metadata": {
        "id": "DKFmAURdX5-1"
      }
    },
    {
      "cell_type": "code",
      "source": [
        "num = 2 + 2 * 2\n",
        "digit = 36 / 6\n",
        "print(num == digit)\n",
        "print(num is digit)\n"
      ],
      "metadata": {
        "id": "UvVGEM9PX_42"
      },
      "execution_count": null,
      "outputs": []
    },
    {
      "cell_type": "markdown",
      "source": [
        "По сути оператор is занимается сравнением \"айдишников\" объектов, т.е. проверяет\n",
        "лежит ли объекты в одном месте в памяти компьютера.\n",
        "Заменим в примере обычное деление на целочисленное. Python вычислил оба\n",
        "значения на этапе предкомпиляции, понял что это \"целое шесть\" и создал один\n",
        "объект вместо двух. Теперь оператор is возвращает истину, т.к. num и digit\n",
        "указывают на один и тот же объект в памяти.\n"
      ],
      "metadata": {
        "id": "WZ7dwkWJYDWB"
      }
    },
    {
      "cell_type": "markdown",
      "source": [
        "# Изменяемые и неизменяемые типы и их особенности\n",
        "Класс объекта зафиксирован. Целое всегда будет целым, строка строкой, а кортеж\n",
        "кортежем. Однако объекты в Python делятся на изменяемые (mutable) и\n",
        "неизменяемые (immutable). При попытке изменить неизменяемый объект\n",
        "возможны два варианта:"
      ],
      "metadata": {
        "id": "ETmRq18TYHZe"
      }
    },
    {
      "cell_type": "markdown",
      "source": [
        "● Замена на новый объект того же типа"
      ],
      "metadata": {
        "id": "kKsGOrHeYL2i"
      }
    },
    {
      "cell_type": "code",
      "source": [
        "a = 5\n",
        "print(a, id(a))\n",
        "a += 1\n",
        "print(a, id(a))"
      ],
      "metadata": {
        "id": "NOqsLalOYO7B"
      },
      "execution_count": null,
      "outputs": []
    },
    {
      "cell_type": "markdown",
      "source": [
        "Переменная a ссылается на число 5, которое лежит в определённом месте в ОЗУ.\n",
        "При увеличении значения на единицу был создан новый объект в памяти.\n",
        "Переменная a теперь указывает на него.\n",
        "\n",
        "● Второй вариант развития событий при изменении неизменяемого — вызов\n",
        "ошибки. Строка неизменяема. Попытаемся заменить пробел\n",
        "подчеркиванием."
      ],
      "metadata": {
        "id": "A1FI_AwAYRd4"
      }
    },
    {
      "cell_type": "code",
      "source": [
        "xt = 'Hello world!'\n",
        "txt[5] = '_'"
      ],
      "metadata": {
        "id": "WNSjsNNsYUmx"
      },
      "execution_count": null,
      "outputs": []
    },
    {
      "cell_type": "markdown",
      "source": [
        "Получим TypeError: *'str' object does not support item assignment* т.к.\n",
        "изменить символ в неизменяемой строке нельзя. Но ведь в Python есть\n",
        "возможность такой замены"
      ],
      "metadata": {
        "id": "MnrpIrqZYXvW"
      }
    },
    {
      "cell_type": "code",
      "source": [
        "txt = 'Hello world!'\n",
        "print(txt, id(txt))\n",
        "txt = txt.replace(' ', '_')\n",
        "print(txt, id(txt))"
      ],
      "metadata": {
        "id": "HNMetHI_ZyoJ"
      },
      "execution_count": null,
      "outputs": []
    },
    {
      "cell_type": "markdown",
      "source": [
        "Присмотритесь к адресам. Мы создали новый объект строкового типа, который\n",
        "занимает новое место в памяти. Изменить старый не удалось.\n",
        "К строкам мы вернёмся позже на этой и следующей лекциях"
      ],
      "metadata": {
        "id": "IyjS96QgYiQf"
      }
    },
    {
      "cell_type": "markdown",
      "source": [
        "# Запоминаем неизменяемые типы данных\n",
        "Как понять изменяемый перед нами объект или нет. Вариант 1 — запомнить\n",
        "таблицу."
      ],
      "metadata": {
        "id": "0jhZTOdbYmZ_"
      }
    },
    {
      "cell_type": "markdown",
      "source": [
        "Как вы можете заметить все числа в Python относятся к неизменяемым типам\n",
        "данных. А значит любые математические операции создают новый объект в памяти.\n",
        "Пример ниже служит подтверждением."
      ],
      "metadata": {
        "id": "yhaY99qdYrtE"
      }
    },
    {
      "cell_type": "code",
      "source": [
        "a = с = 2\n",
        "b = 3\n",
        "print(a, id(a), b, id(b), c, id(c))\n",
        "a = b + c\n",
        "print(a, id(a), b, id(b), c, id(c))"
      ],
      "metadata": {
        "id": "FOsxiW2oYuLg"
      },
      "execution_count": null,
      "outputs": []
    },
    {
      "cell_type": "markdown",
      "source": [
        "Обратите внимание на первую строку кода. Подобное присваивание допустимо в\n",
        "Python. Переменные a и c будут указывать на один и тот же объект.\n",
        "После сложения переменная a указывает на новый объект. Переменная c по\n",
        "прежнему указывает на число 2, т.к. int — неизменяемый тип данных.\n",
        "# Хэш hash() как проверка на неизменяемость\n",
        "Второй вариант убедиться в изменяемости или неизменяемости — проверка\n",
        "на хеширование.\n",
        "\n",
        "**Хеш** — это криптографическая функция хеширования, которую обычно\n",
        "называют просто хэшем. **Хеш-функция** представляет собой алгоритм,\n",
        "который может преобразовать произвольный массив данных в набор бит\n",
        "фиксированной длины.\n",
        "\n",
        "В Python для получения хеша используется функция hash(). Если объект\n",
        "является неизменяемым, функция возвращает число — хеш-сумму.\n",
        "Изменяемые объекты хешировать нельзя исходя из самого определения\n",
        "хеш-функции. Если массив данных может меняться, значит будет меняться и\n",
        "хеш-сумма. Подобное поведение нарушало бы логику кода. Рассмотрим на\n",
        "примере."
      ],
      "metadata": {
        "id": "cmTY3sBQYx-C"
      }
    },
    {
      "cell_type": "code",
      "source": [
        "x = 42\n",
        "y = 'text'\n",
        "z = 3.1415\n",
        "print(hash(x), hash(y), hash(z))\n",
        "my_list = [x, y, z]\n",
        "print(hash(my_list)) # получим ошибку, т.к. list изменяемый"
      ],
      "metadata": {
        "id": "K3DMbBM8ZJ_m"
      },
      "execution_count": null,
      "outputs": []
    },
    {
      "cell_type": "markdown",
      "source": [
        "Как видите нижняя строка кода вызывает ошибку *TypeError: unhashable type:*\n",
        "'list' Если вдруг забыли изменяемый объект или нет, просто попробуйте\n",
        "получить его хеш."
      ],
      "metadata": {
        "id": "RtSPgmJvZPJ8"
      }
    },
    {
      "cell_type": "markdown",
      "source": [
        "# 2. Аннотация типов\n",
        "Учитывая динамическую типизацию, Python не требует аннотацию типов\n",
        "переменных перед их использованием. Однако подобная возможность в языке\n",
        "существует. Появилась она относительно недавно. Указание типов полезно\n",
        "программистам, которые перешли из других языков программирования со\n",
        "статической типизации и привыкли объявлять тип переменной. Также аннотация\n",
        "типов упрощает отладку кода. Ведь IDE может подсказать возможные ошибки, если\n",
        "программист присваивает переменной новый, другой тип данных.\n",
        "Разберём на примере."
      ],
      "metadata": {
        "id": "l-c5WDBjveaS"
      }
    },
    {
      "cell_type": "code",
      "source": [
        "a: int = 42\n",
        "b: float = float(input('Введи число: '))\n",
        "a = a / b\n"
      ],
      "metadata": {
        "id": "140LSPwdvi_j"
      },
      "execution_count": null,
      "outputs": []
    },
    {
      "cell_type": "markdown",
      "source": [
        "После имени переменной ставим двоеточие и через пробел указываем тип данных.\n",
        "Он совпадает с именем функции-класса, но без круглых скобок на конце.\n",
        "IDE и линтеры выдадут предупреждение для строки 3 Expected type 'int', got\n",
        "'float' instead Мы пытаемся в переменную a, указанную как хранилище целых\n",
        "чисел сохранить результат деления, т.е. вещественное число. Исправить можно\n",
        "например изменив строку 1 на следующую: a: float = 42.0\n",
        "Далее на курсе мы будем говорим о функциях. Забежим немного вперёд, чтобы\n",
        "рассмотреть пользу указания типов при создании своих функций. Внимание на\n",
        "пример кода:"
      ],
      "metadata": {
        "id": "xlvoCEkrvnQt"
      }
    },
    {
      "cell_type": "code",
      "source": [
        "def my_func(data: list[int, float]) -> float:\n",
        "  res = sum(data) / len(data)\n",
        "  return res\n",
        "print(my_func([2, 5.5, 15, 8.0, 13.74]))"
      ],
      "metadata": {
        "colab": {
          "base_uri": "https://localhost:8080/"
        },
        "id": "YzzGKMzOvuBj",
        "outputId": "9cadec07-853a-4b0c-dc0b-b7a8eb3f7d57"
      },
      "execution_count": null,
      "outputs": [
        {
          "output_type": "stream",
          "name": "stdout",
          "text": [
            "8.848\n"
          ]
        }
      ]
    },
    {
      "cell_type": "markdown",
      "source": [
        "Аннотация подсказывает, что в качестве аргумента функция получает список,\n",
        "заполненный целыми или вещественными числами. Результат работы функции -\n",
        "вещественное число.\n",
        "\n",
        "🔥 PEP-8! Код до и после функции отделяется двумя пустыми строками.\n",
        "Начиная с Python 3.10 возможности указания типов расширились. Например можно\n",
        "указать несколько типов через вертикальную черту. Первый пример из этой главы\n",
        "можно записать так:"
      ],
      "metadata": {
        "id": "p-uZrhyZv57T"
      }
    },
    {
      "cell_type": "code",
      "source": [
        "a: int | float = 42\n",
        "b: float = float(input('Введи число: '))\n",
        "a = a / b"
      ],
      "metadata": {
        "id": "7tOeIVczwBHe"
      },
      "execution_count": null,
      "outputs": []
    },
    {
      "cell_type": "markdown",
      "source": [
        "Мы сообщили, что в переменной a будем хранить числа, целые или вещественные.\n"
      ],
      "metadata": {
        "id": "KX2ih2-NwF2D"
      }
    },
    {
      "cell_type": "markdown",
      "source": [
        "# Модуль typing\n",
        "Для указания типа переменной можно использовать модуль typing. Они содержать\n",
        "как готовые типы данных, так и обобщенные. В таблице представлен доступные на\n",
        "текущий момент типы, разделённые по группам. Назначение большинства из них\n",
        "понятно по названиям. А с некоторыми вы никогда не столкнётесь."
      ],
      "metadata": {
        "id": "4U7xzEeawJK3"
      }
    },
    {
      "cell_type": "markdown",
      "source": [
        "Ещё раз напомню, что программа будет работать без указания типа. Более того, в\n",
        "процессе исполнения Python игнорирует аннотации. Если переменная получит\n",
        "значение неподходящего типа, ошибку это не вызовет. Указание типов служит для\n",
        "повышения читаемости кода и более быстрой отладки.\n",
        "Если вы будете работать в команде, которая придерживается аннотации, вы знаете\n",
        "где искать. Далее на курсе мы будем использовать указание типа там, где это\n",
        "уместно. Но не будет делать аннотацию обязательной."
      ],
      "metadata": {
        "id": "l7ErZEmJwWDa"
      }
    },
    {
      "cell_type": "markdown",
      "source": [
        "# **3. В Python всё объект. Что такое атрибут**\n",
        "и метод объекта\n",
        "С объектами в Python мы разобрались. Всё есть объект. У объектов могут быть\n",
        "атрибуты и методы. Обычно о них говорят при изучении ООП. Но даже используя\n",
        "процедурный подход к написанию кода мы пользуемся объектами \"из коробки\", а\n",
        "следовательно можем обращаться к их атрибутам и методам.\n",
        "# Атрибуты объекта"
      ],
      "metadata": {
        "id": "MOtjJweMwac6"
      }
    },
    {
      "cell_type": "markdown",
      "source": [
        "**Атрибуты** — это переменные, конкретные характеристики объекта, такие как цвет\n",
        "поля или имя пользователя. По сути атрибут хранит информацию о состоянии\n",
        "объекта. Для обращения к атрибуту объекта в Python нужно после его имени\n",
        "поставить точку и далее указать название атрибута. Пока мы не научились\n",
        "создавать свои классы, рассмотрим атрибут на следующем примере."
      ],
      "metadata": {
        "id": "GO8u22oVwgMF"
      }
    },
    {
      "cell_type": "code",
      "source": [
        "print(\"Hello world!\".__doc__)\n",
        "print(str.__doc__)"
      ],
      "metadata": {
        "id": "7itLwVjxwmFH"
      },
      "execution_count": null,
      "outputs": []
    },
    {
      "cell_type": "markdown",
      "source": [
        "При запуске программы получим два совершенно одинаковых описания работы строк. Что\n",
        "произошло? Мы обратились к магическому атрибуту строки под названием __doc__.\n",
        "Данный атрибут хранит строку документации, описывающую объект."
      ],
      "metadata": {
        "id": "UrjvuJtRwokS"
      }
    },
    {
      "cell_type": "markdown",
      "source": [
        "# И снова о подчёркивании \"_\"\n",
        "Как вы только что заметили, мы обратились к атрибуту, в названии которого\n",
        "использован символ подчёркивания. А если точнее, то два подчёркивания до имени\n",
        "и два после. Такие переменные называют магическими или дандер. Магическим\n",
        "может быть как атрибут, хранящий какие-то данные, так и метод.\n",
        "\n",
        "🔥 Важно! Магические атрибуты и методы более подробно рассмотрим во\n",
        "второй части курса, когда речь пойдёт о ООП. Сейчас о них стоит думать, как о\n",
        "внутренних механизмах, которые обеспечивают работу Python с объектами и\n",
        "позволяют программисту писать короткий код не задумываясь о внутренней\n",
        "реализации."
      ],
      "metadata": {
        "id": "9cZsWcd3wsny"
      }
    },
    {
      "cell_type": "markdown",
      "source": [
        "# Методы объекта\n",
        "**Методы** — это функции, которые описаны внутри объекта или класса. Они относятся\n",
        "к определенному объекту и позволяют взаимодействовать с ними или другими\n",
        "частями кода. По сути метод — это функция класса.\n",
        "В Python для обращения к методу используется точечная нотация, как и с\n",
        "атрибутами. Отличии в том, что после имени метода ставятся круглые скобки. А\n",
        "если метод ожидает получить данные на вход, они указываются как аргументы в\n",
        "скобках. Рассмотрим на примере:"
      ],
      "metadata": {
        "id": "Zm_o3MdFwykB"
      }
    },
    {
      "cell_type": "code",
      "source": [
        "print(\"Hello world!\".upper())\n",
        "print(\"Hello world!\".count('l'))"
      ],
      "metadata": {
        "colab": {
          "base_uri": "https://localhost:8080/"
        },
        "id": "O2-jNgE0w3Jn",
        "outputId": "9b78c9fe-acbd-472b-b087-6497adce3954"
      },
      "execution_count": null,
      "outputs": [
        {
          "output_type": "stream",
          "name": "stdout",
          "text": [
            "HELLO WORLD!\n",
            "3\n"
          ]
        }
      ]
    },
    {
      "cell_type": "markdown",
      "source": [
        "В первой строке мы вызвали метод строки, который пытается привести её к\n",
        "верхнему регистру. Метод count() принимает на вход аргумент — строку для поиска.\n",
        "В качестве ответа возвращается целое число, количество вхождений переданной\n",
        "строки внутри исходной."
      ],
      "metadata": {
        "id": "2Ywdbn7fw5Td"
      }
    },
    {
      "cell_type": "markdown",
      "source": [
        "# Функция dir()\n",
        "Один из способов проверки наличия атрибутов и методов у объекта - передача его\n",
        "функции dir() в качестве аргумента. Посмотрим на примере строки, раз уж мы с ней\n",
        "активно работаем в этой главе."
      ],
      "metadata": {
        "id": "O3u3nZW4xCR1"
      }
    },
    {
      "cell_type": "code",
      "source": [
        "print(dir(\"Hello world!\"))"
      ],
      "metadata": {
        "id": "JyS70qq5xFde"
      },
      "execution_count": null,
      "outputs": []
    },
    {
      "cell_type": "markdown",
      "source": [
        "Получили огромный список значений. Первая половина списка - дандер методы. Их\n",
        "легко отличить по подчёркиваниям. Обычно их не используют на прямую, если не\n",
        "решают узкоспециализированные задачи или не работают с переопределением\n",
        "методов в ООП. Впрочем, переопределение методов — узкоспециализированная\n",
        "задача.\n",
        "Вторая часть списка — методы, которые доступны программисту для работы со\n",
        "строками. Тут есть upper и count, которые мы уже использовали и ещё десяток\n",
        "других. Поговорим о строковых методах позже. А пока уточню, что функция dir()\n",
        "полезна, если вы пишите код и забыли название нужного вам метода.\n",
        "\n",
        "🔥 Важно! Некоторые IDE выводят информацию об атрибутах и методах объекта\n",
        "после нажатия точки за именем. IDE неявно вызывает функцию dir()."
      ],
      "metadata": {
        "id": "nhVuiF72xIbU"
      }
    },
    {
      "cell_type": "markdown",
      "source": [
        "# Функция help()\n",
        "Встроенная функция help() выводит подсказку об объекте, который передается в\n",
        "качестве аргумента. Таким объектом может быть что угодно, будь то переменная,\n",
        "функция, класс. Можно сказать, что help() - более продвинутая версия dir(). Ведь\n",
        "программист получает не только имена методов и атрибутов объекта, но и описание\n",
        "того как они работают.\n",
        "Попробуем вызвать \"помощь\" для \"привет мира\"."
      ],
      "metadata": {
        "id": "-JfNbxgxxfTR"
      }
    },
    {
      "cell_type": "code",
      "source": [
        "help(\"Hello world!\")"
      ],
      "metadata": {
        "colab": {
          "base_uri": "https://localhost:8080/"
        },
        "id": "GKWsz_inxiu-",
        "outputId": "c8673373-f678-409e-e81d-6bb540561782"
      },
      "execution_count": null,
      "outputs": [
        {
          "output_type": "stream",
          "name": "stdout",
          "text": [
            "No Python documentation found for 'Hello world!'.\n",
            "Use help() to get the interactive help utility.\n",
            "Use help(str) for help on the str class.\n",
            "\n"
          ]
        }
      ]
    },
    {
      "cell_type": "markdown",
      "source": [
        "На первый взгляд не получили ничего хороше, документации нет"
      ],
      "metadata": {
        "id": "vJvv3yb7xnjr"
      }
    },
    {
      "cell_type": "markdown",
      "source": [
        "Но если внимательно прочитать описание, станет понятно что:\n",
        "1. Функция help() без аргументов запускает интерактивный режим. В нём\n",
        "можно указывать имена зарезервированных слов, встроенных функций,\n",
        "модулей и получать справочную информацию."
      ],
      "metadata": {
        "id": "vYOvLYWoxuRJ"
      }
    },
    {
      "cell_type": "code",
      "source": [
        "help()"
      ],
      "metadata": {
        "colab": {
          "base_uri": "https://localhost:8080/"
        },
        "id": "E2uoHqvUxweH",
        "outputId": "19f5f618-b5d1-47a1-a08d-00f0cf666f9f"
      },
      "execution_count": null,
      "outputs": [
        {
          "output_type": "stream",
          "name": "stdout",
          "text": [
            "\n",
            "Welcome to Python 3.10's help utility!\n",
            "\n",
            "If this is your first time using Python, you should definitely check out\n",
            "the tutorial on the internet at https://docs.python.org/3.10/tutorial/.\n",
            "\n",
            "Enter the name of any module, keyword, or topic to get help on writing\n",
            "Python programs and using Python modules.  To quit this help utility and\n",
            "return to the interpreter, just type \"quit\".\n",
            "\n",
            "To get a list of available modules, keywords, symbols, or topics, type\n",
            "\"modules\", \"keywords\", \"symbols\", or \"topics\".  Each module also comes\n",
            "with a one-line summary of what it does; to list the modules whose name\n",
            "or summary contain a given string such as \"spam\", type \"modules spam\".\n",
            "\n",
            "help> quit\n",
            "\n",
            "You are now leaving help and returning to the Python interpreter.\n",
            "If you want to ask for help on a particular object directly from the\n",
            "interpreter, you can type \"help(object)\".  Executing \"help('string')\"\n",
            "has the same effect as typing a particular string at the help> prompt.\n"
          ]
        }
      ]
    },
    {
      "cell_type": "markdown",
      "source": [
        "Для выхода из режима справки используйте команду quit."
      ],
      "metadata": {
        "id": "FtkgbKHOx3-n"
      }
    },
    {
      "cell_type": "markdown",
      "source": [
        "2. Если передать в функцию имя класса, получим подробное описание его\n",
        "работы."
      ],
      "metadata": {
        "id": "MAXDCnR7x6Yd"
      }
    },
    {
      "cell_type": "code",
      "source": [
        "help(str)"
      ],
      "metadata": {
        "colab": {
          "base_uri": "https://localhost:8080/"
        },
        "id": "PiKlnLCHx8cc",
        "outputId": "adfcb703-0ca6-4c08-a441-93ba2073bc0f"
      },
      "execution_count": null,
      "outputs": [
        {
          "output_type": "stream",
          "name": "stdout",
          "text": [
            "Help on class str in module builtins:\n",
            "\n",
            "class str(object)\n",
            " |  str(object='') -> str\n",
            " |  str(bytes_or_buffer[, encoding[, errors]]) -> str\n",
            " |  \n",
            " |  Create a new string object from the given object. If encoding or\n",
            " |  errors is specified, then the object must expose a data buffer\n",
            " |  that will be decoded using the given encoding and error handler.\n",
            " |  Otherwise, returns the result of object.__str__() (if defined)\n",
            " |  or repr(object).\n",
            " |  encoding defaults to sys.getdefaultencoding().\n",
            " |  errors defaults to 'strict'.\n",
            " |  \n",
            " |  Methods defined here:\n",
            " |  \n",
            " |  __add__(self, value, /)\n",
            " |      Return self+value.\n",
            " |  \n",
            " |  __contains__(self, key, /)\n",
            " |      Return key in self.\n",
            " |  \n",
            " |  __eq__(self, value, /)\n",
            " |      Return self==value.\n",
            " |  \n",
            " |  __format__(self, format_spec, /)\n",
            " |      Return a formatted version of the string as described by format_spec.\n",
            " |  \n",
            " |  __ge__(self, value, /)\n",
            " |      Return self>=value.\n",
            " |  \n",
            " |  __getattribute__(self, name, /)\n",
            " |      Return getattr(self, name).\n",
            " |  \n",
            " |  __getitem__(self, key, /)\n",
            " |      Return self[key].\n",
            " |  \n",
            " |  __getnewargs__(...)\n",
            " |  \n",
            " |  __gt__(self, value, /)\n",
            " |      Return self>value.\n",
            " |  \n",
            " |  __hash__(self, /)\n",
            " |      Return hash(self).\n",
            " |  \n",
            " |  __iter__(self, /)\n",
            " |      Implement iter(self).\n",
            " |  \n",
            " |  __le__(self, value, /)\n",
            " |      Return self<=value.\n",
            " |  \n",
            " |  __len__(self, /)\n",
            " |      Return len(self).\n",
            " |  \n",
            " |  __lt__(self, value, /)\n",
            " |      Return self<value.\n",
            " |  \n",
            " |  __mod__(self, value, /)\n",
            " |      Return self%value.\n",
            " |  \n",
            " |  __mul__(self, value, /)\n",
            " |      Return self*value.\n",
            " |  \n",
            " |  __ne__(self, value, /)\n",
            " |      Return self!=value.\n",
            " |  \n",
            " |  __repr__(self, /)\n",
            " |      Return repr(self).\n",
            " |  \n",
            " |  __rmod__(self, value, /)\n",
            " |      Return value%self.\n",
            " |  \n",
            " |  __rmul__(self, value, /)\n",
            " |      Return value*self.\n",
            " |  \n",
            " |  __sizeof__(self, /)\n",
            " |      Return the size of the string in memory, in bytes.\n",
            " |  \n",
            " |  __str__(self, /)\n",
            " |      Return str(self).\n",
            " |  \n",
            " |  capitalize(self, /)\n",
            " |      Return a capitalized version of the string.\n",
            " |      \n",
            " |      More specifically, make the first character have upper case and the rest lower\n",
            " |      case.\n",
            " |  \n",
            " |  casefold(self, /)\n",
            " |      Return a version of the string suitable for caseless comparisons.\n",
            " |  \n",
            " |  center(self, width, fillchar=' ', /)\n",
            " |      Return a centered string of length width.\n",
            " |      \n",
            " |      Padding is done using the specified fill character (default is a space).\n",
            " |  \n",
            " |  count(...)\n",
            " |      S.count(sub[, start[, end]]) -> int\n",
            " |      \n",
            " |      Return the number of non-overlapping occurrences of substring sub in\n",
            " |      string S[start:end].  Optional arguments start and end are\n",
            " |      interpreted as in slice notation.\n",
            " |  \n",
            " |  encode(self, /, encoding='utf-8', errors='strict')\n",
            " |      Encode the string using the codec registered for encoding.\n",
            " |      \n",
            " |      encoding\n",
            " |        The encoding in which to encode the string.\n",
            " |      errors\n",
            " |        The error handling scheme to use for encoding errors.\n",
            " |        The default is 'strict' meaning that encoding errors raise a\n",
            " |        UnicodeEncodeError.  Other possible values are 'ignore', 'replace' and\n",
            " |        'xmlcharrefreplace' as well as any other name registered with\n",
            " |        codecs.register_error that can handle UnicodeEncodeErrors.\n",
            " |  \n",
            " |  endswith(...)\n",
            " |      S.endswith(suffix[, start[, end]]) -> bool\n",
            " |      \n",
            " |      Return True if S ends with the specified suffix, False otherwise.\n",
            " |      With optional start, test S beginning at that position.\n",
            " |      With optional end, stop comparing S at that position.\n",
            " |      suffix can also be a tuple of strings to try.\n",
            " |  \n",
            " |  expandtabs(self, /, tabsize=8)\n",
            " |      Return a copy where all tab characters are expanded using spaces.\n",
            " |      \n",
            " |      If tabsize is not given, a tab size of 8 characters is assumed.\n",
            " |  \n",
            " |  find(...)\n",
            " |      S.find(sub[, start[, end]]) -> int\n",
            " |      \n",
            " |      Return the lowest index in S where substring sub is found,\n",
            " |      such that sub is contained within S[start:end].  Optional\n",
            " |      arguments start and end are interpreted as in slice notation.\n",
            " |      \n",
            " |      Return -1 on failure.\n",
            " |  \n",
            " |  format(...)\n",
            " |      S.format(*args, **kwargs) -> str\n",
            " |      \n",
            " |      Return a formatted version of S, using substitutions from args and kwargs.\n",
            " |      The substitutions are identified by braces ('{' and '}').\n",
            " |  \n",
            " |  format_map(...)\n",
            " |      S.format_map(mapping) -> str\n",
            " |      \n",
            " |      Return a formatted version of S, using substitutions from mapping.\n",
            " |      The substitutions are identified by braces ('{' and '}').\n",
            " |  \n",
            " |  index(...)\n",
            " |      S.index(sub[, start[, end]]) -> int\n",
            " |      \n",
            " |      Return the lowest index in S where substring sub is found,\n",
            " |      such that sub is contained within S[start:end].  Optional\n",
            " |      arguments start and end are interpreted as in slice notation.\n",
            " |      \n",
            " |      Raises ValueError when the substring is not found.\n",
            " |  \n",
            " |  isalnum(self, /)\n",
            " |      Return True if the string is an alpha-numeric string, False otherwise.\n",
            " |      \n",
            " |      A string is alpha-numeric if all characters in the string are alpha-numeric and\n",
            " |      there is at least one character in the string.\n",
            " |  \n",
            " |  isalpha(self, /)\n",
            " |      Return True if the string is an alphabetic string, False otherwise.\n",
            " |      \n",
            " |      A string is alphabetic if all characters in the string are alphabetic and there\n",
            " |      is at least one character in the string.\n",
            " |  \n",
            " |  isascii(self, /)\n",
            " |      Return True if all characters in the string are ASCII, False otherwise.\n",
            " |      \n",
            " |      ASCII characters have code points in the range U+0000-U+007F.\n",
            " |      Empty string is ASCII too.\n",
            " |  \n",
            " |  isdecimal(self, /)\n",
            " |      Return True if the string is a decimal string, False otherwise.\n",
            " |      \n",
            " |      A string is a decimal string if all characters in the string are decimal and\n",
            " |      there is at least one character in the string.\n",
            " |  \n",
            " |  isdigit(self, /)\n",
            " |      Return True if the string is a digit string, False otherwise.\n",
            " |      \n",
            " |      A string is a digit string if all characters in the string are digits and there\n",
            " |      is at least one character in the string.\n",
            " |  \n",
            " |  isidentifier(self, /)\n",
            " |      Return True if the string is a valid Python identifier, False otherwise.\n",
            " |      \n",
            " |      Call keyword.iskeyword(s) to test whether string s is a reserved identifier,\n",
            " |      such as \"def\" or \"class\".\n",
            " |  \n",
            " |  islower(self, /)\n",
            " |      Return True if the string is a lowercase string, False otherwise.\n",
            " |      \n",
            " |      A string is lowercase if all cased characters in the string are lowercase and\n",
            " |      there is at least one cased character in the string.\n",
            " |  \n",
            " |  isnumeric(self, /)\n",
            " |      Return True if the string is a numeric string, False otherwise.\n",
            " |      \n",
            " |      A string is numeric if all characters in the string are numeric and there is at\n",
            " |      least one character in the string.\n",
            " |  \n",
            " |  isprintable(self, /)\n",
            " |      Return True if the string is printable, False otherwise.\n",
            " |      \n",
            " |      A string is printable if all of its characters are considered printable in\n",
            " |      repr() or if it is empty.\n",
            " |  \n",
            " |  isspace(self, /)\n",
            " |      Return True if the string is a whitespace string, False otherwise.\n",
            " |      \n",
            " |      A string is whitespace if all characters in the string are whitespace and there\n",
            " |      is at least one character in the string.\n",
            " |  \n",
            " |  istitle(self, /)\n",
            " |      Return True if the string is a title-cased string, False otherwise.\n",
            " |      \n",
            " |      In a title-cased string, upper- and title-case characters may only\n",
            " |      follow uncased characters and lowercase characters only cased ones.\n",
            " |  \n",
            " |  isupper(self, /)\n",
            " |      Return True if the string is an uppercase string, False otherwise.\n",
            " |      \n",
            " |      A string is uppercase if all cased characters in the string are uppercase and\n",
            " |      there is at least one cased character in the string.\n",
            " |  \n",
            " |  join(self, iterable, /)\n",
            " |      Concatenate any number of strings.\n",
            " |      \n",
            " |      The string whose method is called is inserted in between each given string.\n",
            " |      The result is returned as a new string.\n",
            " |      \n",
            " |      Example: '.'.join(['ab', 'pq', 'rs']) -> 'ab.pq.rs'\n",
            " |  \n",
            " |  ljust(self, width, fillchar=' ', /)\n",
            " |      Return a left-justified string of length width.\n",
            " |      \n",
            " |      Padding is done using the specified fill character (default is a space).\n",
            " |  \n",
            " |  lower(self, /)\n",
            " |      Return a copy of the string converted to lowercase.\n",
            " |  \n",
            " |  lstrip(self, chars=None, /)\n",
            " |      Return a copy of the string with leading whitespace removed.\n",
            " |      \n",
            " |      If chars is given and not None, remove characters in chars instead.\n",
            " |  \n",
            " |  partition(self, sep, /)\n",
            " |      Partition the string into three parts using the given separator.\n",
            " |      \n",
            " |      This will search for the separator in the string.  If the separator is found,\n",
            " |      returns a 3-tuple containing the part before the separator, the separator\n",
            " |      itself, and the part after it.\n",
            " |      \n",
            " |      If the separator is not found, returns a 3-tuple containing the original string\n",
            " |      and two empty strings.\n",
            " |  \n",
            " |  removeprefix(self, prefix, /)\n",
            " |      Return a str with the given prefix string removed if present.\n",
            " |      \n",
            " |      If the string starts with the prefix string, return string[len(prefix):].\n",
            " |      Otherwise, return a copy of the original string.\n",
            " |  \n",
            " |  removesuffix(self, suffix, /)\n",
            " |      Return a str with the given suffix string removed if present.\n",
            " |      \n",
            " |      If the string ends with the suffix string and that suffix is not empty,\n",
            " |      return string[:-len(suffix)]. Otherwise, return a copy of the original\n",
            " |      string.\n",
            " |  \n",
            " |  replace(self, old, new, count=-1, /)\n",
            " |      Return a copy with all occurrences of substring old replaced by new.\n",
            " |      \n",
            " |        count\n",
            " |          Maximum number of occurrences to replace.\n",
            " |          -1 (the default value) means replace all occurrences.\n",
            " |      \n",
            " |      If the optional argument count is given, only the first count occurrences are\n",
            " |      replaced.\n",
            " |  \n",
            " |  rfind(...)\n",
            " |      S.rfind(sub[, start[, end]]) -> int\n",
            " |      \n",
            " |      Return the highest index in S where substring sub is found,\n",
            " |      such that sub is contained within S[start:end].  Optional\n",
            " |      arguments start and end are interpreted as in slice notation.\n",
            " |      \n",
            " |      Return -1 on failure.\n",
            " |  \n",
            " |  rindex(...)\n",
            " |      S.rindex(sub[, start[, end]]) -> int\n",
            " |      \n",
            " |      Return the highest index in S where substring sub is found,\n",
            " |      such that sub is contained within S[start:end].  Optional\n",
            " |      arguments start and end are interpreted as in slice notation.\n",
            " |      \n",
            " |      Raises ValueError when the substring is not found.\n",
            " |  \n",
            " |  rjust(self, width, fillchar=' ', /)\n",
            " |      Return a right-justified string of length width.\n",
            " |      \n",
            " |      Padding is done using the specified fill character (default is a space).\n",
            " |  \n",
            " |  rpartition(self, sep, /)\n",
            " |      Partition the string into three parts using the given separator.\n",
            " |      \n",
            " |      This will search for the separator in the string, starting at the end. If\n",
            " |      the separator is found, returns a 3-tuple containing the part before the\n",
            " |      separator, the separator itself, and the part after it.\n",
            " |      \n",
            " |      If the separator is not found, returns a 3-tuple containing two empty strings\n",
            " |      and the original string.\n",
            " |  \n",
            " |  rsplit(self, /, sep=None, maxsplit=-1)\n",
            " |      Return a list of the substrings in the string, using sep as the separator string.\n",
            " |      \n",
            " |        sep\n",
            " |          The separator used to split the string.\n",
            " |      \n",
            " |          When set to None (the default value), will split on any whitespace\n",
            " |          character (including \\\\n \\\\r \\\\t \\\\f and spaces) and will discard\n",
            " |          empty strings from the result.\n",
            " |        maxsplit\n",
            " |          Maximum number of splits (starting from the left).\n",
            " |          -1 (the default value) means no limit.\n",
            " |      \n",
            " |      Splitting starts at the end of the string and works to the front.\n",
            " |  \n",
            " |  rstrip(self, chars=None, /)\n",
            " |      Return a copy of the string with trailing whitespace removed.\n",
            " |      \n",
            " |      If chars is given and not None, remove characters in chars instead.\n",
            " |  \n",
            " |  split(self, /, sep=None, maxsplit=-1)\n",
            " |      Return a list of the substrings in the string, using sep as the separator string.\n",
            " |      \n",
            " |        sep\n",
            " |          The separator used to split the string.\n",
            " |      \n",
            " |          When set to None (the default value), will split on any whitespace\n",
            " |          character (including \\\\n \\\\r \\\\t \\\\f and spaces) and will discard\n",
            " |          empty strings from the result.\n",
            " |        maxsplit\n",
            " |          Maximum number of splits (starting from the left).\n",
            " |          -1 (the default value) means no limit.\n",
            " |      \n",
            " |      Note, str.split() is mainly useful for data that has been intentionally\n",
            " |      delimited.  With natural text that includes punctuation, consider using\n",
            " |      the regular expression module.\n",
            " |  \n",
            " |  splitlines(self, /, keepends=False)\n",
            " |      Return a list of the lines in the string, breaking at line boundaries.\n",
            " |      \n",
            " |      Line breaks are not included in the resulting list unless keepends is given and\n",
            " |      true.\n",
            " |  \n",
            " |  startswith(...)\n",
            " |      S.startswith(prefix[, start[, end]]) -> bool\n",
            " |      \n",
            " |      Return True if S starts with the specified prefix, False otherwise.\n",
            " |      With optional start, test S beginning at that position.\n",
            " |      With optional end, stop comparing S at that position.\n",
            " |      prefix can also be a tuple of strings to try.\n",
            " |  \n",
            " |  strip(self, chars=None, /)\n",
            " |      Return a copy of the string with leading and trailing whitespace removed.\n",
            " |      \n",
            " |      If chars is given and not None, remove characters in chars instead.\n",
            " |  \n",
            " |  swapcase(self, /)\n",
            " |      Convert uppercase characters to lowercase and lowercase characters to uppercase.\n",
            " |  \n",
            " |  title(self, /)\n",
            " |      Return a version of the string where each word is titlecased.\n",
            " |      \n",
            " |      More specifically, words start with uppercased characters and all remaining\n",
            " |      cased characters have lower case.\n",
            " |  \n",
            " |  translate(self, table, /)\n",
            " |      Replace each character in the string using the given translation table.\n",
            " |      \n",
            " |        table\n",
            " |          Translation table, which must be a mapping of Unicode ordinals to\n",
            " |          Unicode ordinals, strings, or None.\n",
            " |      \n",
            " |      The table must implement lookup/indexing via __getitem__, for instance a\n",
            " |      dictionary or list.  If this operation raises LookupError, the character is\n",
            " |      left untouched.  Characters mapped to None are deleted.\n",
            " |  \n",
            " |  upper(self, /)\n",
            " |      Return a copy of the string converted to uppercase.\n",
            " |  \n",
            " |  zfill(self, width, /)\n",
            " |      Pad a numeric string with zeros on the left, to fill a field of the given width.\n",
            " |      \n",
            " |      The string is never truncated.\n",
            " |  \n",
            " |  ----------------------------------------------------------------------\n",
            " |  Static methods defined here:\n",
            " |  \n",
            " |  __new__(*args, **kwargs) from builtins.type\n",
            " |      Create and return a new object.  See help(type) for accurate signature.\n",
            " |  \n",
            " |  maketrans(...)\n",
            " |      Return a translation table usable for str.translate().\n",
            " |      \n",
            " |      If there is only one argument, it must be a dictionary mapping Unicode\n",
            " |      ordinals (integers) or characters to Unicode ordinals, strings or None.\n",
            " |      Character keys will be then converted to ordinals.\n",
            " |      If there are two arguments, they must be strings of equal length, and\n",
            " |      in the resulting dictionary, each character in x will be mapped to the\n",
            " |      character at the same position in y. If there is a third argument, it\n",
            " |      must be a string, whose characters will be mapped to None in the result.\n",
            "\n"
          ]
        }
      ]
    },
    {
      "cell_type": "markdown",
      "source": [
        "# 4. Простые объекты\n",
        "Рассмотрим подробнее особенности работы с простыми объектами, с числами. В\n",
        "финале лекции поговорим о строках. Их можно считать массивами, т.е.\n",
        "коллекциями. Но так как строки в Python неизменяемы и хранят только символы,\n",
        "назовём их условно простыми.\n",
        "\n",
        "# Целые числа, функция int()\n",
        "Целое число имеет тип int. Для преобразования строки к числу используется\n",
        "одноименная функция.\n",
        "\n",
        "int(x, base=10).\n",
        "\n",
        "Первый аргумент — объект, который мы хотим преобразовать в число. Обычно это\n",
        "другое число и или числовая строка. Второй аргумент указывает на основание\n",
        "системы счисления. По умолчанию используется десятичная система, её можно не\n",
        "указывать. Для base допустимы значения от 2 до 36, т.е. от двоичной до тридцати\n",
        "шестиричной системы счисления. Примеры использования."
      ],
      "metadata": {
        "id": "ydKhsahYyAzM"
      }
    },
    {
      "cell_type": "code",
      "source": [
        "x = int(\"42\")\n",
        "y = int(3.1415)\n",
        "z = int(\"hello\", base=30)\n",
        "print(x, y, z, sep='\\n')"
      ],
      "metadata": {
        "colab": {
          "base_uri": "https://localhost:8080/"
        },
        "id": "3kOZIarGyPeA",
        "outputId": "f80b1927-7de5-4c77-c121-926fd07212eb"
      },
      "execution_count": null,
      "outputs": [
        {
          "output_type": "stream",
          "name": "stdout",
          "text": [
            "42\n",
            "3\n",
            "14167554\n"
          ]
        }
      ]
    },
    {
      "cell_type": "markdown",
      "source": [
        "Мы преобразовали десятичное число из строки в число, отбросили у вещественного\n",
        "числа дробную часть и преобразовали строковую запись числа в тридцатиричной\n",
        "системе счисления в её десятичный числовой аналог.\n",
        "\n",
        "🔥 PEP-8! При указании значений для ключевых аргументов функции\n",
        "пробелы вокруг знака равенства не ставятся.\n",
        "\n",
        "У целый в Python есть одна полезная особенность. Объект изменяет свои размеры в\n",
        "зависимости от длины целого числа. Переполнения регистра не происходит. В\n",
        "Python \"резиновый инт\". При этом вы должны понимать, что любой объект хранит в\n",
        "себе \"служебную информацию\", которая также занимает место в памяти.\n",
        "Воспользуемся функцией getsizeof() из модуля sys, чтобы посмотреть на затраты\n",
        "памяти под целым числом."
      ],
      "metadata": {
        "id": "p1jXUwLzyVSx"
      }
    },
    {
      "cell_type": "code",
      "source": [
        "import sys\n",
        "\n",
        "STEP = 2 ** 16\n",
        "num = 1\n",
        "for _ in range(30):\n",
        "  print(sys.getsizeof(num), num)\n",
        "  num *= STEP"
      ],
      "metadata": {
        "colab": {
          "base_uri": "https://localhost:8080/"
        },
        "id": "k7UU5vUIybo6",
        "outputId": "4f2642ad-5970-4c0f-b7cb-34556f62331f"
      },
      "execution_count": null,
      "outputs": [
        {
          "output_type": "stream",
          "name": "stdout",
          "text": [
            "28 1\n",
            "28 65536\n",
            "32 4294967296\n",
            "32 281474976710656\n",
            "36 18446744073709551616\n",
            "36 1208925819614629174706176\n",
            "40 79228162514264337593543950336\n",
            "40 5192296858534827628530496329220096\n",
            "44 340282366920938463463374607431768211456\n",
            "44 22300745198530623141535718272648361505980416\n",
            "48 1461501637330902918203684832716283019655932542976\n",
            "48 95780971304118053647396689196894323976171195136475136\n",
            "52 6277101735386680763835789423207666416102355444464034512896\n",
            "52 411376139330301510538742295639337626245683966408394965837152256\n",
            "56 26959946667150639794667015087019630673637144422540572481103610249216\n",
            "60 1766847064778384329583297500742918515827483896875618958121606201292619776\n",
            "60 115792089237316195423570985008687907853269984665640564039457584007913129639936\n",
            "64 7588550360256754183279148073529370729071901715047420004889892225542594864082845696\n",
            "64 497323236409786642155382248146820840100456150797347717440463976893159497012533375533056\n",
            "68 32592575621351777380295131014550050576823494298654980010178247189670100796213387298934358016\n",
            "68 2135987035920910082395021706169552114602704522356652769947041607822219725780640550022962086936576\n",
            "72 139984046386112763159840142535527767382602843577165595931249318810236991948760059086304843329475444736\n",
            "72 9173994463960286046443283581208347763186259956673124494950355357547691504353939232280074212440502746218496\n",
            "76 601226901190101306339707032778070279008174732520529886901066488712245510429339761526706943586500787976175353856\n",
            "76 39402006196394479212279040100143613805079739270465446667948293404245721771497210611414266254884915640806627990306816\n",
            "80 2582249878086908589655919172003011874329705792829223512830659356540647622016841194629645353280137831435903171972747493376\n",
            "80 169230328010303641331690318856389386196071598838855992136870091590247882556495704531248437872567112920983350278405979725889536\n",
            "84 11090678776483259438313656736572334813745748301503266300681918322458485231222502492159897624416558312389564843845614287315896631296\n",
            "84 726838724295606890549323807888004534353641360687318060281490199180639288113397923326191050713763565560762521606266177933534601628614656\n",
            "88 47634102635436893179040485073748265163400240214004076398607741693502376385799646303105256699577209032590132615988260237052123652332890095616\n"
          ]
        }
      ]
    },
    {
      "cell_type": "markdown",
      "source": [
        "🔥 PEP-8! После импорта модулей ставится пустая строка.\n",
        "\n",
        "Для хранения \"единицы\" в 64-х разрядной версии Python тратится 28(!) байт\n",
        "памяти. Это объект со своей служебной информацией и несколькими байтами под\n",
        "само число.\n",
        "При этом мы можем хранить огромные числа, превышающие long integer на много\n",
        "порядков без проблем и лишних приёмов программирования. Число Гугол, т.е. 10 в\n",
        "степени 100 займет всего лишь 72 байта."
      ],
      "metadata": {
        "id": "vC4W_-LMykNx"
      }
    },
    {
      "cell_type": "code",
      "source": [
        "print(sys.getsizeof(10 ** 100))"
      ],
      "metadata": {
        "colab": {
          "base_uri": "https://localhost:8080/"
        },
        "id": "0ngksG3syr6i",
        "outputId": "3980c3a9-4cb7-415e-d4a7-dc4e6384188d"
      },
      "execution_count": null,
      "outputs": [
        {
          "output_type": "stream",
          "name": "stdout",
          "text": [
            "72\n"
          ]
        }
      ]
    },
    {
      "cell_type": "markdown",
      "source": [
        "Формат представления числа. Снова о  \"_\".\n",
        "\n",
        "Ещё одна особенность, которая упрощает чтение больших чисел появилась в Python\n",
        "3.6. Это символ подчеркивания в качестве разделителя групп цифр. Да, снова он. И\n",
        "не в последний раз.\n",
        "num = 7_901_123_456_789\n",
        "Интерпретатор опускает символ подчеркивания. Они нужны лишь для\n",
        "программиста, читающего код.\n",
        "\n",
        "🔥 Внимание! Кроме того, обратите внимание на цикл из примера кода о\n",
        "\"резиновом инт\".\n",
        "\n",
        "for _ in range(30):\n",
        "\n",
        "Конструкция цикла for in ожидает, что после for указывается переменная для\n",
        "приёма значений, которые берутся из итератора указанного после in. Но если\n",
        "внутри цикла значения не нужны, в качестве имени переменной используют\n",
        "подчеркивание \"_\".\n",
        "\n",
        "Важно понимать, что использование подчеркивания в теле\n",
        "цикла неверно. Скорее всего вам нужна переменная i, item или другая подобная.\n",
        "Если подчёркиваем, то только один раз."
      ],
      "metadata": {
        "id": "Aue6rD46yyeP"
      }
    },
    {
      "cell_type": "markdown",
      "source": [
        "# Функции bin(), oct(), hex()\n",
        "Помимо десятичной системы у Python есть функции для строкового представления\n",
        "чисел в двоичной, восьмеричной и шестнадцатеричной системах счисления."
      ],
      "metadata": {
        "id": "oJzQD5knzGL5"
      }
    },
    {
      "cell_type": "code",
      "source": [
        "num = 2 ** 16 - 1\n",
        "b = bin(num)\n",
        "o = oct(num)\n",
        "17\n",
        "h = hex(num)\n",
        "print(b, o, h)\n"
      ],
      "metadata": {
        "colab": {
          "base_uri": "https://localhost:8080/"
        },
        "id": "3cDRaHlPzJxW",
        "outputId": "b6fc10a4-fed2-4991-d54b-7b30de16beae"
      },
      "execution_count": null,
      "outputs": [
        {
          "output_type": "stream",
          "name": "stdout",
          "text": [
            "0b1111111111111111 0o177777 0xffff\n"
          ]
        }
      ]
    },
    {
      "cell_type": "markdown",
      "source": [
        "Обратите внимание на приставку в начале числа, состоящую из нуля и латинской\n",
        "строчной буквы: 0b — двоичное, 0o — восьмеричное, 0x — шестнадцатеричное\n",
        "представление. Подобная запись сразу говорит о системе счисления. А само\n",
        "представление в формате, отличном от десятичного, применяется для решения\n",
        "узкого спектра задач.\n",
        "\n",
        "🔥 PEP-8! В качестве имени переменной мы использовали латинскую строчную \"o\".\n",
        "Это допустимое имя. Но никогда не используйте символы 'l' (строчная буква \"л\"), 'O'\n",
        "(заглавная буква \"О\") или 'I' (заглавная буква \"Ай\") в качестве имен переменных,\n",
        "состоящих из одного символа. В некоторых шрифтах эти символы неотличимы от цифр\n",
        "один и ноль."
      ],
      "metadata": {
        "id": "ajCFGBHvzR59"
      }
    },
    {
      "cell_type": "markdown",
      "source": [
        "# Вещественные числа, функция float()\n",
        "Числа с плавающей запятой представлены классом float. Для хранения таких чисел\n",
        "ПК, а не только Python используют особый формат представления числа: мантисса и\n",
        "порядок. Так число 23321.345 правильнее было бы представить как\n",
        "2.3321345*10**-4.\n",
        "Особенности подобного формата хранения чисел могут приводить к погрешностям\n",
        "вычисления."
      ],
      "metadata": {
        "id": "cVkCXNQBzYEm"
      }
    },
    {
      "cell_type": "code",
      "source": [
        "print(0.1 + 0.2)"
      ],
      "metadata": {
        "colab": {
          "base_uri": "https://localhost:8080/"
        },
        "id": "E9-n5MTIzdQW",
        "outputId": "986f91fd-4c32-4fe2-fcb1-bc4c118ddb8a"
      },
      "execution_count": null,
      "outputs": [
        {
          "output_type": "stream",
          "name": "stdout",
          "text": [
            "0.30000000000000004\n"
          ]
        }
      ]
    },
    {
      "cell_type": "markdown",
      "source": [
        "Вместо ожидаемого 0.3 получили 0.30000000000000004 При округлении это будет\n",
        "тот же 0.3. Но когда пишешь код, ожидаешь получить верный результат сразу.\n",
        "Вторая особенность вещественных чисел - ограничение на хранения информации.\n",
        "Попробуем сохранить достаточно большое по количеству знаков число с\n",
        "плавающей точкой."
      ],
      "metadata": {
        "id": "59YK9mY8zg0g"
      }
    },
    {
      "cell_type": "code",
      "source": [
        "pi = 3.141_592_653_589_793_238_462_643_383_279_502_884_197_169_399_375\n",
        "print(pi)"
      ],
      "metadata": {
        "id": "M6SX72ANzjnG"
      },
      "execution_count": null,
      "outputs": []
    },
    {
      "cell_type": "markdown",
      "source": [
        "При выводе на печать, а если быть точным, то в момент сохранения объекта в\n",
        "память в качестве вещественного числа произошло отбрасывание части цифр. В\n",
        "\n",
        "итоге в памяти осталось 3.141592653589793. И, да, вы верно заметили.\n",
        "Подчёркивание можно использовать для удобства чтения чисел любого типа.\n",
        "В случае с математикой вещественных чисел в Python стоит ожидать подобных\n",
        "погрешностей вычисления и округления. О том как их избежать узнает в конце\n",
        "сегодняшней лекции. Пока же стоит понять, что float является компактным и\n",
        "быстрым типом данных для математических операций с плавающей запятой, если\n",
        "нам не требуется высокая точность результата."
      ],
      "metadata": {
        "id": "mwj2Qcn7zmzc"
      }
    },
    {
      "cell_type": "markdown",
      "source": [
        "# Логические типы, функция bool()\n",
        "С True и False мы уже знакомы. Это две неизменные константы, которые являются\n",
        "ответвлением числового типа. Функция bool() возвращает одно из двух значений, в\n",
        "зависимости от входного значения. У \"логики\" есть несколько полезных\n",
        "особенностей, которые облегчают разработку.\n",
        "Все числа преобразуются к истине, за исключением нуля. Он считается ложью."
      ],
      "metadata": {
        "id": "-EQNBQ33zqoD"
      }
    },
    {
      "cell_type": "code",
      "source": [
        "DEFAULT = 42\n",
        "num = int(input('Введите уровень или ноль для значения по умолчанию: '))\n",
        "level = num or DEFAULT\n",
        "print(level)\n"
      ],
      "metadata": {
        "colab": {
          "base_uri": "https://localhost:8080/"
        },
        "id": "zxCCSupgzt1n",
        "outputId": "bd331b83-5db5-4f34-fad3-5c801cc20359"
      },
      "execution_count": null,
      "outputs": [
        {
          "output_type": "stream",
          "name": "stdout",
          "text": [
            "Введите уровень или ноль для значения по умолчанию: 0\n",
            "42\n"
          ]
        }
      ]
    },
    {
      "cell_type": "markdown",
      "source": [
        "Любая строка текста также приводится к истине. Ложью является пустая строка (не\n",
        "путайте с пробелом), т.е. строка длиною в ноль символов."
      ],
      "metadata": {
        "id": "n_GxFwfWz1cy"
      }
    },
    {
      "cell_type": "code",
      "source": [
        "name = input('Как вас зовут? ')\n",
        "if name:\n",
        "   print('Привет, ' + name)\n",
        "else:\n",
        "   print('Анонимус, приветствую')"
      ],
      "metadata": {
        "colab": {
          "base_uri": "https://localhost:8080/"
        },
        "id": "AIvPSakL0B-3",
        "outputId": "d6c817c9-961d-43b7-9b59-5442478aac53"
      },
      "execution_count": null,
      "outputs": [
        {
          "output_type": "stream",
          "name": "stdout",
          "text": [
            "Как вас зовут? Юлия\n",
            "Привет, Юлия\n"
          ]
        }
      ]
    },
    {
      "cell_type": "markdown",
      "source": [
        "Коллекции, о которых будем подробного говорить на следующей лекции приводятся к\n",
        "истине, если в них есть элементы. Пустая коллекция — ложь."
      ],
      "metadata": {
        "id": "H2qshEK80Gzm"
      }
    },
    {
      "cell_type": "code",
      "source": [
        "data = [0, 1, 1, 2, 3, 5, 8, 13, 21]\n",
        "while data:\n",
        "  print(data.pop())"
      ],
      "metadata": {
        "colab": {
          "base_uri": "https://localhost:8080/"
        },
        "id": "6dP--jhf0J5r",
        "outputId": "1945707b-9c61-4227-f61c-9a5e160e082f"
      },
      "execution_count": null,
      "outputs": [
        {
          "output_type": "stream",
          "name": "stdout",
          "text": [
            "21\n",
            "13\n",
            "8\n",
            "5\n",
            "3\n",
            "2\n",
            "1\n",
            "1\n",
            "0\n"
          ]
        }
      ]
    },
    {
      "cell_type": "markdown",
      "source": [
        "Работу данного примера подробнее разберём на следующем уроке. Но если\n",
        "коротко, в цикле мы удаляем элементы списка до тех пор пока список не окажется\n",
        "пустым.\n",
        "\n",
        "🔥 Внимание! Обратите внимание, что во всех примерах происходило\n",
        "неявное приведение к логическому типу, мы явно не использовали функцию\n",
        "bool().\n",
        "# Строки, функция str()\n",
        "В Python нет типа данных символ. Есть только класс str. В нём можно хранить как\n",
        "один символ, аналог char в си-подобных языках, так и любое большее количество\n",
        "символов. Почему символы, а не буквы? Для хранения используется кодировка\n",
        "utf-8, т.е. в строке могут быть не только буквы, цифры, знаки препинания, но и\n",
        "иероглифы, смайлики и всё то, что хранится в кодировке Unicode."
      ],
      "metadata": {
        "id": "52rGU_BB0Ps3"
      }
    },
    {
      "cell_type": "markdown",
      "source": [
        "При работе со строками стоит помнить, что это неизменяемый тип данных. При этом\n",
        "str можно представить как коллекцию символов — массив. Выходит, что строка\n",
        "является коллекцией? Верно.\n",
        "На этой лекции рассмотрим несколько приёмов работы со строками как с\n",
        "неизменяемыми объектами. А на следующей поговорим о строке как о коллекции\n",
        "символов."
      ],
      "metadata": {
        "id": "q3kIVXQB0V6W"
      }
    },
    {
      "cell_type": "markdown",
      "source": [
        "# Способы записи строк\n",
        "Python допускает одинарные или двойные кавычки для записи строки. Одни\n",
        "кавычки могут включать другие, но они не должны смешиваться."
      ],
      "metadata": {
        "id": "D3bXJfB-1gTL"
      }
    },
    {
      "cell_type": "code",
      "source": [
        "txt = 'Книга называется \"Война и мир\".'\n"
      ],
      "metadata": {
        "id": "IttTSkbP1kyE"
      },
      "execution_count": null,
      "outputs": []
    },
    {
      "cell_type": "markdown",
      "source": [
        "Тройный двойные кавычки позволяют писать текст в несколько строк. Если такой текст не\n",
        "присвоить переменной, он превращается в многострочный комментарий. Подобные\n",
        "комментарии используют для создания документации к коду. Например так:\n"
      ],
      "metadata": {
        "id": "R_PckSFl1osf"
      }
    },
    {
      "cell_type": "code",
      "source": [
        "class str(object):\n",
        "\"\"\"\n",
        "20\n",
        "str(object='') -> str\n",
        "str(bytes_or_buffer[, encoding[, errors]]) -> str\n",
        "...\n",
        "\"\"\"\n"
      ],
      "metadata": {
        "id": "Oon9Cc4u2rjD"
      },
      "execution_count": null,
      "outputs": []
    },
    {
      "cell_type": "markdown",
      "source": [
        "Ещё один способ записать строки, перечислить их последовательно друг за другом."
      ],
      "metadata": {
        "id": "JxeAEQ503_Vu"
      }
    },
    {
      "cell_type": "code",
      "source": [
        "text = 'Привет.' 'Как ты, друг?' 'Рад тебя видеть.'\n",
        "print(text)"
      ],
      "metadata": {
        "colab": {
          "base_uri": "https://localhost:8080/"
        },
        "id": "J0bdxjoo22PL",
        "outputId": "c30d6ba9-276f-4ff7-f08e-8d067af77fa8"
      },
      "execution_count": null,
      "outputs": [
        {
          "output_type": "stream",
          "name": "stdout",
          "text": [
            "Привет.Как ты, друг?Рад тебя видеть.\n"
          ]
        }
      ]
    },
    {
      "cell_type": "markdown",
      "source": [
        "Такой приём работает, но считается плохим стилем. Плюс, а точнее минус, строки\n",
        "соединились без пробелов.\n",
        "На этом способы записи строк не заканчиваются. Посмотрите на этот код:"
      ],
      "metadata": {
        "id": "yCTymQ2126L-"
      }
    },
    {
      "cell_type": "code",
      "source": [
        "very_long_text = 'Lorem ipsum dolor sit amet, consectetur\n",
        "adipisicing elit. A ab alias animi assumenda at aut ' \\\n",
        "'commodi, consequatur cumque ea harum, hic id\n",
        "illum ipsam itaque laboriosam magnam minus nam nulla ' \\\n",
        "'numquam obcaecati officia officiis porro\n",
        "possimus praesentium quaerat temporibus ullam veniam? '"
      ],
      "metadata": {
        "id": "KUN0oe9B294C"
      },
      "execution_count": null,
      "outputs": []
    },
    {
      "cell_type": "markdown",
      "source": [
        "Как вы помните, PEP8 рекомендует не писать более 120 символов в одной строке.\n",
        "Обратный слеш “\\” позволяет писать продолжение с новой строки. Требования в 120\n",
        "символов выполняются. А Python воспринимает несколько строк как одну.\n",
        "\n",
        "🔥 Важно! Подобный приём с обратным слешем работает не только для строк\n",
        "текста, но и для кода. Очень длинную строку можно разделить записать в несколько.\n",
        "Но помните, что зачастую такие строки трудно читать. Возможно не стоит лепить\n",
        "решение в одну мега строчку, а разбить его на более читаемый вариант."
      ],
      "metadata": {
        "id": "h_ax1zCs30qv"
      }
    },
    {
      "cell_type": "markdown",
      "source": [
        "# Конкатенация строк\n",
        "Отдельный способ создания строк — конкатенация. Или говоря проще, сложение.\n",
        "Разберём на примере и обсудим все его нюансы:"
      ],
      "metadata": {
        "id": "p5fQDdWB4EtC"
      }
    },
    {
      "cell_type": "code",
      "source": [
        "LIMIT = 120\n",
        "ATTENTION = 'Внимание!'\n",
        "name = input('Твоё имя? ')\n",
        "age = int(input('Твой возраст? '))\n",
        "text = ATTENTION + ' Хоть тебе и осталось ' + str(100 - age) +\\\n",
        "       ' до ста лет, но длинна строки не должна превышать ' + str(LIMIT) + ' символов.'\n",
        "print(text)"
      ],
      "metadata": {
        "colab": {
          "base_uri": "https://localhost:8080/"
        },
        "id": "BjQRkzK04H7c",
        "outputId": "3897f5ae-c473-4806-c94f-0626c935016e"
      },
      "execution_count": null,
      "outputs": [
        {
          "output_type": "stream",
          "name": "stdout",
          "text": [
            "Твоё имя? Юлия\n",
            "Твой возраст? 41\n",
            "Внимание! Хоть тебе и осталось 59 до ста лет, но длинна строки не должна превышать 120 символов.\n"
          ]
        }
      ]
    },
    {
      "cell_type": "markdown",
      "source": [
        "Переменная text получилась в результате сложения нескольких строк. При этом:\n",
        "\n",
        "● Все элементы должны быть строками. Иначе получим ошибку вида: TypeError:\n",
        "can only concatenate str (not \"int\") to str Именно для этого мы обернули\n",
        "переменные с числами, такие как LIMIT, функцией str()\n",
        "\n",
        "● Если в переменной хранится строковое значение, оборачивать её в str() не\n",
        "нужно. Получится масло масляное.\n",
        "\n",
        "● Складывать можно строки в одинарных, двойных и даже в трех двойных\n",
        "кавычках. Но лучше выбрать единый стиль записи строк и придерживаться\n",
        "его во всём проекте.\n",
        "\n",
        "● Если код не влазит в 120 символов строки, не стесняемся использовать\n",
        "обратный слеш для его разделения на несколько строк.\n",
        "\n",
        "Конкатенация строк затратна по памяти и по времени. Для простых задач допустим\n",
        "подобный подход. В реальных проектах конкатенация используется для\n",
        "формирования констант. В остальных случаях используют способы форматирования\n",
        "строк. О них поговорим на следующей лекции.\n",
        "Кстати, рекомендации Google по стилю кода, которые являются продвинутой\n",
        "версией PEP-8 с дополнительными требования запрещают программистам\n",
        "использовать конкатенацию строк, особенно если она происходит внутри цикла.\n",
        "Почему? Поговорим о размере строки в памяти."
      ],
      "metadata": {
        "id": "vMLzzDTq5yhD"
      }
    },
    {
      "cell_type": "markdown",
      "source": [
        "# Размер строки в памяти\n",
        "Строки как объекты тратят память на служебную информацию, а как массивы на\n",
        "хранение текста. В 64-х разрядной версии Python служебная информация занимает\n",
        "48 байт. Разберём пример кода:"
      ],
      "metadata": {
        "id": "l6y7Ozcw6USE"
      }
    },
    {
      "cell_type": "code",
      "source": [
        "empty_str = ''\n",
        "en_str = 'Text'\n",
        "ru_str = 'Текст'\n",
        "unicode_str = '😀😍😉🙃'\n",
        "print(empty_str.__sizeof__())\n",
        "print(en_str.__sizeof__())\n",
        "print(ru_str.__sizeof__())\n",
        "print(unicode_str.__sizeof__())"
      ],
      "metadata": {
        "colab": {
          "base_uri": "https://localhost:8080/"
        },
        "id": "Hpc69HQU6YBM",
        "outputId": "a8005b7c-6b81-477c-f029-975818fe429c"
      },
      "execution_count": null,
      "outputs": [
        {
          "output_type": "stream",
          "name": "stdout",
          "text": [
            "49\n",
            "53\n",
            "84\n",
            "92\n"
          ]
        }
      ]
    },
    {
      "cell_type": "markdown",
      "source": [
        "Во-первых обратите внимание на магический метод __sizeof__(). Он работает\n",
        "аналогично sys.getsizeof и возвращает количество байт занятых объектом. Почему\n",
        "же пустая строка заняла 49 байт, если служебная информация использует 48? Один\n",
        "байт - символ конца строки.\n",
        "\n",
        "Теперь посмотрим на текст. Английские буквы тратят по одному байту на символ.\n",
        "Если же речь идёт о русском языке или любых других символах, кодирование\n",
        "занимает 2 или 4 байта. Это особенность хранения информации в кодировке UTF-8\n",
        "и фишка языка Python для доступа к букве по индексу.\n",
        "А теперь зная, что строка тратит много памяти, что строка неизменяемый тип\n",
        "данных и что при конкатенации строк создаются новые объекты, которые занимают\n",
        "дополнительную память вы сами можете сделать вывод почему сложение строк не\n",
        "приветствуется.\n",
        "# Методы проверки строк\n",
        "Ряд методов анализируют строку текста и возвращают истину или ложь в\n",
        "зависимости от содержимого строки. Часто используемые методы перечислены в\n",
        "таблице:"
      ],
      "metadata": {
        "id": "tWKIoTQx6dqS"
      }
    },
    {
      "cell_type": "markdown",
      "source": [
        "**str**.**isalnum**()\n",
        "\n",
        "Возвращает True, если все символы в строке\n",
        "буквенно-цифровые. Символ является\n",
        "буквенно-цифровым, если одно из следующих\n",
        "значений возвращает True: c.isalpha(), c.isdecimal(),\n",
        "c.isdigit()или c.isnumeric().\n",
        "числовыми символами. Числовые символы включают\n",
        "цифровые символы и все символы, которые имеют\n",
        "свойство числового значения Unicode\n",
        "\n",
        "**str**.**isascii**()\n",
        "\n",
        "Возвращает True, если строка пуста или все символы в\n",
        "строке ASCII\n",
        "\n",
        "**str**.**islower**()\n",
        "\n",
        "Возвращает True, если все символы в строке в нижнем\n",
        "регистре\n",
        "\n",
        "**str**.**istitle**()\n",
        "\n",
        "Возвращает True, если строка является строкой с\n",
        "заглавным регистром и содержит хотя бы один символ\n",
        "\n",
        "**str**.**isupper**()\n",
        "\n",
        "Возвращает True, если все символы в строке в\n",
        "верхнем регистре\n",
        "\n",
        "\n",
        "**str**.**isprintable**()\n",
        "\n",
        "Возвращает True, если все символы в строке доступны\n",
        "для печати или строка пуста. Непечатаемые символы\n",
        "— это символы, определенные в базе данных\n",
        "символов Unicode как «Другие» или «Разделители», за\n",
        "исключением пробела ASCII (0x20), который считается\n",
        "печатаемым.\n",
        "\n",
        "\n",
        "**str**.**isspace**()\n",
        "\n",
        "Возвращает True, если в строке есть только\n",
        "пробельные символы\n"
      ],
      "metadata": {
        "id": "-f5dVb4t7FIh"
      }
    },
    {
      "cell_type": "markdown",
      "source": [
        "Внимание! Обратите внимание, что методы начинаются с приставки is.\n",
        "Подобный приём часто используется в программировании. Если переменная\n",
        "содержит логическое значение или функция/метод возвращает логическое\n",
        "значение, в начале добавляют приставку is — намёк на истину или ложь в\n",
        "качестве результата."
      ],
      "metadata": {
        "id": "HynselRA-Fo9"
      }
    },
    {
      "cell_type": "markdown",
      "source": [
        "# **5. Математика в Python**\n",
        "Немного математики в финале лекции. Не пугайтесь, если что-то подзабыли.\n",
        "Разберём в общих чертах математические некоторые математические возможности\n",
        "Python. В решение сложных математических задач углубляться не будем.\n",
        "В Python есть несколько модулей в стандартной библиотеке, которые облегчают\n",
        "математические расчёты. Для доступа к ним необходимо выполнить импорт в\n",
        "начале файла."
      ],
      "metadata": {
        "id": "PWuyo5sN-J0x"
      }
    },
    {
      "cell_type": "code",
      "source": [
        "import math\n",
        "import decimal\n",
        "import fractions"
      ],
      "metadata": {
        "id": "MS7ISK6L-NJC"
      },
      "execution_count": null,
      "outputs": []
    },
    {
      "cell_type": "markdown",
      "source": [
        "# Модуль math\n",
        "В математическом модуле содержаться константы, например число \"пи\", \"е\",\n",
        "бесконечность и др."
      ],
      "metadata": {
        "id": "YohHCJiC-TbH"
      }
    },
    {
      "cell_type": "code",
      "source": [
        "print(math.pi, math.e, math.inf, math.nan, math.tau, sep='\\n')"
      ],
      "metadata": {
        "colab": {
          "base_uri": "https://localhost:8080/"
        },
        "id": "GGKTMlc7-XFt",
        "outputId": "75055d66-b4b9-4887-93f5-cd44d7b233ab"
      },
      "execution_count": null,
      "outputs": [
        {
          "output_type": "stream",
          "name": "stdout",
          "text": [
            "3.141592653589793\n",
            "2.718281828459045\n",
            "inf\n",
            "nan\n",
            "6.283185307179586\n"
          ]
        }
      ]
    },
    {
      "cell_type": "markdown",
      "source": [
        "Кроме того внутри модуля есть множество математических функций: синусы,\n",
        "косинусы, тангенсы, логарифмы, факториал.\n",
        "Вы можете подробно изучить многообразие модуля самостоятельно. В этом вам\n",
        "помогут функции dir() и help()"
      ],
      "metadata": {
        "id": "NExixTQp-aU1"
      }
    },
    {
      "cell_type": "markdown",
      "source": [
        "# Модуль decimal\n",
        "Помните пример про точность вещественных чисел: print(0.1 + 0.2) ?\n",
        "\n",
        "Модуль **decimal** позволяет хранить числа с плавающей запятой и проводить с ними\n",
        "математические выселения без потери точности и ошибок преобразования. Для\n",
        "этого надо воспользоваться классом Decimal из модуля. Рассмотрим на примере."
      ],
      "metadata": {
        "id": "pveGsmfL-dnf"
      }
    },
    {
      "cell_type": "code",
      "source": [
        "pi = decimal.Decimal('3.141_592_653_589_793_238_462_643_383_279_502_884_197_169_399_375')\n",
        "print(pi)\n",
        "num = decimal.Decimal(1) / decimal.Decimal(3)\n",
        "print(num)\n"
      ],
      "metadata": {
        "colab": {
          "base_uri": "https://localhost:8080/"
        },
        "id": "0AYsWNEl-iMC",
        "outputId": "161dd013-1c2b-46be-b1e7-7aa11b6bdce5"
      },
      "execution_count": null,
      "outputs": [
        {
          "output_type": "stream",
          "name": "stdout",
          "text": [
            "3.141592653589793238462643383279502884197169399375\n",
            "0.3333333333333333333333333333\n"
          ]
        }
      ]
    },
    {
      "cell_type": "markdown",
      "source": [
        "Передав в качестве аргумента число пи в виде строки, мы получаем его\n",
        "математическое представление без потери точности. Помимо строки аргументом\n",
        "может быть целое или вещественное число. Например разделив 1 на 3 мы получаем\n",
        "вещественно число с большой точность знаков после запятой.\n",
        "Часто при работе с модулем указывают точность вычислений. По умолчанию она\n",
        "равна 28 знакам до и после запятой. Например нам надо что-то посчитать с\n",
        "точность 120 знаков:"
      ],
      "metadata": {
        "id": "OP4CwZnA-sor"
      }
    },
    {
      "cell_type": "code",
      "source": [
        "decimal.getcontext().prec = 120\n",
        "science = 2 * pi * decimal.Decimal(23.452346) ** 2\n",
        "print(science)"
      ],
      "metadata": {
        "colab": {
          "base_uri": "https://localhost:8080/"
        },
        "id": "Xolxhn1K-uuF",
        "outputId": "f312e146-7a68-449b-b3b3-f5f5777e822f"
      },
      "execution_count": null,
      "outputs": [
        {
          "output_type": "stream",
          "name": "stdout",
          "text": [
            "3455.83066550525681221255767989730747561877356795282333577813456316135465722551243973438941915628321878677792211576047521\n"
          ]
        }
      ]
    },
    {
      "cell_type": "markdown",
      "source": [
        "В первой строке кода задали точность через обращение к атрибуту prec у метода\n",
        "getcontext(). Дальше считаем как обычно.\n",
        "\n",
        "🔥 Важно! Если вы планируете писать код для банковской системы или\n",
        "любой другой, где важна точность расчётов, используйте модуль decimal\n",
        "вместо класса float."
      ],
      "metadata": {
        "id": "DYMPRUcl-y6Z"
      }
    },
    {
      "cell_type": "markdown",
      "source": [
        "# Модуль fraction\n",
        "Для работы с дробями есть модуль fractions. Откроем пример, чтобы сразу стало\n",
        "ясно как он работает."
      ],
      "metadata": {
        "id": "Kpf0p_0I-2ib"
      }
    },
    {
      "cell_type": "code",
      "source": [
        "f1 = fractions.Fraction(1, 3)\n",
        "print(f1)\n",
        "f2 = fractions.Fraction(3, 5)\n",
        "print(f2)\n",
        "print(f1 * f2)"
      ],
      "metadata": {
        "colab": {
          "base_uri": "https://localhost:8080/"
        },
        "id": "n_Ax9YGo-5hP",
        "outputId": "29bd08f7-f07e-47db-8494-a6c1b6172140"
      },
      "execution_count": null,
      "outputs": [
        {
          "output_type": "stream",
          "name": "stdout",
          "text": [
            "1/3\n",
            "3/5\n",
            "1/5\n"
          ]
        }
      ]
    },
    {
      "cell_type": "markdown",
      "source": [
        "Передаём в класс Fractions через запятую числитель и знаменатель дроби. Далее\n",
        "работаем как с обычными числами. Модуль полезен при работе с бесконечными\n",
        "дробями, когда decimal не обеспечивает необходимую точность хранения числа."
      ],
      "metadata": {
        "id": "BSW-K13m--8W"
      }
    },
    {
      "cell_type": "markdown",
      "source": [
        "# Класс complex()\n",
        "Если вы проходили комплексные числа в школе или вузе, поздравляю. Python\n",
        "позволяет работать и с ними. Если нет — не переживайте. Скажу о них всего пару\n",
        "слов. Комплексный числа — числа с мнимой единицей, квадратным корнем из\n",
        "минус одного."
      ],
      "metadata": {
        "id": "Mld8yDKu_Dex"
      }
    },
    {
      "cell_type": "code",
      "source": [
        "a = complex(2, 3)\n",
        "b = complex('2+3j')\n",
        "print(a, b, a == b, sep='\\n')\n"
      ],
      "metadata": {
        "colab": {
          "base_uri": "https://localhost:8080/"
        },
        "id": "lRkuNfZ7_HWd",
        "outputId": "aa96bd65-ad0d-420d-b225-8bad9df68bcd"
      },
      "execution_count": null,
      "outputs": [
        {
          "output_type": "stream",
          "name": "stdout",
          "text": [
            "(2+3j)\n",
            "(2+3j)\n",
            "True\n"
          ]
        }
      ]
    },
    {
      "cell_type": "markdown",
      "source": [
        "В каждом случае получим (2+3j) — комплексное число в Python.\n",
        "\n",
        "🔥 Внимание! Обратите внимание на то, что Python для обозначения\n",
        "мнимой единицы использует букву \"j\", а в математике принято использовать \"i\".\n",
        "Во всём остальном математические операции в Python совпадают с\n",
        "классической математикой.\n"
      ],
      "metadata": {
        "id": "Y4rIi4aN_MY-"
      }
    },
    {
      "cell_type": "markdown",
      "source": [
        "# Математические функции \"из коробки\"\n",
        "В финале лекции несколько слов о математических функциях \"из коробки\".\n",
        "\n",
        "● abs(x) — возвращает абсолютное значение числа x, число по модулю.\n",
        "\n",
        "\n",
        "● divmod(a, b) — функция принимает два числа в качестве аргументов и\n",
        "возвращает пару чисел — частное и остаток от целочисленного деления.\n",
        "Аналогично вычислению a // b и a % b.\n",
        "\n",
        "● pow(base, exp[, mod]) — при передаче 2-х аргументов возводит base в\n",
        "степень exp. При передаче 3-х аргументов, результат возведения в степень\n",
        "делится по модулю на значение mod.\n",
        "\n",
        "● round(number[, ndigits]) — округляет число number до ndigits цифр\n",
        "после запятой. Если второй аргумент не передать, округляет до ближайшего\n",
        "целого.\n",
        "\n",
        "\n",
        "\n",
        "\n",
        "---\n",
        "\n"
      ],
      "metadata": {
        "id": "4ZgPAgB7_SSr"
      }
    },
    {
      "cell_type": "markdown",
      "source": [
        "# **Урок 3. Коллекции**"
      ],
      "metadata": {
        "id": "x4CEvkAJBMr8"
      }
    },
    {
      "cell_type": "markdown",
      "source": [
        "# 1. Списки, list\n",
        "**List**, список является самой часто используемой коллекцией в Python. Прежде чем\n",
        "говорить о списках, я напомню, что такое массив в информатике. Массив - это\n",
        "непрерывная область в оперативной памяти компьютера, поделённая на ячейки\n",
        "одинакового размера хранящие данные одного типа. Массивы могут быть\n",
        "статическими, то есть размер массива нельзя изменить, и динамическими, когда\n",
        "размер массива изменяется при добавлении или удалении элементов. Один из\n",
        "самых больших плюсов в работе с массивами — это доступ к любой из его ячеек за\n",
        "константное время.\n",
        "\n",
        "**Массив** — упорядоченный набор элементов, каждый из которых хранит одно\n",
        "значение, идентифицируемое с помощью одного или нескольких индексов. В\n",
        "простейшем случае массив имеет постоянную длину и хранит единицы данных\n",
        "одного и того же типа, а в качестве индексов выступают целые числа.\n",
        "В информатике, список (англ. list) — это абстрактный тип данных, представляющий\n",
        "собой упорядоченный набор значений, в котором некоторое значение может\n",
        "встречаться более одного раза. Экземпляр списка является компьютерной\n",
        "реализацией математического понятия конечной последовательности. Экземпляры\n",
        "значений, находящихся в списке, называются элементами списка (англ. item, entry\n",
        "либо element); если значение встречается несколько раз, каждое вхождение\n",
        "считается отдельным элементом.\n",
        "# Почему list \"список\", а не \"массив\"\n",
        "Если вы уже пользовались питоновскими списками, то могли задуматься о путанице\n",
        "в понятиях. Ведь список по описанию очень похож на динамический массив.\n",
        "Пройдемся по основным характеристика и сравнить его с массивом и со списком:\n",
        "\n",
        "● Единый блок в памяти — массив\n",
        "\n",
        "● Хранит значения любых типов вперемешку — не массив???\n",
        "\n",
        "● Добавление элементов в конец — динамический массив\n",
        "\n",
        "● Доступ к элементам по индексу с константной сложностью — массив\n",
        "\n",
        "Стоп! Доступ к элементам по индексу за O(1) возможен, если каждая ячейка имеет\n",
        "одинаковый размер. Но как в таком случае хранить разные элементы — делать\n",
        "ячейку по максимальному из хранимых элементов? В таком случае будет много\n",
        "пустоты. А если добавится новый элемент и он больше всех уже хранящихся?\n",
        "Проводить переупаковку?\n",
        "\n",
        "Правда в том, что массив хранит значения одного типа — указатели. И все указатели занимают фиксированный размер в 1, 2 (в далёких 90-х), 4 или 8 байт. Зависит от ОС и её разрядности, а также от версии Python и его разрядности.\n",
        "Указатель — это переменная, в которой хранится адрес объекта в памяти.\n",
        "И в этом месте мы понимаем, где список работает как список. Обращаясь к\n",
        "элементу массива по индексу мы получает указатель на реальных объект,\n",
        "хранящийся отдельно. Благодаря этому приему список может смешивать объекты\n",
        "разных типов и размеров внутри себя."
      ],
      "metadata": {
        "id": "DaDamFgpBckB"
      }
    },
    {
      "cell_type": "markdown",
      "source": [
        "# Работа со списками\n",
        "Прежде чем разберём основные методы списков, поговорим о способах его\n",
        "создания.\n",
        "\n",
        "Основной — вызов функции list(). Без аргументов функция возвращает пустой\n",
        "список. Если передать последовательность, функция вернёт список содержащий\n",
        "переданные элементы.\n",
        "Однако есть более простой и привычный для большинства программистов способ\n",
        "создания списков. Используются квадратные скобки, внутри которых\n",
        "перечисляются элементы списка. Квадратные скобки — синтаксический сахар,\n",
        "который не только короче пишется, но и работает быстрее.\n",
        "https://habr.com/ru/post/671602"
      ],
      "metadata": {
        "id": "Tce70NsqB3oT"
      }
    },
    {
      "cell_type": "code",
      "source": [
        "list_1 = list()\n",
        "list_2 = list((3.14, True, \"Hello world!\"))\n",
        "list_3 = []\n",
        "list_4 = [3.14, True, \"Hello world!\"]"
      ],
      "metadata": {
        "id": "nfPcn94HB9Fx"
      },
      "execution_count": null,
      "outputs": []
    },
    {
      "cell_type": "markdown",
      "source": [
        "Кроме того список можно создать из другой последовательности. Достаточно\n",
        "передать её функции list."
      ],
      "metadata": {
        "id": "fS7xnFoRCARi"
      }
    },
    {
      "cell_type": "code",
      "source": [
        "new_list = list(other_iterator)"
      ],
      "metadata": {
        "id": "Oog_BnOwCIaw"
      },
      "execution_count": null,
      "outputs": []
    },
    {
      "cell_type": "markdown",
      "source": [
        "Важно! Преобразование одной коллекции в другую имеет линейную\n",
        "асимптотику, т.е. O(n). И по времени, и по памяти конечно же. Ведь мы создаём\n",
        "объект списка и копируем в него данные."
      ],
      "metadata": {
        "id": "NEOhola1CJNY"
      }
    },
    {
      "cell_type": "markdown",
      "source": [
        "# Доступ к элементам списка\n",
        "Как мы уже разобрались список ведёт себя как динамический массив. А это значит,\n",
        "что к любому элементу списка можно обратиться по индексу. В Python, как и в\n",
        "большинстве языков программирования, индексация начинается с нуля, то есть,\n",
        "первый элемент лежит в ячейке под индексом 0, следующий элемент в ячейке один\n",
        "и так далее."
      ],
      "metadata": {
        "id": "UlBiRFRRCNAW"
      }
    },
    {
      "cell_type": "code",
      "source": [
        "my_list = [2, 4, 6, 8, 10, 12]\n",
        "print(my_list[0])\n",
        "print(my_list[6]) # IndexError: list index out of range"
      ],
      "metadata": {
        "colab": {
          "base_uri": "https://localhost:8080/",
          "height": 228
        },
        "id": "bvxLhHOYCQFD",
        "outputId": "8d7174f7-2b04-4e96-ce4b-af4e2c95282f"
      },
      "execution_count": null,
      "outputs": [
        {
          "output_type": "stream",
          "name": "stdout",
          "text": [
            "2\n"
          ]
        },
        {
          "output_type": "error",
          "ename": "IndexError",
          "evalue": "ignored",
          "traceback": [
            "\u001b[0;31m---------------------------------------------------------------------------\u001b[0m",
            "\u001b[0;31mIndexError\u001b[0m                                Traceback (most recent call last)",
            "\u001b[0;32m<ipython-input-78-13a35fad0a95>\u001b[0m in \u001b[0;36m<cell line: 3>\u001b[0;34m()\u001b[0m\n\u001b[1;32m      1\u001b[0m \u001b[0mmy_list\u001b[0m \u001b[0;34m=\u001b[0m \u001b[0;34m[\u001b[0m\u001b[0;36m2\u001b[0m\u001b[0;34m,\u001b[0m \u001b[0;36m4\u001b[0m\u001b[0;34m,\u001b[0m \u001b[0;36m6\u001b[0m\u001b[0;34m,\u001b[0m \u001b[0;36m8\u001b[0m\u001b[0;34m,\u001b[0m \u001b[0;36m10\u001b[0m\u001b[0;34m,\u001b[0m \u001b[0;36m12\u001b[0m\u001b[0;34m]\u001b[0m\u001b[0;34m\u001b[0m\u001b[0;34m\u001b[0m\u001b[0m\n\u001b[1;32m      2\u001b[0m \u001b[0mprint\u001b[0m\u001b[0;34m(\u001b[0m\u001b[0mmy_list\u001b[0m\u001b[0;34m[\u001b[0m\u001b[0;36m0\u001b[0m\u001b[0;34m]\u001b[0m\u001b[0;34m)\u001b[0m\u001b[0;34m\u001b[0m\u001b[0;34m\u001b[0m\u001b[0m\n\u001b[0;32m----> 3\u001b[0;31m \u001b[0mprint\u001b[0m\u001b[0;34m(\u001b[0m\u001b[0mmy_list\u001b[0m\u001b[0;34m[\u001b[0m\u001b[0;36m6\u001b[0m\u001b[0;34m]\u001b[0m\u001b[0;34m)\u001b[0m \u001b[0;31m# IndexError: list index out of range\u001b[0m\u001b[0;34m\u001b[0m\u001b[0;34m\u001b[0m\u001b[0m\n\u001b[0m",
            "\u001b[0;31mIndexError\u001b[0m: list index out of range"
          ]
        }
      ]
    },
    {
      "cell_type": "markdown",
      "source": [
        "При попытке обратиться к несуществующему элементу получим ошибку IndexError.\n",
        "Положительный индекс считается слева направо. Если индекс отрицательный\n",
        "вычисление элемента идёт справа налево то есть от конца к началу.\n",
        "\n",
        "🔥 Важно! Вы же знаете что в математике нет разделения на ноль и минус\n",
        "ноль. Самый правый элемент списка, т.е. последний элемент, имеет индекс - 1,\n",
        "Предпоследний - -2 и т.д."
      ],
      "metadata": {
        "id": "p34_baLZCW-O"
      }
    },
    {
      "cell_type": "code",
      "source": [
        "my_list = [2, 4, 6, 8, 10, 12]\n",
        "print(my_list[-1])\n",
        "print(my_list[-10]) # IndexError: list index out of range"
      ],
      "metadata": {
        "id": "paa3S5swCdhN"
      },
      "execution_count": null,
      "outputs": []
    },
    {
      "cell_type": "markdown",
      "source": [
        "Как и в случае с положительными индексами, попытка обратиться к элементу за\n",
        "пределами списка через отрицательный индекс вызывает ошибку.\n"
      ],
      "metadata": {
        "id": "LsZ2XB2mCheB"
      }
    },
    {
      "cell_type": "markdown",
      "source": [
        "# Метод append\n",
        "Для добавления нового элемента в конец списка используется метод append. Метод\n",
        "принимает один аргумент — объект который будет добавлен в конец динамически\n",
        "увеличенного списка."
      ],
      "metadata": {
        "id": "FLMAXKNtCmhq"
      }
    },
    {
      "cell_type": "code",
      "source": [
        "a = 42\n",
        "b = 'Hello world!'\n",
        "c = [1, 3, 5, 7]\n",
        "my_list = [None]\n",
        "my_list.append(a)\n",
        "print(my_list)\n",
        "my_list.append(b)\n",
        "print(my_list)\n",
        "my_list.append(c)\n",
        "print(my_list)"
      ],
      "metadata": {
        "colab": {
          "base_uri": "https://localhost:8080/"
        },
        "id": "XgEwBUSzCq5X",
        "outputId": "9757702e-7f3e-4a87-c21d-438659537745"
      },
      "execution_count": null,
      "outputs": [
        {
          "output_type": "stream",
          "name": "stdout",
          "text": [
            "[None, 42]\n",
            "[None, 42, 'Hello world!']\n",
            "[None, 42, 'Hello world!', [1, 3, 5, 7]]\n"
          ]
        }
      ]
    },
    {
      "cell_type": "markdown",
      "source": [
        "Обратите внимание, что при добавлении списка c в список my_list он оказался\n",
        "целиком в одной ячейке списка. Ссылочная система Pyhton позволяет формировать\n",
        "структуры любой глубины вложенности.\n",
        "Ниже пример плохого кода. Мы добавили в список сам себя."
      ],
      "metadata": {
        "id": "Fl7l1al8CxSJ"
      }
    },
    {
      "cell_type": "code",
      "source": [
        "my_list.append(my_list)\n",
        "print(my_list)\n",
        "# Вывод: [None, 42, 'Hello world!', [1, 3, 5, 7], [...]]"
      ],
      "metadata": {
        "id": "RgPai3a0Cz7W"
      },
      "execution_count": null,
      "outputs": []
    },
    {
      "cell_type": "markdown",
      "source": [
        "Многоточие в выводе говорит о рекурсивной ссылке. Явный намёк на то, что\n",
        "программист сделал что-то неверно своей программе.\n",
        "Метод append имеет константную асимптотику O(1).\n",
        "# Метод extend\n",
        "**Метод** **extend** ведёт себя аналогично **append**, то есть добавляет элементы в конец\n",
        "списка. В качестве аргумента extend принимает последовательность, итерируется\n",
        "по ней слева направо и каждый элемент добавляет в новую ячейку списка."
      ],
      "metadata": {
        "id": "VwvICGH6C3jG"
      }
    },
    {
      "cell_type": "code",
      "source": [
        "a = 42\n",
        "b = 'Hello world!'\n",
        "c = [1, 3, 5, 7]\n",
        "my_list = [None]\n",
        "my_list.extend(a) # TypeError: 'int' object is not iterable\n",
        "print(my_list)\n",
        "my_list.extend(b)\n",
        "print(my_list)\n",
        "my_list.extend(c)\n",
        "print(my_list)\n",
        "my_list.extend(my_list)\n",
        "print(my_list)"
      ],
      "metadata": {
        "id": "aCGB5f6_DAp8"
      },
      "execution_count": null,
      "outputs": []
    },
    {
      "cell_type": "markdown",
      "source": [
        "● extend(a) — если в метод передать не коллекцию, получим ошибку TypeError.\n",
        "\n",
        "● extend(b) — строка воспринимается как коллекция, в результате каждый\n",
        "символ строки помещается в новую ячейку списка.\n",
        "\n",
        "● extend(c) — итерируемся по списку, c последовательно добавляя его\n",
        "элементы в список my_list\n",
        "\n",
        "● extend(my_list) — удваиваем список, добавляя копию всех его элементов.\n",
        "\n",
        "Метод extend имеет константную асимптотику O(1) на добавление одного элемента\n",
        "и зависит от количества переданных объектов, т.е. O(n), где n - количество\n",
        "элементов в последовательности.\n"
      ],
      "metadata": {
        "id": "-FLWe5hTDExC"
      }
    },
    {
      "cell_type": "markdown",
      "source": [
        "# Метод pop\n",
        "**Метод** **pop** позволяет удалить элемент списка. Удаляемый элемент возвращается\n",
        "как результат работы метода."
      ],
      "metadata": {
        "id": "44Tf4UpZDOH9"
      }
    },
    {
      "cell_type": "code",
      "source": [
        "my_list = [2, 4, 6, 8, 10, 12]\n",
        "spam = my_list.pop()\n",
        "print(spam, my_list)\n",
        "eggs = my_list.pop(1)\n",
        "print(eggs, my_list)\n",
        "err = my_list.pop(10) # IndexError: pop index out of range"
      ],
      "metadata": {
        "id": "Gzkm4d9_DTJy"
      },
      "execution_count": null,
      "outputs": []
    },
    {
      "cell_type": "markdown",
      "source": [
        "**Метод** **pop** может принимать на вход индекс удаляемого элемента. Этот элемент вернётся как результат работы метода, т.е. может быть сохранён в переменную.\n",
        "Индекс может быть отрицательным. Тогда элемент считается от правой части\n",
        "списка, с конца.\n",
        "\n",
        "Если указать индекс выходящий за границы списка получим ошибку IndexError.\n",
        "Метод pop без аргумента имеет константную асимптотику O(1). Метод pop с\n",
        "аргументом имеет линейную асимптотику. Список не допускает пустых ячеек,\n",
        "поэтому при удаление элемента из середины списка все элементы находящиеся\n",
        "правее сдвигаются на одну ячейку влево. Получаем O(n), где n - количество\n",
        "элементов правее удаляемого.\n",
        "\n",
        "**Python** **Style**! Переменные spam и eggs используется в языке Python как временные\n",
        "переменные. Эти названия, ветчина и яйца, используют True Python разработчики.\n",
        "Ведь язык назван в честь комедийного шоу Летающий цирк Монти Пайтон. А одно\n",
        "из их видео посвящено шуткам про ветчину и яйца."
      ],
      "metadata": {
        "id": "3M-uZWMYDVi_"
      }
    },
    {
      "cell_type": "markdown",
      "source": [
        "# Метод count\n",
        "**Метод** **count** подсчитывает вхождение элемента в список."
      ],
      "metadata": {
        "id": "uN3VPwiRDibx"
      }
    },
    {
      "cell_type": "code",
      "source": [
        "my_list = [2, 4, 6, 2, 8, 10, 12, 2, 4, 14, 2]\n",
        "spam = my_list.count(2)\n",
        "print(spam)\n",
        "eggs = my_list.count(3)\n",
        "print(eggs)"
      ],
      "metadata": {
        "colab": {
          "base_uri": "https://localhost:8080/"
        },
        "id": "JznWYMXEDmEm",
        "outputId": "50bc7916-65ff-438a-c7ef-8f46e56efaa2"
      },
      "execution_count": null,
      "outputs": [
        {
          "output_type": "stream",
          "name": "stdout",
          "text": [
            "4\n",
            "0\n"
          ]
        }
      ]
    },
    {
      "cell_type": "markdown",
      "source": [
        "Метод принимает именно объект, а не индекс. Если объект отсутствует в списке,\n",
        "count возвращает ноль — элемент был встречен в списке ноль раз.\n",
        "Count имеет линейную асимптотику O(n), т.к. для подсчёта метод перебирает все\n",
        "элемента списка и сравнивает их с переданным объектом."
      ],
      "metadata": {
        "id": "p3gal7wBDqGm"
      }
    },
    {
      "cell_type": "markdown",
      "source": [
        "# Метод index\n",
        "Метод index возвращает индекс переданного объекта внутри списка."
      ],
      "metadata": {
        "id": "1NAzeS_3Ds_6"
      }
    },
    {
      "cell_type": "code",
      "source": [
        "my_list = [2, 4, 6, 2, 8, 10, 12, 2, 4, 14, 2]\n",
        "spam = my_list.index(4)\n",
        "print(spam)\n",
        "eggs = my_list.index(4, spam + 1, 90)\n",
        "print(eggs)\n",
        "err = my_list.index(3) # ValueError: 3 is not in list"
      ],
      "metadata": {
        "id": "hw7aESSHDwD6"
      },
      "execution_count": null,
      "outputs": []
    },
    {
      "cell_type": "markdown",
      "source": [
        "**Внимание**! Если правая граница, stop индекс, окажется больше, чем\n",
        "количество элементов в списке, поиск будет осуществляться до конца списка.\n",
        "Ошибку это не вызовет.\n",
        "\n",
        "# Метод insert\n",
        "**Метод** **insert** принимает на вход два аргумента — индекс для вставки и объект\n",
        "вставки. Метод добавляет элемент после индекса."
      ],
      "metadata": {
        "id": "hR13PP29D5un"
      }
    },
    {
      "cell_type": "code",
      "source": [
        "my_list = [2, 4, 6, 8, 10, 12]\n",
        "my_list.insert(2, 555)\n",
        "print(my_list)\n",
        "my_list.insert(-2, 13)\n",
        "print(my_list)\n",
        "my_list.insert(42, 73) # my_list.append(73)\n",
        "print(my_list)"
      ],
      "metadata": {
        "colab": {
          "base_uri": "https://localhost:8080/"
        },
        "id": "TDM8nZJ1EEIV",
        "outputId": "064242c8-396e-4301-c415-38081547b13a"
      },
      "execution_count": null,
      "outputs": [
        {
          "output_type": "stream",
          "name": "stdout",
          "text": [
            "[2, 4, 555, 6, 8, 10, 12]\n",
            "[2, 4, 555, 6, 8, 13, 10, 12]\n",
            "[2, 4, 555, 6, 8, 13, 10, 12, 73]\n"
          ]
        }
      ]
    },
    {
      "cell_type": "markdown",
      "source": [
        "Если индекс положительный, элемент добавляется в указанную ячейку, а все\n",
        "последующие элементы списка сдвигаются на ячейку правее.\n",
        "Если индекс отрицательный, отсчитывается необходимое количество элементов\n",
        "справа для вставки. Например -2 означает, что после вставки справа от\n",
        "добавленного элемента будет находится ещё два.\n",
        "В том случае, когда индекс оказывается больше, чем количество элементов списка,\n",
        "объект добавляется в конец. В таком случае логичнее использовать метод append,\n",
        "выполняющий добавление элемента в конец списка."
      ],
      "metadata": {
        "id": "RyYFTlPhEH3W"
      }
    },
    {
      "cell_type": "markdown",
      "source": [
        "#Метод remove\n",
        "Метод remove принимает на вход объект, производит его поиск в списке и удаляет в\n",
        "случае нахождения."
      ],
      "metadata": {
        "id": "LXOTvy2Imsks"
      }
    },
    {
      "cell_type": "code",
      "source": [
        "my_list = [2, 4, 6, 8, 10, 12, 6]\n",
        "my_list.remove(6)\n",
        "print(my_list)\n"
      ],
      "metadata": {
        "colab": {
          "base_uri": "https://localhost:8080/"
        },
        "id": "0nAdAHVMm9Pp",
        "outputId": "618458c7-2258-4fae-f2af-3c1f1949deb8"
      },
      "execution_count": null,
      "outputs": [
        {
          "output_type": "stream",
          "name": "stdout",
          "text": [
            "[2, 4, 8, 10, 12, 6]\n"
          ]
        }
      ]
    },
    {
      "cell_type": "markdown",
      "source": [
        "Если удаляемый элемент встречается в списке несколько раз, удаляется только\n",
        "один элемент — самый левый.\n",
        "А если удаляемый элемент отсутствует в списке, будет вызвана ошибка ValueError."
      ],
      "metadata": {
        "id": "Wq7tVSkQnKRZ"
      }
    },
    {
      "cell_type": "markdown",
      "source": [
        "# Сортировка списков\n",
        "Одна из частых операций при работе со списками их сортировка. Python позволяет\n",
        "отсортировать список на месте, inplace, т.е. не создавая копию. А можно создать\n",
        "копию отсортированного списка как отдельный объект.\n",
        "\n",
        "**Важно**! При сортировке элементы списка должны быть одного типа.\n",
        "Иначе Python может не понять как сравнивать между собой элементы разных\n",
        "типов и вызовет ошибку."
      ],
      "metadata": {
        "id": "SP5A9MaIn5iq"
      }
    },
    {
      "cell_type": "code",
      "source": [
        "my_list = ['H', 'e', 'l', 'l', 'o', 1, 3, 5, 7]\n",
        "my_list.sort() # TypeError: '<' not supported between instances of 'int' and 'str'\n",
        "res = sorted(my_list) # TypeError: '<' not supported between instances of 'int' and 'str'"
      ],
      "metadata": {
        "id": "pX9IuzNYEXYG"
      },
      "execution_count": null,
      "outputs": []
    },
    {
      "cell_type": "markdown",
      "source": [
        "#Функция sorted()\n",
        "\n",
        "Функция sorted принимает на вход любую коллекцию по которой можно\n",
        "итерироваться и возвращает отсортированный список."
      ],
      "metadata": {
        "id": "r_jGjrWYpKqf"
      }
    },
    {
      "cell_type": "code",
      "source": [
        "my_list = [4, 8, 2, 9, 1, 7, 2]\n",
        "sort_list = sorted(my_list)\n",
        "print(my_list, sort_list, sep='\\n')\n",
        "rev_list = sorted(my_list, reverse=True)\n",
        "print(my_list, rev_list, sep='\\n')\n"
      ],
      "metadata": {
        "colab": {
          "base_uri": "https://localhost:8080/"
        },
        "id": "hVomHArIpRlJ",
        "outputId": "0c566694-eb5c-4521-9fdb-e4ad83cefd9d"
      },
      "execution_count": null,
      "outputs": [
        {
          "output_type": "stream",
          "name": "stdout",
          "text": [
            "[4, 8, 2, 9, 1, 7, 2]\n",
            "[1, 2, 2, 4, 7, 8, 9]\n",
            "[4, 8, 2, 9, 1, 7, 2]\n",
            "[9, 8, 7, 4, 2, 2, 1]\n"
          ]
        }
      ]
    },
    {
      "cell_type": "markdown",
      "source": [
        "Важно! Функция sorted может принимать не только списки, но и другие\n",
        "последовательности: строки, множества, кортежи, словари и т.п.. При этом\n",
        "функция всегда возвращает список.\n",
        "\n",
        "\n",
        "Переданная в функцию коллекция остаётся неизменной после результата работы\n",
        "функции. Если в функцию передать дополнительный аргумент reverse=True,\n",
        "сортировка происходит по убыванию.\n",
        "\n",
        "Внутри функции используется алгоритм сортировки Timsort — гибридная\n",
        "устойчивая сортировка с временной асимптотикой O(n log n). Дополнительно\n",
        "тратится O(n) памяти на создание нового отсортированного списка."
      ],
      "metadata": {
        "id": "wXOGYiVNqC6B"
      }
    },
    {
      "cell_type": "markdown",
      "source": [
        "#Метод sort()\n",
        "\n",
        "Метод sort осуществляет сортировку элементов списка без создания копии, inplace."
      ],
      "metadata": {
        "id": "7CiqdeMPq5eN"
      }
    },
    {
      "cell_type": "code",
      "source": [
        "my_list = [4, 8, 2, 9, 1, 7, 2]\n",
        "my_list.sort()\n",
        "print(my_list)\n",
        "my_list.sort(reverse=True)\n",
        "print(my_list)\n"
      ],
      "metadata": {
        "colab": {
          "base_uri": "https://localhost:8080/"
        },
        "id": "GXh2ejyLsygK",
        "outputId": "f9d1b38d-d150-48e7-d753-d2c2ee84023a"
      },
      "execution_count": null,
      "outputs": [
        {
          "output_type": "stream",
          "name": "stdout",
          "text": [
            "[1, 2, 2, 4, 7, 8, 9]\n",
            "[9, 8, 7, 4, 2, 2, 1]\n"
          ]
        }
      ]
    },
    {
      "cell_type": "markdown",
      "source": [
        "Как и функция sorted метод sort упорядочивает элементы по возрастанию. Если\n",
        "передать дополнительный параметр reverse=True, будет произведена сортировка по\n",
        "убыванию. Внутри метода работает тот же самый алгоритм сортировки Timsort. Но\n",
        "память на создание копии списка мы не тратим."
      ],
      "metadata": {
        "id": "d_YUgxR8tAy2"
      }
    },
    {
      "cell_type": "markdown",
      "source": [
        "#Разворот списков\n",
        "Python поддерживает операции по развороту списка. Первый элемент становится\n",
        "последним, второй — предпоследним и так далее.\n",
        "\n",
        "#Функция reversed()\n",
        "Функция принимает на вход последовательность, которая поддерживает порядок\n",
        "элементов, возвращает функция объект итератор с обратным порядком элементов."
      ],
      "metadata": {
        "id": "E6dlVY0atGkp"
      }
    },
    {
      "cell_type": "code",
      "source": [
        "my_list = [4, 8, 2, 9, 1, 7, 2]\n",
        "res = reversed(my_list)\n",
        "print(type(res), res)\n",
        "rev_list = list(reversed(my_list))\n",
        "print(rev_list)"
      ],
      "metadata": {
        "colab": {
          "base_uri": "https://localhost:8080/"
        },
        "id": "G6YYwjhBtRjF",
        "outputId": "03f291c7-4237-4f5c-f16a-f6c9edae7a4e"
      },
      "execution_count": null,
      "outputs": [
        {
          "output_type": "stream",
          "name": "stdout",
          "text": [
            "<class 'list_reverseiterator'> <list_reverseiterator object at 0x7fc439d0c790>\n",
            "[2, 7, 1, 9, 2, 8, 4]\n"
          ]
        }
      ]
    },
    {
      "cell_type": "markdown",
      "source": [
        "Получается, что результат работы функции напрямую не использовать? Если нам\n",
        "нужен новый развёрнутый список, объект итератор стоит обернуть в функцию list. В\n",
        "таком случае мы получим новый развёрнутый список.\n",
        "\n",
        "#Важно! Подобный приём затратен по времени и по памяти.\n",
        "Обычно функция reversed используется в сочетании с циклом for in. Такой приём\n",
        "позволяет работать с элементами списка внутри цикла в обратном порядке."
      ],
      "metadata": {
        "id": "k5WXuGditiSC"
      }
    },
    {
      "cell_type": "code",
      "source": [
        "for item in reversed(my_list):\n",
        " print(item)\n"
      ],
      "metadata": {
        "colab": {
          "base_uri": "https://localhost:8080/"
        },
        "id": "baEkdZ51ttba",
        "outputId": "6e586e4a-b254-4694-b0ae-63fe62dbeb57"
      },
      "execution_count": null,
      "outputs": [
        {
          "output_type": "stream",
          "name": "stdout",
          "text": [
            "2\n",
            "7\n",
            "1\n",
            "9\n",
            "2\n",
            "8\n",
            "4\n"
          ]
        }
      ]
    },
    {
      "cell_type": "markdown",
      "source": [
        "#Метод reverse() и синтаксический сахар [::-1]\n",
        "Если нам нужно развёрнутая версия списка логичные и удобнее использовать\n",
        "встроенный метод reverse."
      ],
      "metadata": {
        "id": "6VSYIHYwt-PW"
      }
    },
    {
      "cell_type": "code",
      "source": [
        "my_list = [4, 8, 2, 9, 1, 7, 2]\n",
        "my_list.reverse()\n",
        "print(my_list)\n"
      ],
      "metadata": {
        "colab": {
          "base_uri": "https://localhost:8080/"
        },
        "id": "2LgFIGJIuDSP",
        "outputId": "e5986911-7f71-473b-bb3e-fa516b2b30d3"
      },
      "execution_count": null,
      "outputs": [
        {
          "output_type": "stream",
          "name": "stdout",
          "text": [
            "[2, 7, 1, 9, 2, 8, 4]\n"
          ]
        }
      ]
    },
    {
      "cell_type": "markdown",
      "source": [
        "Метод разворачивает список на месте не создавая копии.\n",
        "Кроме этого в Python есть возможность получить развернутую копию через особую\n",
        "запись в квадратных скобках, синтаксический сахар. После имени списка в\n",
        "квадратных скобках слитно записываем два двоеточия и минус один."
      ],
      "metadata": {
        "id": "CeOizktYuKra"
      }
    },
    {
      "cell_type": "code",
      "source": [
        "my_list = [4, 8, 2, 9, 1, 7, 2]\n",
        "new_list = my_list[::-1]\n",
        "print(my_list, new_list, sep='\\n')"
      ],
      "metadata": {
        "colab": {
          "base_uri": "https://localhost:8080/"
        },
        "id": "LIqxPLe3uOm_",
        "outputId": "d6226dfa-4b66-40af-98cc-aa6f9745fe6c"
      },
      "execution_count": null,
      "outputs": [
        {
          "output_type": "stream",
          "name": "stdout",
          "text": [
            "[4, 8, 2, 9, 1, 7, 2]\n",
            "[2, 7, 1, 9, 2, 8, 4]\n"
          ]
        }
      ]
    },
    {
      "cell_type": "markdown",
      "source": [
        "Подобная запись аналогична rev_list = list(reversed(my_list))\n",
        "рассмотренной выше. Разворот списка с использованием квадратных скобок —\n",
        "частный случай срезов."
      ],
      "metadata": {
        "id": "Dl6H-hSNucKr"
      }
    },
    {
      "cell_type": "markdown",
      "source": [
        "#Создание копий\n",
        "Мы уже разобрали способы создания отсортированной копии списка, развернутой\n",
        "копии списка. На этом возможности копирования не заканчиваются.\n",
        "#Срезы\n",
        "Используя квадратные скобки можно делать частичные копии списка - срезы.\n",
        "Базовый синтаксис следующий.\n",
        "\n",
        "list[start:stop:step]\n",
        "\n",
        "start указывает на первый индекс, который включается в срез. При отсутствии\n",
        "значения start равен нулю, началу списка.\n",
        "stop указывает на последний индекс, который не включается в срез. При отсутствии\n",
        "значения stop равен последнему элементу списка и включает его в срез.\n",
        "step — шаг движения от star до stop. По умолчанию step равен единице, все\n",
        "элементы по порядку.\n"
      ],
      "metadata": {
        "id": "Nf2xNWwZugRT"
      }
    },
    {
      "cell_type": "code",
      "source": [
        "my_list = [2, 4, 6, 2, 8, 10, 12, 14, 16, 18]\n",
        "print(my_list[2:7:2])\n",
        "print(my_list[:7:2])\n",
        "print(my_list[2::2])\n",
        "print(my_list[2:7:])\n",
        "print(my_list[8:3:-1])\n",
        "print(my_list[3::])\n",
        "print(my_list[:7:])\n"
      ],
      "metadata": {
        "colab": {
          "base_uri": "https://localhost:8080/"
        },
        "id": "grIvfTfVu3v5",
        "outputId": "93fda548-53c1-4758-dced-d1fa1bb8cd4e"
      },
      "execution_count": null,
      "outputs": [
        {
          "output_type": "stream",
          "name": "stdout",
          "text": [
            "[6, 8, 12]\n",
            "[2, 6, 8, 12]\n",
            "[6, 8, 12, 16]\n",
            "[6, 2, 8, 10, 12]\n",
            "[16, 14, 12, 10, 8]\n",
            "[2, 8, 10, 12, 14, 16, 18]\n",
            "[2, 4, 6, 2, 8, 10, 12]\n"
          ]
        }
      ]
    },
    {
      "cell_type": "markdown",
      "source": [
        "#Метод copy()\n",
        "Метод copy создаёт поверхностную копию списка. Начнём с плохого примера, чтобы\n",
        "понять пользу копий."
      ],
      "metadata": {
        "id": "LDjWkWZEvCaj"
      }
    },
    {
      "cell_type": "code",
      "source": [
        "my_list = [2, 4, 6, 2, 8, 10, 12, 14, 16, 18]\n",
        "new_list = my_list\n",
        "print(my_list, new_list, sep='\\n')\n",
        "my_list[2] = 555\n",
        "print(my_list, new_list, sep='\\n')"
      ],
      "metadata": {
        "colab": {
          "base_uri": "https://localhost:8080/"
        },
        "id": "TXtWZsn9vEoM",
        "outputId": "21459f1f-e420-4752-e1ce-ea3998fbe21a"
      },
      "execution_count": null,
      "outputs": [
        {
          "output_type": "stream",
          "name": "stdout",
          "text": [
            "[2, 4, 6, 2, 8, 10, 12, 14, 16, 18]\n",
            "[2, 4, 6, 2, 8, 10, 12, 14, 16, 18]\n",
            "[2, 4, 555, 2, 8, 10, 12, 14, 16, 18]\n",
            "[2, 4, 555, 2, 8, 10, 12, 14, 16, 18]\n"
          ]
        }
      ]
    },
    {
      "cell_type": "markdown",
      "source": [
        "Мы скопировали в переменную new_list указатель на список my_list. Далее мы\n",
        "изменили элемент в исходном списке. Новый список также оказался изменённым.\n",
        "Как вы помните list — изменяемый тип данных и подобное поведение нормально.\n",
        "Что делать, если нужно менять оригинал, но не затрагивать копию. Верно. Метод\n",
        "copy."
      ],
      "metadata": {
        "id": "7w5MFGdrvQ_O"
      }
    },
    {
      "cell_type": "code",
      "source": [
        "my_list = [2, 4, 6, 2, 8, 10, 12, 14, 16, 18]\n",
        "new_list = my_list.copy()\n",
        "print(my_list, new_list, sep='\\n')\n",
        "my_list[2] = 555\n",
        "print(my_list, new_list, sep='\\n')\n"
      ],
      "metadata": {
        "colab": {
          "base_uri": "https://localhost:8080/"
        },
        "id": "Dv88iNCZvULy",
        "outputId": "3a002886-388d-4208-b08f-41a33d1e7628"
      },
      "execution_count": null,
      "outputs": [
        {
          "output_type": "stream",
          "name": "stdout",
          "text": [
            "[2, 4, 6, 2, 8, 10, 12, 14, 16, 18]\n",
            "[2, 4, 6, 2, 8, 10, 12, 14, 16, 18]\n",
            "[2, 4, 555, 2, 8, 10, 12, 14, 16, 18]\n",
            "[2, 4, 6, 2, 8, 10, 12, 14, 16, 18]\n"
          ]
        }
      ]
    },
    {
      "cell_type": "markdown",
      "source": [
        "Теперь изменяется лишь один список."
      ],
      "metadata": {
        "id": "cjK2IzCPvpBn"
      }
    },
    {
      "cell_type": "markdown",
      "source": [
        "#Зачем нужна функция copy.deepcopy()\n",
        "Иногда программисту приходится работать с вложенными друг в друга\n",
        "коллекциями. Например матрица или список списков."
      ],
      "metadata": {
        "id": "MBqelF83vtU-"
      }
    },
    {
      "cell_type": "code",
      "source": [
        "matrix = [[1, 2, 3], [4, 5, 6], [7, 8, 9]]\n",
        "new_m = matrix.copy()\n",
        "print(matrix, new_m, sep='\\n')\n",
        "matrix[0][1] = 555\n",
        "print(matrix, new_m, sep='\\n')\n"
      ],
      "metadata": {
        "colab": {
          "base_uri": "https://localhost:8080/"
        },
        "id": "6GpBsEcZvw3q",
        "outputId": "d2a58f6a-1762-4a3e-f4d3-9f1d2a976a37"
      },
      "execution_count": null,
      "outputs": [
        {
          "output_type": "stream",
          "name": "stdout",
          "text": [
            "[[1, 2, 3], [4, 5, 6], [7, 8, 9]]\n",
            "[[1, 2, 3], [4, 5, 6], [7, 8, 9]]\n",
            "[[1, 555, 3], [4, 5, 6], [7, 8, 9]]\n",
            "[[1, 555, 3], [4, 5, 6], [7, 8, 9]]\n"
          ]
        }
      ]
    },
    {
      "cell_type": "markdown",
      "source": [
        "Метод copy создал поверхностную копию, копию верхнего уровня. Изменения же\n",
        "вложенных объектов отразится и на оригинале. В таком случае для создания\n",
        "полной копии любой глубины вложенности используют функцию deepcopy из\n",
        "модуля copy."
      ],
      "metadata": {
        "id": "QkBZ_a8pwASq"
      }
    },
    {
      "cell_type": "code",
      "source": [
        "import copy\n",
        "matrix = [[1, 2, 3], [4, 5, 6], [7, 8, 9]]\n",
        "new_m = copy.deepcopy(matrix)\n",
        "print(matrix, new_m, sep='\\n')\n",
        "matrix[0][1] = 555\n",
        "print(matrix, new_m, sep='\\n')"
      ],
      "metadata": {
        "colab": {
          "base_uri": "https://localhost:8080/"
        },
        "id": "wzsCVcB4wC42",
        "outputId": "29d90f7d-9e5d-4ec0-8eb9-e463fe54bbc8"
      },
      "execution_count": null,
      "outputs": [
        {
          "output_type": "stream",
          "name": "stdout",
          "text": [
            "[[1, 2, 3], [4, 5, 6], [7, 8, 9]]\n",
            "[[1, 2, 3], [4, 5, 6], [7, 8, 9]]\n",
            "[[1, 555, 3], [4, 5, 6], [7, 8, 9]]\n",
            "[[1, 2, 3], [4, 5, 6], [7, 8, 9]]\n"
          ]
        }
      ]
    },
    {
      "cell_type": "markdown",
      "source": [
        "Функция рекурсивно обходит все вложенные объекты создавая их копии.\n",
        "Изменения одной коллекции теперь не затрагивают её копию."
      ],
      "metadata": {
        "id": "3ZEhx6ACwMhn"
      }
    },
    {
      "cell_type": "markdown",
      "source": [
        "#Плюсы и минусы создания копии\n",
        "При работе со списками важно помнить, что сам список как хранитель указателей\n",
        "на объекты занимает место в памяти. Дополнительно занимают память и сами\n",
        "объекты, на которые список указывает. Создание копии приводит к новым затратам\n",
        "памяти, ведь мы создаём новый объект список. Если вы работает с большими\n",
        "данными, создание копии может быть не лучшей идеей - может не хватить памяти\n",
        "ПК. Кроме того каждая копия требует временных ресурсов на копирование. Прежде\n",
        "чем использовать срезы, копии задумайтесь можно ли решить задачу иначе,\n",
        "экономя время и память.\n",
        "С другой стороны небольшие списки быстро копируются. И если в вашей задаче\n",
        "важно сохранить оригинал, но нужно модифицировать список для получения\n",
        "результата — копирование вполне допустимо."
      ],
      "metadata": {
        "id": "_W3yyQZwwQmL"
      }
    },
    {
      "cell_type": "markdown",
      "source": [
        "#Функция len\n",
        "В финале списков рассмотрим функцию len. На вход она принимает любую\n",
        "коллекцию, в которой можно посчитать количество элементов."
      ],
      "metadata": {
        "id": "tdP3LkniwVvH"
      }
    },
    {
      "cell_type": "markdown",
      "source": [
        "##Важно!\n",
        "\n",
        "Функция одинаково работает не только для списков, но и для\n",
        "других коллекций."
      ],
      "metadata": {
        "id": "xsig_nnGwexJ"
      }
    },
    {
      "cell_type": "code",
      "source": [
        "my_list = [2, 4, 6, 2, 8, 10, 12, 14, 16, 18]\n",
        "matrix = [[1, 2, 3, 4], [5, 6, 7, 8], [9, 10, 11, 12]]\n",
        "print(len(my_list))\n",
        "print(len(matrix))\n",
        "print(len(matrix[1]))"
      ],
      "metadata": {
        "colab": {
          "base_uri": "https://localhost:8080/"
        },
        "id": "rWpBOcjQwplu",
        "outputId": "0ec241c2-063f-4a5d-d5b4-5ea8e288ebc0"
      },
      "execution_count": null,
      "outputs": [
        {
          "output_type": "stream",
          "name": "stdout",
          "text": [
            "10\n",
            "3\n",
            "4\n"
          ]
        }
      ]
    },
    {
      "cell_type": "markdown",
      "source": [
        "Обратите внимание на результат работы функции. Подсчитывается количество\n",
        "элементов первого уровня вложенности. У списка 10 элементов в ячейках с нулевой\n",
        "по девятую. Функция вернула 10."
      ],
      "metadata": {
        "id": "uYAChBEywuq2"
      }
    },
    {
      "cell_type": "markdown",
      "source": [
        "У матрицы три элемента списка в ячейках с нулевой по вторую. В каждом из\n",
        "вложенных списков по 4 элемента, т.е. суммарно 12. Но функция len вернула число\n",
        "3 посчитав элементы верхнего уровня.\n",
        "При обращении к элементу матрицы в ячейке один, т.е. списку [5, 6, 7, 8] функция\n",
        "len возвращает число 4, верно посчитав количество элементов вложенного списка.\n",
        "Для списков len работает за константное время O(1). Внутри объекта списка всегда\n",
        "хранится количество элементов. Функция получает это значение, а не занимается\n",
        "подсчётом."
      ],
      "metadata": {
        "id": "hQNoWNNdxUVB"
      }
    },
    {
      "cell_type": "markdown",
      "source": [
        "#Задание\n",
        "Перед вами список и несколько строк кода, которые его меняют. Напишите что\n",
        "вернёт каждая из строк кода. Попробуйте справится с заданием без запуска кода. У\n",
        "вас 3 минуты."
      ],
      "metadata": {
        "id": "cR-AYP-2yh_8"
      }
    },
    {
      "cell_type": "code",
      "source": [
        "my_list = [2, 4, 6, 2, 8, 10, 12, 14, 16, 18]\n",
        "print(my_list[2:6:2])\n",
        "print(my_list.pop())\n",
        "print(my_list.extend([314, 42]))\n",
        "print(my_list.sort(reverse=False))\n",
        "print(my_list)\n"
      ],
      "metadata": {
        "colab": {
          "base_uri": "https://localhost:8080/"
        },
        "id": "6ZypidTgyo8B",
        "outputId": "982cb35e-35f2-480f-93ae-69e55421a667"
      },
      "execution_count": null,
      "outputs": [
        {
          "output_type": "stream",
          "name": "stdout",
          "text": [
            "[6, 8]\n",
            "18\n",
            "None\n",
            "None\n",
            "[2, 2, 4, 6, 8, 10, 12, 14, 16, 42, 314]\n"
          ]
        }
      ]
    },
    {
      "cell_type": "markdown",
      "source": [
        "# **2. Строки, str**\n",
        "И снова строки, но на этот раз как массивы символов. Часть рассмотренной для\n",
        "списков информации аналогична и для строки. Например, обращение к элементу\n",
        "строки по индексу в квадратных скобках, срезы строк и т.п. При этом стоит помнить,\n",
        "что строка неизменяема.\n",
        "Работа со строками как с массивами\n",
        "\n",
        "Начнём с квадратных скобок."
      ],
      "metadata": {
        "id": "5RsrgZ8JErlt"
      }
    },
    {
      "cell_type": "code",
      "source": [
        "text = 'Hello world!'\n",
        "print(text[6])\n",
        "print(text[3:7])"
      ],
      "metadata": {
        "colab": {
          "base_uri": "https://localhost:8080/"
        },
        "id": "cXBnVN2TE2DY",
        "outputId": "b3a409e6-a2fd-4ad5-fa38-1a5aeeedc7ce"
      },
      "execution_count": null,
      "outputs": [
        {
          "output_type": "stream",
          "name": "stdout",
          "text": [
            "w\n",
            "lo w\n"
          ]
        }
      ]
    },
    {
      "cell_type": "markdown",
      "source": [
        "Индексы и срезы работают аналогично спискам.\n",
        "Если необходимо заменить элемент новым, индексы не подойдут. Для этих целей\n",
        "нужен метод replace"
      ],
      "metadata": {
        "id": "EpQlU0MHFB0C"
      }
    },
    {
      "cell_type": "code",
      "source": [
        "new_txt = text.replace('l', 'L', 2)\n",
        "print(text, new_txt, sep='\\n')\n"
      ],
      "metadata": {
        "colab": {
          "base_uri": "https://localhost:8080/"
        },
        "id": "v041rnLZFPWo",
        "outputId": "00366fa6-ff63-48c7-b750-b8d9accdd51e"
      },
      "execution_count": null,
      "outputs": [
        {
          "output_type": "stream",
          "name": "stdout",
          "text": [
            "Hello world!\n",
            "HeLLo world!\n"
          ]
        }
      ]
    },
    {
      "cell_type": "markdown",
      "source": [
        "Первый аргумент — подстрока, которую нужно заменить.\n",
        "\n",
        "Второй аргумент — подстрока, на которую нужно заменить.\n",
        "\n",
        "Третий аргумент — максимальное количество замен. Если его не указывать, будут\n",
        "заменены все совпадения."
      ],
      "metadata": {
        "id": "RbpQ8IhZFWot"
      }
    },
    {
      "cell_type": "markdown",
      "source": [
        "# Методы count, index, find\n",
        "Как и у списка, строка поддерживает методы count для подсчёта вхождения и index\n",
        "для поиска элемента. Но у строки появился и новый метод find. Он работает\n",
        "аналогично index. Но если искомая подстрока отсутствует, вместо ошибки\n",
        "возвращает -1."
      ],
      "metadata": {
        "id": "vntlOX5CFdyr"
      }
    },
    {
      "cell_type": "code",
      "source": [
        "text = 'Hello world!'\n",
        "print(text.count('l'))\n",
        "print(text.index('l'))\n",
        "print(text.find('l'))\n",
        "print(text.find('z'))"
      ],
      "metadata": {
        "colab": {
          "base_uri": "https://localhost:8080/"
        },
        "id": "OLuVZuHbFjPI",
        "outputId": "1433f690-44a0-4567-b87a-1cdfedc4a0c4"
      },
      "execution_count": null,
      "outputs": [
        {
          "output_type": "stream",
          "name": "stdout",
          "text": [
            "3\n",
            "2\n",
            "2\n",
            "-1\n"
          ]
        }
      ]
    },
    {
      "cell_type": "markdown",
      "source": [
        "# Реверс строк\n",
        "Для разворота строки используется обратный срез, как и в случае со списком."
      ],
      "metadata": {
        "id": "AFLIQPBaFtxk"
      }
    },
    {
      "cell_type": "code",
      "source": [
        "text = 'Hello world!'\n",
        "print(text[::-1])\n"
      ],
      "metadata": {
        "colab": {
          "base_uri": "https://localhost:8080/"
        },
        "id": "jzU-Z4ETFx-D",
        "outputId": "adf4d018-07bb-4d25-c829-671e62b135a3"
      },
      "execution_count": null,
      "outputs": [
        {
          "output_type": "stream",
          "name": "stdout",
          "text": [
            "!dlrow olleH\n"
          ]
        }
      ]
    },
    {
      "cell_type": "markdown",
      "source": [
        "# Форматирование строк\n",
        "Опытные программисты могут назвать 5-7 способов форматирования строк.\n",
        "Разбирать их все нет смысла. Рассмотрим три “главных” на примерах.\n",
        "## Форматирование через %\n",
        "Форматирование с использованием символа % является старым способом указания\n",
        "формата. Его вы можете встретить в коде, который писали очень давно. В\n",
        "настоящее время он используется лишь в некоторых модулях для задания формата\n",
        "вывода данных."
      ],
      "metadata": {
        "id": "WzmNRzzGF2fY"
      }
    },
    {
      "cell_type": "code",
      "source": [
        "name = 'Alex'\n",
        "age = 12\n",
        "text = 'Меня зовут %s и мне %d лет' % (name, age)\n",
        "print(text)\n"
      ],
      "metadata": {
        "colab": {
          "base_uri": "https://localhost:8080/"
        },
        "id": "2gBBYPvAF9aZ",
        "outputId": "3088e7c4-b0f4-46cc-f7a6-b718290c48bc"
      },
      "execution_count": null,
      "outputs": [
        {
          "output_type": "stream",
          "name": "stdout",
          "text": [
            "Меня зовут Alex и мне 12 лет\n"
          ]
        }
      ]
    },
    {
      "cell_type": "markdown",
      "source": [
        "В строке текста используется знак % с символом типа после него. s — строка, d —\n",
        "число и т.п. После строки указывается символ % и перечисляются переменные. Если\n",
        "переменных больше одной, они заключаются в круглые скобки и разделяются\n",
        "запятой — передаётся кортеж.\n",
        "\n",
        "🔥 Важно! Подробнее про используемы литеры вы можете прочитать по\n",
        "ссылке в материалах лекции. Пока же договоримся не использовать данный\n",
        "стиль форматирования, если это не обязывает конкретный модуль."
      ],
      "metadata": {
        "id": "UXh41wSTGF0C"
      }
    },
    {
      "cell_type": "markdown",
      "source": [
        "# Метод format\n",
        "Метод формат является строковым методом и позволяет соединять заранее\n",
        "заготовленный текст с переменными. Долгое время был основным способом\n",
        "форматирования. До версии Python 3.6, если быть точным."
      ],
      "metadata": {
        "id": "NobY9O6UGJzC"
      }
    },
    {
      "cell_type": "code",
      "source": [
        "name = 'Alex'\n",
        "age = 12\n",
        "\n",
        "text = 'Меня зовут {} и мне {} лет'.format(name, age)\n",
        "print(text)"
      ],
      "metadata": {
        "colab": {
          "base_uri": "https://localhost:8080/"
        },
        "id": "Z9husuHpGwST",
        "outputId": "d4c420e1-2a1e-4694-9ce6-6ace40b8f8e1"
      },
      "execution_count": null,
      "outputs": [
        {
          "output_type": "stream",
          "name": "stdout",
          "text": [
            "Меня зовут Alex и мне 12 лет\n"
          ]
        }
      ]
    },
    {
      "cell_type": "markdown",
      "source": [
        "В строке используются фигурные скобки как место для подстановки значений.\n",
        "Далее для строки вызывается метод format. В качестве аргументов метод получает\n",
        "нужное количество переменных.\n",
        "# f-строка\n",
        "Начиная с Python 3.7 для форматирования текста используют f-строки. Они\n",
        "работают быстрее, чем старые способы форматирования. А некоторые\n",
        "разработчики языка предлагают сделать их строками по умолчанию в одном из\n",
        "будущих релизов.\n",
        "f-строки похожи на более короткую и читаемую запись метода формат"
      ],
      "metadata": {
        "id": "AWaOUHEAG14t"
      }
    },
    {
      "cell_type": "code",
      "source": [
        "name = 'Alex'\n",
        "age = 12\n",
        "text = f'Меня зовут {name} и мне {age} лет'\n",
        "print(text)"
      ],
      "metadata": {
        "colab": {
          "base_uri": "https://localhost:8080/"
        },
        "id": "kMI4HbIJG6Cw",
        "outputId": "bba6d3ea-cecf-49eb-d683-fc46ba9aecf1"
      },
      "execution_count": null,
      "outputs": [
        {
          "output_type": "stream",
          "name": "stdout",
          "text": [
            "Меня зовут Alex и мне 12 лет\n"
          ]
        }
      ]
    },
    {
      "cell_type": "markdown",
      "source": [
        "Перед открывающей кавычкой пишут f — указатель на отформатированную строку.\n",
        "Текст внутри фигурных скобок воспринимается как переменная и на печать\n",
        "выводятся из значения.\n",
        "\n",
        "🔥 Важно! Для печати фигурных скобок используется две фигурные скобки\n",
        "слитно."
      ],
      "metadata": {
        "id": "onEMFnhJG-yb"
      }
    },
    {
      "cell_type": "code",
      "source": [
        "print(f'{{Фигурные скобки}} и {{name}}')"
      ],
      "metadata": {
        "colab": {
          "base_uri": "https://localhost:8080/"
        },
        "id": "jOSPW-1wHDZs",
        "outputId": "d649f598-256d-43bb-8d28-c201104b78b9"
      },
      "execution_count": null,
      "outputs": [
        {
          "output_type": "stream",
          "name": "stdout",
          "text": [
            "{Фигурные скобки} и {name}\n"
          ]
        }
      ]
    },
    {
      "cell_type": "markdown",
      "source": [
        "Помимо вывода содержимого переменной можно указать дополнительные\n",
        "символы, влияющие на представление.\n",
        "# Уточнение формата\n",
        "Существую различные способы уточнения способа вывода значения переменной."
      ],
      "metadata": {
        "id": "NtkQvepCHG-p"
      }
    },
    {
      "cell_type": "code",
      "source": [
        "pi = 3.1415\n",
        "print(f'Число Пи с точностью два знака: {pi:.2f}')\n",
        "data = [3254, 4364314532, 43465474, 2342, 462256, 1747]\n",
        "for item in data:\n",
        "  print(f'{item:>10}')\n",
        "num = 2 * pi * data[1]\n",
        "print(f'{num = :_}')"
      ],
      "metadata": {
        "colab": {
          "base_uri": "https://localhost:8080/"
        },
        "id": "TbZ-fNHLHK9p",
        "outputId": "9143b4e8-c085-4d5c-ab98-0e228e6afaf9"
      },
      "execution_count": null,
      "outputs": [
        {
          "output_type": "stream",
          "name": "stdout",
          "text": [
            "Число Пи с точностью два знака: 3.14\n",
            "      3254\n",
            "4364314532\n",
            "  43465474\n",
            "      2342\n",
            "    462256\n",
            "      1747\n",
            "num = 27_420_988_204.556\n"
          ]
        }
      ]
    },
    {
      "cell_type": "markdown",
      "source": [
        "После указания имени переменной в фигурных скобках ставится двоеточие —\n",
        "указатель на символы задания формата далее.\n",
        "\n",
        "● :.2f — число пи выводим с точность два знака после запятой\n",
        "\n",
        "● :>10 — элементы списка выводятся с выравниванием по правому краю и\n",
        "общей шириной вывода в 10 символов\n",
        "\n",
        "● = — выводим имя переменной, знак равенства с пробелами до и после него и\n",
        "только потом значение.\n",
        "\n",
        "● :_ — число разделяется символом подчёркивания для деления на блоки по 3\n",
        "цифры.\n",
        "\n",
        "Про эти и другие способы форматирования можно почитать в официальной\n",
        "документации. Ссылка в материалах."
      ],
      "metadata": {
        "id": "99FZgTcUHX0q"
      }
    },
    {
      "cell_type": "markdown",
      "source": [
        "# Методы строк\n",
        "Рассмотрим ещё несколько методов, которые есть только у строк.\n",
        "## Метод split\n",
        "Метод split позволяет разбить строку на отдельные элементы в соответствии с\n",
        "разделителем и поместить результат в список."
      ],
      "metadata": {
        "id": "RG8pCkVpHhGa"
      }
    },
    {
      "cell_type": "code",
      "source": [
        "link = 'https://habr.com/ru/users/dzhoker1/posts/'\n",
        "urls = link.split('/')\n",
        "print(urls)\n",
        "a, b, c = input('Введите 3 числа через пробел: ').split()\n",
        "print(c, b, a)"
      ],
      "metadata": {
        "colab": {
          "base_uri": "https://localhost:8080/"
        },
        "id": "aYIt5CIqHmTi",
        "outputId": "0f31a110-04a4-4874-dbdb-817e7ad2354e"
      },
      "execution_count": null,
      "outputs": [
        {
          "output_type": "stream",
          "name": "stdout",
          "text": [
            "['https:', '', 'habr.com', 'ru', 'users', 'dzhoker1', 'posts', '']\n",
            "Введите 3 числа через пробел: 3 6 8\n",
            "8 6 3\n"
          ]
        }
      ]
    },
    {
      "cell_type": "markdown",
      "source": [
        "В первом случае мы взяли ссылку и разделили её на отдельные компоненты по\n",
        "символу “/”.\n",
        "\n",
        "Обратите внимание, что между двойным слешем мы получили пустую\n",
        "строку. И вторую пустую строку после последнего слеша.\n",
        "\n",
        "Во втором примере метод не получил на вход аргументы и деление происходит по\n",
        "пробельным символам. Три переменные до знака равно примут по одному из\n",
        "переданных значений.\n",
        "\n",
        "🔥 Важно! С одной стороны удобно запросить у пользователя три значения\n",
        "в одной строке кода. Но стоит пользователю ошибится с пробелами и ввести\n",
        "меньше или больше трёх чисел, получим ошибку: ValueError: too many\n",
        "values to unpack (expected 3) или ValueError: not enough values\n",
        "to unpack (expected 3, got 2)"
      ],
      "metadata": {
        "id": "t5R16BFaH1wD"
      }
    },
    {
      "cell_type": "markdown",
      "source": [
        "Один из способов избежать ошибки лишних (но не меньших) данных при\n",
        "распаковке методом split — использовать символ распаковки."
      ],
      "metadata": {
        "id": "Zbnx8vP8ICIb"
      }
    },
    {
      "cell_type": "code",
      "source": [
        "a, b, c, *_ = input('Введите не менее трёх чисел через пробел:').split()"
      ],
      "metadata": {
        "colab": {
          "base_uri": "https://localhost:8080/"
        },
        "id": "mtcirdxCIEIY",
        "outputId": "a8f83b50-4721-4a0a-f8cf-14bca64e121b"
      },
      "execution_count": null,
      "outputs": [
        {
          "name": "stdout",
          "output_type": "stream",
          "text": [
            "Введите не менее трёх чисел через пробел:4 7 8 3\n"
          ]
        }
      ]
    },
    {
      "cell_type": "markdown",
      "source": [
        "Переменная подчёркивание благодаря звёздочке, символу упаковки, превращается\n",
        "в список, который заберет значения начиная с четвёртого."
      ],
      "metadata": {
        "id": "1E4czXe_IM9T"
      }
    },
    {
      "cell_type": "markdown",
      "source": [
        "# Метод join\n",
        "Метод join принимает на вход итерируемую последовательность и соединяет все её\n",
        "элементы в строку, разделяя каждый текстом, к которому применён метод. В\n",
        "некоторой степени join противоположен split."
      ],
      "metadata": {
        "id": "TfwGv650IPih"
      }
    },
    {
      "cell_type": "code",
      "source": [
        "data = ['https:', '', 'habr.com', 'ru', 'users', 'dzhoker1','posts']\n",
        "url = '/'.join(data)\n",
        "print(url)"
      ],
      "metadata": {
        "colab": {
          "base_uri": "https://localhost:8080/"
        },
        "id": "5eglqlPGIStk",
        "outputId": "413df662-c667-4311-ede4-1deba262dfa1"
      },
      "execution_count": null,
      "outputs": [
        {
          "output_type": "stream",
          "name": "stdout",
          "text": [
            "https://habr.com/ru/users/dzhoker1/posts\n"
          ]
        }
      ]
    },
    {
      "cell_type": "markdown",
      "source": [
        "К строке “/” применили метод, т.е. каждый элемент списка будет разделён слешем.\n",
        "При этом в начале и в конце получившейся строки слеша не будет.\n",
        "\n",
        "# Методы upper, lower, title, capitalize\n",
        "При работе с текстом можно быстро менять строчные буквы на прописные и\n",
        "наоборот."
      ],
      "metadata": {
        "id": "PW72-enNIYrJ"
      }
    },
    {
      "cell_type": "code",
      "source": [
        "text = 'однажды в СТУДЁНУЮ зИмнЮЮ ПоРУ'\n",
        "print(text.upper())\n",
        "print(text.lower())\n",
        "print(text.title())\n",
        "print(text.capitalize())"
      ],
      "metadata": {
        "colab": {
          "base_uri": "https://localhost:8080/"
        },
        "id": "ThtpkNgFIdGi",
        "outputId": "fb17ee02-7b14-4502-8f8f-534c3eec54f8"
      },
      "execution_count": null,
      "outputs": [
        {
          "output_type": "stream",
          "name": "stdout",
          "text": [
            "ОДНАЖДЫ В СТУДЁНУЮ ЗИМНЮЮ ПОРУ\n",
            "однажды в студёную зимнюю пору\n",
            "Однажды В Студёную Зимнюю Пору\n",
            "Однажды в студёную зимнюю пору\n"
          ]
        }
      ]
    },
    {
      "cell_type": "markdown",
      "source": [
        "● upper — все символы приводятся к верхнему регистру\n",
        "\n",
        "● lower — все символы приводятся к нижнему регистру\n",
        "\n",
        "● title — первый символ каждого слова (разделитель слов - пробел) приводится\n",
        "к верхнему регистру, остальные символы к нижнему\n",
        "\n",
        "● capitalize — первый символ строки в верхнем регистре, остальные в нижнем"
      ],
      "metadata": {
        "id": "frAvQmX9IhO0"
      }
    },
    {
      "cell_type": "markdown",
      "source": [
        "# Методы startswith и endswith\n",
        "Метод startswith проверяет начинается ли строка с заданной подстроки. Метод\n",
        "возвращает истину или ложь. Метод endswith проверяет окончание строки\n",
        "переданной в качестве аргумента подстрокой."
      ],
      "metadata": {
        "id": "X32wE9xXIl1j"
      }
    },
    {
      "cell_type": "code",
      "source": [
        "text = 'Однажды в студёную зимнюю пору'\n",
        "print(text.startswith('Однажды'))\n",
        "print(text.endswith('зимнюю', 0, -5))"
      ],
      "metadata": {
        "colab": {
          "base_uri": "https://localhost:8080/"
        },
        "id": "K5iA9I78IqmQ",
        "outputId": "45be040e-275a-4c31-b338-e1340e80e918"
      },
      "execution_count": null,
      "outputs": [
        {
          "output_type": "stream",
          "name": "stdout",
          "text": [
            "True\n",
            "True\n"
          ]
        }
      ]
    },
    {
      "cell_type": "markdown",
      "source": [
        "# Задание\n",
        "Перед вами строка текста и несколько строк кода, которые её меняют. Напишите\n",
        "что вернёт каждая из строк кода. Попробуйте справится с заданием без запуска\n",
        "25\n",
        "кода. У вас 3 минуты."
      ],
      "metadata": {
        "id": "qnSBh4klI68Q"
      }
    },
    {
      "cell_type": "code",
      "source": [
        "text = 'Привет, мир!'\n",
        "print(text.find(' '))\n",
        "print(text.title())\n",
        "print(text.split())\n",
        "print(f'{text = :>25}')"
      ],
      "metadata": {
        "colab": {
          "base_uri": "https://localhost:8080/"
        },
        "id": "DO-mpoZgI8s_",
        "outputId": "fc56f110-343c-4c85-d660-d9f01ade35ed"
      },
      "execution_count": null,
      "outputs": [
        {
          "output_type": "stream",
          "name": "stdout",
          "text": [
            "7\n",
            "Привет, Мир!\n",
            "['Привет,', 'мир!']\n",
            "text =              Привет, мир!\n"
          ]
        }
      ]
    },
    {
      "cell_type": "markdown",
      "source": [
        "# **3. Кортеж, tuple**\n",
        "Кортежи — это неизменяемые последовательности, обычно используемые для\n",
        "хранения коллекций разнородных данных. Также используются в случаях, когда\n",
        "требуется неизменяемая последовательность однородных данных. Как и строку\n",
        "кортеж нельзя изменить после создания. При этом кортеж как и список является\n",
        "массивом указателей на объекты любого типа."
      ],
      "metadata": {
        "id": "751AeaE5JSb4"
      }
    },
    {
      "cell_type": "markdown",
      "source": [
        "# Способы создания кортежа\n",
        "Создать кортеж можно четырьмя способами."
      ],
      "metadata": {
        "id": "WCI379pSJXuW"
      }
    },
    {
      "cell_type": "code",
      "source": [
        "a = ()\n",
        "b1 = 1,\n",
        "b2 = (1,)\n",
        "c1 = 1, 2, 3,\n",
        "c2 = (1, 2, 3)\n",
        "d = tuple(range(3))\n",
        "print(a, b1, b2, c1, c2, d, sep='\\n')"
      ],
      "metadata": {
        "colab": {
          "base_uri": "https://localhost:8080/"
        },
        "id": "5iSQ9bOQJbJh",
        "outputId": "430f1aaf-6d9b-44a7-f470-750ad2d6605c"
      },
      "execution_count": null,
      "outputs": [
        {
          "output_type": "stream",
          "name": "stdout",
          "text": [
            "()\n",
            "(1,)\n",
            "(1,)\n",
            "(1, 2, 3)\n",
            "(1, 2, 3)\n",
            "(0, 1, 2)\n"
          ]
        }
      ]
    },
    {
      "cell_type": "markdown",
      "source": [
        "1. Пара круглых скобок создаёт пустой кортеж\n",
        "2. Один элемент с замыкающей запятой в скобках или без них создаёт кортеж с\n",
        "элементом\n",
        "3. Несколько элементов разделенных запятыми с замыкающей запятой или в\n",
        "круглых скобках\n",
        "4. Функция tuple(), которой передаётся любой итерируемый объект\n",
        "\n",
        "🔥 Важно! Обратите внимание, что на самом деле кортеж образует запятая,\n",
        "а не круглые скобки. Круглые скобки необязательны, за исключением случая пустого кортежа или когда они необходимы, чтобы избежать синтаксической\n",
        "неоднозначности. Например, f(a, b, c) — это вызов функции с тремя\n",
        "аргументами. f((a, b, c)) — вызов функции с кортежем в качестве\n",
        "единственного аргумента."
      ],
      "metadata": {
        "id": "GSiR0hC_Jhl4"
      }
    },
    {
      "cell_type": "markdown",
      "source": [
        "# Кортежи реализуют все общие операции последовательностей\n",
        "● Обращение к элементу по индексу\n",
        "\n",
        "● Срезы\n",
        "\n",
        "● Методы, которые работают с последовательностью, но не меняют её: count,\n",
        "index, а также функция len()\n",
        "# Задание\n",
        "Убедимся, что вы сможете провести параллель между кортежами и списками,\n",
        "строками. Перед вами кортеж и несколько строк кода. Напишите, что вернёт\n",
        "каждая из них. Попробуйте справится с заданием без запуска кода. У вас 3 минуты."
      ],
      "metadata": {
        "id": "3gLKKJN8Jrpt"
      }
    },
    {
      "cell_type": "code",
      "source": [
        "my_tuple = (2, 4, 6, 2, 8, 10, 12, 14, 16, 18)\n",
        "print(my_tuple[2:6:2])\n",
        "print(my_tuple[-3])\n",
        "print(my_tuple.count(2))\n",
        "print(f'{my_tuple = }')\n",
        "print(my_tuple.index(2, 2))\n",
        "print(type('text',))\n"
      ],
      "metadata": {
        "colab": {
          "base_uri": "https://localhost:8080/"
        },
        "id": "3SbRfdVSJ0PG",
        "outputId": "25741327-7708-4a03-f5f0-bf5d3bd0aa8a"
      },
      "execution_count": null,
      "outputs": [
        {
          "output_type": "stream",
          "name": "stdout",
          "text": [
            "(6, 8)\n",
            "14\n",
            "2\n",
            "my_tuple = (2, 4, 6, 2, 8, 10, 12, 14, 16, 18)\n",
            "3\n",
            "<class 'str'>\n"
          ]
        }
      ]
    },
    {
      "cell_type": "markdown",
      "source": [
        "# **4. Словарь, dict**\n",
        "В Python есть изменяемый тип данных словарь. В других языках аналогичная\n",
        "структура данных может называться отображение, mapping, именованный массив,\n",
        "ассоциативный массив, сопоставление и т.п. Словарь представляет набор пар\n",
        "ключ-значение. Ключ — любой неизменяемый тип данных. Значение - любой тип\n",
        "данных. Обращаясь к ключу словаря получают доступ к значению.\n",
        "\n",
        "🔥 Важно! Ключ выступает источником для вычисления хеша. Полученный\n",
        "хеш играет роль числового индекса и указывает на ячейку со значением. В\n",
        "Python вычисление хеша возможно лишь у неизменяемых типов данных.\n",
        "Следовательно, ключ словаря обязан быть неизменяемым объектом. Обычно\n",
        "это строка, целое число (вещественные лучше не использовать, вы же помните\n",
        "о точности округления), либо кортеж или неизменяемое множество.\n",
        "# Способы создания словаря\n",
        "Для создания словаря есть несколько способов. Например:\n",
        "\n",
        "● передать набор пар ключ-значение в фигурных скобках,\n",
        "\n",
        "● использовать знак равенства между ключом и значением,\n",
        "\n",
        "● передать любую последовательность, каждый элемент который пара ключ и\n",
        "значение"
      ],
      "metadata": {
        "id": "M7PJlSAUKBx5"
      }
    },
    {
      "cell_type": "code",
      "source": [
        "a = {'one': 42, 'two': 3.14, 'ten': 'Hello world!'}\n",
        "b = dict(one=42, two=3.14, ten='Hello world!')\n",
        "c = dict([('one', 42), ('two', 3.14), ('ten', 'Hello world!')])\n",
        "print(a == b == c)"
      ],
      "metadata": {
        "colab": {
          "base_uri": "https://localhost:8080/"
        },
        "id": "u67iQN-HKNbl",
        "outputId": "3986e0f8-62ea-42e9-86ff-c95eca9a0b16"
      },
      "execution_count": null,
      "outputs": [
        {
          "output_type": "stream",
          "name": "stdout",
          "text": [
            "True\n"
          ]
        }
      ]
    },
    {
      "cell_type": "markdown",
      "source": [
        "Все три способа создают одинаковые словари.\n",
        "\n",
        "🔥 Важно! Вариант b не допускает использования зарезервированных слов.\n",
        "При этом ключи указываются без кавычек, но в словаре становятся ключами\n",
        "типа str."
      ],
      "metadata": {
        "id": "afUIGbcAKQz2"
      }
    },
    {
      "cell_type": "markdown",
      "source": [
        "# Добавление нового ключа\n",
        "Для добавления в существующий словарь новой пары ключ-значение можно\n",
        "использовать обычную операцию присваивания."
      ],
      "metadata": {
        "id": "QSco7knMKWG8"
      }
    },
    {
      "cell_type": "code",
      "source": [
        "my_dict = {'one': 1, 'two': 2, 'three': 3, 'four': 4}\n",
        "my_dict['ten'] = 10\n",
        "print(my_dict)\n"
      ],
      "metadata": {
        "colab": {
          "base_uri": "https://localhost:8080/"
        },
        "id": "-JphWXstKZPC",
        "outputId": "91866e22-f873-407e-9918-8c45bc26825f"
      },
      "execution_count": null,
      "outputs": [
        {
          "output_type": "stream",
          "name": "stdout",
          "text": [
            "{'one': 1, 'two': 2, 'three': 3, 'four': 4, 'ten': 10}\n"
          ]
        }
      ]
    },
    {
      "cell_type": "markdown",
      "source": [
        "# Доступ к значению словаря\n",
        "# Доступ через квадратные скобки []\n",
        "Для получения доступа к значению необходимо указать ключ в квадратных скобках\n",
        "после или переменной."
      ],
      "metadata": {
        "id": "WoFOixVvKb-n"
      }
    },
    {
      "cell_type": "code",
      "source": [
        "TEN = 'ten'\n",
        "my_dict = {'one': 1, 'two': 2, 'three': 3, 'four': 4, 'ten': 10}\n",
        "print(my_dict['two'])\n",
        "print(my_dict[TEN])\n",
        "print(my_dict[1]) # KeyError: 1"
      ],
      "metadata": {
        "colab": {
          "base_uri": "https://localhost:8080/",
          "height": 245
        },
        "id": "jl3OKNoDKhZK",
        "outputId": "d13e00a3-f72f-4861-d0ad-b02856b671ed"
      },
      "execution_count": null,
      "outputs": [
        {
          "output_type": "stream",
          "name": "stdout",
          "text": [
            "2\n",
            "10\n"
          ]
        },
        {
          "output_type": "error",
          "ename": "KeyError",
          "evalue": "ignored",
          "traceback": [
            "\u001b[0;31m---------------------------------------------------------------------------\u001b[0m",
            "\u001b[0;31mKeyError\u001b[0m                                  Traceback (most recent call last)",
            "\u001b[0;32m<ipython-input-103-33dc1d04334c>\u001b[0m in \u001b[0;36m<cell line: 5>\u001b[0;34m()\u001b[0m\n\u001b[1;32m      3\u001b[0m \u001b[0mprint\u001b[0m\u001b[0;34m(\u001b[0m\u001b[0mmy_dict\u001b[0m\u001b[0;34m[\u001b[0m\u001b[0;34m'two'\u001b[0m\u001b[0;34m]\u001b[0m\u001b[0;34m)\u001b[0m\u001b[0;34m\u001b[0m\u001b[0;34m\u001b[0m\u001b[0m\n\u001b[1;32m      4\u001b[0m \u001b[0mprint\u001b[0m\u001b[0;34m(\u001b[0m\u001b[0mmy_dict\u001b[0m\u001b[0;34m[\u001b[0m\u001b[0mTEN\u001b[0m\u001b[0;34m]\u001b[0m\u001b[0;34m)\u001b[0m\u001b[0;34m\u001b[0m\u001b[0;34m\u001b[0m\u001b[0m\n\u001b[0;32m----> 5\u001b[0;31m \u001b[0mprint\u001b[0m\u001b[0;34m(\u001b[0m\u001b[0mmy_dict\u001b[0m\u001b[0;34m[\u001b[0m\u001b[0;36m1\u001b[0m\u001b[0;34m]\u001b[0m\u001b[0;34m)\u001b[0m \u001b[0;31m# KeyError: 1\u001b[0m\u001b[0;34m\u001b[0m\u001b[0;34m\u001b[0m\u001b[0m\n\u001b[0m",
            "\u001b[0;31mKeyError\u001b[0m: 1"
          ]
        }
      ]
    },
    {
      "cell_type": "markdown",
      "source": [
        "Ключ может быть указан явно или передам как содержимое переменной,\n",
        "константы. При попытке обратиться к несуществующему ключу получаем ошибку:\n",
        "KeyError.\n",
        "Доступ к ключу позволяет изменять значения. Для этого используем операцию\n",
        "присваивания как и в случае с добавлением новой пары ключ-значение.\n",
        "\n",
        "🔥 Важно! Получить доступ к ключу по значению невозможно."
      ],
      "metadata": {
        "id": "Sd43vh3TK80q"
      }
    },
    {
      "cell_type": "markdown",
      "source": [
        "# Доступ через метод get\n",
        "Если ли мы хотим гарантировать отсутствие ошибки KeyError при обращении к\n",
        "элементу словаря, можно обратиться к значению через метод get, а не квадратные\n",
        "скобки."
      ],
      "metadata": {
        "id": "pTwrlN8DK_0k"
      }
    },
    {
      "cell_type": "code",
      "source": [
        "my_dict = {'one': 1, 'two': 2, 'three': 3, 'four': 4, 'ten': 10}\n",
        "print(my_dict.get('two'))\n",
        "print(my_dict.get('five'))\n",
        "print(my_dict.get('five', 5))\n",
        "print(my_dict.get('ten', 5))"
      ],
      "metadata": {
        "colab": {
          "base_uri": "https://localhost:8080/"
        },
        "id": "t62ikkd8LCVO",
        "outputId": "e17ff547-d8f9-4b41-eb9b-54850c31c34b"
      },
      "execution_count": null,
      "outputs": [
        {
          "output_type": "stream",
          "name": "stdout",
          "text": [
            "2\n",
            "None\n",
            "5\n",
            "10\n"
          ]
        }
      ]
    },
    {
      "cell_type": "markdown",
      "source": [
        "При обращении к существующему ключу метод get работает аналогично доступу к\n",
        "через квадратные скобки. Если обратиться к несуществующему ключу, get\n",
        "возвращает None. Метод get принимает второй аргумент, значение по умолчанию.\n",
        "Если ключ отсутствует в словаре, вместо None будет возвращено указанное\n",
        "значение.\n",
        "# Часто используемые методы словарей\n",
        "Разберем некоторые методы работы со словарями."
      ],
      "metadata": {
        "id": "7IBfWxRRLFR3"
      }
    },
    {
      "cell_type": "markdown",
      "source": [
        "# Метод setdefault\n",
        "Метод setdefault похож не get, но отсутствующий ключ добавляется в словарь.\n"
      ],
      "metadata": {
        "id": "EPZQjIoGLMqD"
      }
    },
    {
      "cell_type": "code",
      "source": [
        "my_dict = {'one': 1, 'two': 2, 'three': 3, 'four': 4, 'ten': 10}\n",
        "spam = my_dict.setdefault('five')\n",
        "print(f'{spam = }\\t{my_dict=}')\n",
        "eggs = my_dict.setdefault('six', 6)\n",
        "print(f'{eggs = }\\t{my_dict=}')\n",
        "new_spam = my_dict.setdefault('two')\n",
        "print(f'{new_spam=}\\t{my_dict=}')\n",
        "new_eggs = my_dict.setdefault('one', 1_000)\n",
        "print(f'{new_eggs=}\\t{my_dict=}')"
      ],
      "metadata": {
        "colab": {
          "base_uri": "https://localhost:8080/"
        },
        "id": "um4ATPJlLQEz",
        "outputId": "e6e8daa2-8fee-4c11-bf24-60f6eae886b9"
      },
      "execution_count": null,
      "outputs": [
        {
          "output_type": "stream",
          "name": "stdout",
          "text": [
            "spam = None\tmy_dict={'one': 1, 'two': 2, 'three': 3, 'four': 4, 'ten': 10, 'five': None}\n",
            "eggs = 6\tmy_dict={'one': 1, 'two': 2, 'three': 3, 'four': 4, 'ten': 10, 'five': None, 'six': 6}\n",
            "new_spam=2\tmy_dict={'one': 1, 'two': 2, 'three': 3, 'four': 4, 'ten': 10, 'five': None, 'six': 6}\n",
            "new_eggs=1\tmy_dict={'one': 1, 'two': 2, 'three': 3, 'four': 4, 'ten': 10, 'five': None, 'six': 6}\n"
          ]
        }
      ]
    },
    {
      "cell_type": "markdown",
      "source": [
        "При вызове метода с одним аргументом отсутствующий ключ добавляется в\n",
        "словарь. В качестве значения передаётся None. Если указать два аргумента и ключ\n",
        "отсутствует, второй аргумент становится значением ключа и также добавляется в\n",
        "словарь. При обращении к существующему ключу, словарь не изменяется\n",
        "независимо от того указанные один или два аргумента."
      ],
      "metadata": {
        "id": "YIuEfNHtLS6m"
      }
    },
    {
      "cell_type": "markdown",
      "source": [
        "# Метод keys\n",
        "Метод keys возвращает объект-итератор dict_keys."
      ],
      "metadata": {
        "id": "KbeayO7mLUvB"
      }
    },
    {
      "cell_type": "code",
      "source": [
        "my_dict = {'one': 1, 'two': 2, 'three': 3, 'four': 4, 'ten': 10}\n",
        "print(my_dict.keys())\n",
        "for key in my_dict.keys():\n",
        "  print(key)\n"
      ],
      "metadata": {
        "colab": {
          "base_uri": "https://localhost:8080/"
        },
        "id": "OZNYWv6XLXwx",
        "outputId": "f6cacc76-2aad-4624-873e-518c116cf1c9"
      },
      "execution_count": null,
      "outputs": [
        {
          "output_type": "stream",
          "name": "stdout",
          "text": [
            "dict_keys(['one', 'two', 'three', 'four', 'ten'])\n",
            "one\n",
            "two\n",
            "three\n",
            "four\n",
            "ten\n"
          ]
        }
      ]
    },
    {
      "cell_type": "markdown",
      "source": [
        "Обычно объект не используют напрямую. Метод keys применяется в связке с\n",
        "циклом for для перебора ключей словаря.\n",
        "\n",
        "🔥 Важно! Запись цикла for key in my_dict: отработает аналогично. По\n",
        "умолчанию словарь возвращает ключи для итерации в цикле.\n",
        "\n",
        "💡 Внимание! В отличии от списков, кортежей и строк доступ к\n",
        "элементу-значению осуществляется не по индексу, а по ключу. При этом\n",
        "начиная с версии Python 3.7 словарь сохраняет порядок добавления\n",
        "ключей. В каком порядке ключи были добавлены, в том порядке они\n",
        "будут возвращены в случае итерации по словарю."
      ],
      "metadata": {
        "id": "agh8rFpJLce0"
      }
    },
    {
      "cell_type": "markdown",
      "source": [
        "# Метод values\n",
        "Метод values похож на keys, но возвращает значения в виде объекта итератора\n",
        "dict_values, а не ключи."
      ],
      "metadata": {
        "id": "EXxUGlFWLfyd"
      }
    },
    {
      "cell_type": "code",
      "source": [
        "my_dict = {'one': 1, 'two': 2, 'three': 3, 'four': 4, 'ten': 10}\n",
        "print(my_dict.values())\n",
        "for value in my_dict.values():\n",
        "  print(value)"
      ],
      "metadata": {
        "colab": {
          "base_uri": "https://localhost:8080/"
        },
        "id": "iZvSFhjyLiqW",
        "outputId": "a63df5d0-97e2-482d-d5a9-1f3c02931659"
      },
      "execution_count": null,
      "outputs": [
        {
          "output_type": "stream",
          "name": "stdout",
          "text": [
            "dict_values([1, 2, 3, 4, 10])\n",
            "1\n",
            "2\n",
            "3\n",
            "4\n",
            "10\n"
          ]
        }
      ]
    },
    {
      "cell_type": "markdown",
      "source": [
        "# Метод items\n",
        "Если в цикле необходимо работать одновременно с ключами и значениями, как с\n",
        "парами, используют метод items."
      ],
      "metadata": {
        "id": "oWXCIrhWLvi5"
      }
    },
    {
      "cell_type": "code",
      "source": [
        "my_dict = {'one': 1, 'two': 2, 'three': 3, 'four': 4, 'ten': 10}\n",
        "print(my_dict.items())\n",
        "for tuple_data in my_dict.items():\n",
        "  print(tuple_data)\n",
        "for key, value in my_dict.items():\n",
        "  print(f'{key = } value before 100 - {100 - value}')"
      ],
      "metadata": {
        "colab": {
          "base_uri": "https://localhost:8080/"
        },
        "id": "LLYXBmjFLx3Z",
        "outputId": "1bf05523-f088-42ed-b73d-f526ced8fa3a"
      },
      "execution_count": null,
      "outputs": [
        {
          "output_type": "stream",
          "name": "stdout",
          "text": [
            "dict_items([('one', 1), ('two', 2), ('three', 3), ('four', 4), ('ten', 10)])\n",
            "('one', 1)\n",
            "('two', 2)\n",
            "('three', 3)\n",
            "('four', 4)\n",
            "('ten', 10)\n",
            "key = 'one' value before 100 - 99\n",
            "key = 'two' value before 100 - 98\n",
            "key = 'three' value before 100 - 97\n",
            "key = 'four' value before 100 - 96\n",
            "key = 'ten' value before 100 - 90\n"
          ]
        }
      ]
    },
    {
      "cell_type": "markdown",
      "source": [
        "Метод возвращает объект итератор dict_items. Если создать цикл for с одной\n",
        "переменной между for и in, получим кортеж из пар элементов — ключа и значения.\n",
        "Обычной используют две переменные в цикле: первая принимает ключ, а вторая\n",
        "значение. Такой подход облегчает чтение кода и позволяют использовать ключ и\n",
        "значение по-отдельности.\n"
      ],
      "metadata": {
        "id": "RtmfqKKKMCVh"
      }
    },
    {
      "cell_type": "markdown",
      "source": [
        "# Метод popitem\n",
        "Для удаления пары ключ значение из словаря используют метод popitem."
      ],
      "metadata": {
        "id": "6gnO_cQFMEyi"
      }
    },
    {
      "cell_type": "code",
      "source": [
        "my_dict = {'one': 1, 'two': 2, 'three': 3, 'four': 4, 'ten': 10}\n",
        "spam = my_dict.popitem()\n",
        "print(f'{spam = }\\t{my_dict=}')\n",
        "eggs = my_dict.popitem()\n",
        "print(f'{eggs = }\\t{my_dict=}')"
      ],
      "metadata": {
        "colab": {
          "base_uri": "https://localhost:8080/"
        },
        "id": "TrUaNSBOMJqp",
        "outputId": "35f66ee9-10e3-46b0-a5e0-f33d207300ca"
      },
      "execution_count": null,
      "outputs": [
        {
          "output_type": "stream",
          "name": "stdout",
          "text": [
            "spam = ('ten', 10)\tmy_dict={'one': 1, 'two': 2, 'three': 3, 'four': 4}\n",
            "eggs = ('four', 4)\tmy_dict={'one': 1, 'two': 2, 'three': 3}\n"
          ]
        }
      ]
    },
    {
      "cell_type": "markdown",
      "source": [
        "Так как словари сохраняют порядок добавления ключей, удаление происходит\n",
        "справа налево, по методу LIFO. Элементы удаляются в обратном добавлению\n",
        "порядке.\n",
        "\n",
        "🔥 Важно! Если измените значение у существующего ключа, положение\n",
        "ключа в очереди не меняется, он не считается последним добавленным."
      ],
      "metadata": {
        "id": "TY8mcvQnMNw1"
      }
    },
    {
      "cell_type": "markdown",
      "source": [
        "# Метод pop\n",
        "Метод pop удаляет пару ключ-значение по переданному ключу."
      ],
      "metadata": {
        "id": "3mA_RRSzMRh3"
      }
    },
    {
      "cell_type": "code",
      "source": [
        "my_dict = {'one': 1, 'two': 2, 'three': 3, 'four': 4, 'ten': 10}\n",
        "spam = my_dict.pop('two')\n",
        "print(f'{spam = }\\t{my_dict=}')\n",
        "err = my_dict.pop('six') # KeyError: 'six'\n",
        "err = my_dict.pop() # TypeError: pop expected at least 1\n",
        "argument, got 0"
      ],
      "metadata": {
        "colab": {
          "base_uri": "https://localhost:8080/",
          "height": 141
        },
        "id": "gFrRpiEqMVPH",
        "outputId": "c8989d83-9d90-4adf-f679-22229acceb1f"
      },
      "execution_count": null,
      "outputs": [
        {
          "output_type": "error",
          "ename": "SyntaxError",
          "evalue": "ignored",
          "traceback": [
            "\u001b[0;36m  File \u001b[0;32m\"<ipython-input-113-ff420d8b011e>\"\u001b[0;36m, line \u001b[0;32m6\u001b[0m\n\u001b[0;31m    argument, got 0\u001b[0m\n\u001b[0m                  ^\u001b[0m\n\u001b[0;31mSyntaxError\u001b[0m\u001b[0;31m:\u001b[0m invalid syntax\n"
          ]
        }
      ]
    },
    {
      "cell_type": "markdown",
      "source": [
        "Если указать несуществующий ключ, получим ошибку KeyError. В отличии от метода\n",
        "pop у списков list, dict.pop вызовет ошибку TypeError. Для удаление последнего\n",
        "элемента нужен метод popitem."
      ],
      "metadata": {
        "id": "NrQqzExvMZb9"
      }
    },
    {
      "cell_type": "markdown",
      "source": [
        "# Метод update\n",
        "Для расширение словаря новыми значениями используют метод update.\n"
      ],
      "metadata": {
        "id": "Alz-8w7LMctA"
      }
    },
    {
      "cell_type": "code",
      "source": [
        "my_dict = {'one': 1, 'two': 2, 'three': 3, 'four': 4, 'ten': 10}\n",
        "my_dict.update(dict(six=6))\n",
        "print(my_dict)\n",
        "my_dict.update(dict([('five', 5), ('two', 42)]))\n",
        "print(my_dict)\n"
      ],
      "metadata": {
        "colab": {
          "base_uri": "https://localhost:8080/"
        },
        "id": "VZJ_SbiwMgns",
        "outputId": "03c7ca01-43be-4033-a9d0-b5c162febf5d"
      },
      "execution_count": null,
      "outputs": [
        {
          "output_type": "stream",
          "name": "stdout",
          "text": [
            "{'one': 1, 'two': 2, 'three': 3, 'four': 4, 'ten': 10, 'six': 6}\n",
            "{'one': 1, 'two': 42, 'three': 3, 'four': 4, 'ten': 10, 'six': 6, 'five': 5}\n"
          ]
        }
      ]
    },
    {
      "cell_type": "markdown",
      "source": [
        "На вход метод получает другой словарь в любой из вариаций создания словаря.\n",
        "Если передать существующий ключ, значение будет заменено новым.\n",
        "Ещё один способ создать словари из нескольких других, который появился в новой\n",
        "версии Python — вертикальная черта."
      ],
      "metadata": {
        "id": "llcWUmGBMkRD"
      }
    },
    {
      "cell_type": "code",
      "source": [
        "my_dict = {'one': 1, 'two': 2, 'three': 3, 'four': 4, 'ten': 10}\n",
        "new_dict = my_dict | {'five': 5, 'two': 42} | dict(six=6)\n",
        "print(new_dict)"
      ],
      "metadata": {
        "colab": {
          "base_uri": "https://localhost:8080/"
        },
        "id": "tvcKs1pyMmo8",
        "outputId": "2bbc6cc9-312e-4bb7-bc15-80819e4d2107"
      },
      "execution_count": null,
      "outputs": [
        {
          "output_type": "stream",
          "name": "stdout",
          "text": [
            "{'one': 1, 'two': 42, 'three': 3, 'four': 4, 'ten': 10, 'five': 5, 'six': 6}\n"
          ]
        }
      ]
    },
    {
      "cell_type": "markdown",
      "source": [
        "При перезаписи совпадающих ключей приоритет отдаётся словарю,\n",
        "расположенному правее.\n",
        "# Задание\n",
        "Перед вами словарь и несколько строк кода. Напишите что вернёт каждая из строк.\n",
        "Попробуйте справится с заданием без запуска кода. У вас 3 минуты.\n"
      ],
      "metadata": {
        "id": "v4tkFYFwMphQ"
      }
    },
    {
      "cell_type": "code",
      "source": [
        "my_dict = {'one': 1, 'two': 2, 'three': 3, 'four': 4, 'ten': 10}\n",
        "print(my_dict.setdefault('ten', 555))\n",
        "print(my_dict.values())\n",
        "print(my_dict.pop('one'))\n",
        "my_dict['one'] = my_dict['four']\n",
        "print(my_dict)"
      ],
      "metadata": {
        "colab": {
          "base_uri": "https://localhost:8080/"
        },
        "id": "WpXjA4PAMtQ7",
        "outputId": "8281a545-a697-417d-ce25-8d8bd5be9bde"
      },
      "execution_count": null,
      "outputs": [
        {
          "output_type": "stream",
          "name": "stdout",
          "text": [
            "10\n",
            "dict_values([1, 2, 3, 4, 10])\n",
            "1\n",
            "{'two': 2, 'three': 3, 'four': 4, 'ten': 10, 'one': 4}\n"
          ]
        }
      ]
    },
    {
      "cell_type": "markdown",
      "source": [
        "# **5. Множества set и frozenset**\n",
        "Ещё одна коллекция из коробки — множества. Множество — набор уникальных\n",
        "неиндексированных элементов. В Python есть два вида множеств: set —\n",
        "изменяемое множество, frozenset — неизменяемое множество. Неизменяемое\n",
        "множество позволяет вычислять хеш и может использоваться там, где разрешён\n",
        "лишь хешированный тип данных, например в качестве ключа словаря."
      ],
      "metadata": {
        "id": "AEr-Hx74MwgM"
      }
    },
    {
      "cell_type": "code",
      "source": [
        "my_set = {1, 2, 3, 4, 2, 5, 6, 7}\n",
        "print(my_set)\n",
        "my_f_set = frozenset((1, 2, 3, 4, 2, 5, 6, 7,))\n",
        "print(my_f_set)\n",
        "not_set = {1, 2, 3, 4, 2, 5, 6, 7, ['a', 'b']} # TypeError: unhashable type: 'list"
      ],
      "metadata": {
        "id": "I-Oh3PazM0dE"
      },
      "execution_count": null,
      "outputs": []
    },
    {
      "cell_type": "markdown",
      "source": [
        "Обратите внимание, что двойка передавалась в множества дважды, но хранится в\n",
        "единственном экземпляре, как один из уникальных элементов\n",
        "\n",
        "🔥 Важно! Элементом множества могут быть только неизменяемые типы\n",
        "данных.\n",
        "# Методы множеств\n",
        "Рассмотрим некоторые методы множеств на примере изменяемого множества set.\n",
        "Все методы, которые не изменяют оригинал, работают аналогично и для множества\n",
        "frozenset."
      ],
      "metadata": {
        "id": "PdHDZgd_M3gT"
      }
    },
    {
      "cell_type": "markdown",
      "source": [
        "# Метод add\n",
        "Метод add работает аналогично методу списка append, т.е. добавляет один элемент\n",
        "в коллекцию."
      ],
      "metadata": {
        "id": "KYadcQ1VM9BK"
      }
    },
    {
      "cell_type": "code",
      "source": [
        "my_set = {3, 4, 2, 5, 6, 1, 7}\n",
        "my_set.add(9)\n",
        "print(my_set)\n",
        "my_set.add(7)\n",
        "print(my_set)\n",
        "my_set.add(9, 10) # TypeError: set.add() takes exactly one\n",
        "argument (2 given)\n",
        "my_set.add((9, 10))\n",
        "print(my_set)"
      ],
      "metadata": {
        "colab": {
          "base_uri": "https://localhost:8080/",
          "height": 141
        },
        "id": "jwoWAGZ4NBGL",
        "outputId": "e1d282cc-b29f-4f7c-aecd-08765677e58f"
      },
      "execution_count": null,
      "outputs": [
        {
          "output_type": "error",
          "ename": "SyntaxError",
          "evalue": "ignored",
          "traceback": [
            "\u001b[0;36m  File \u001b[0;32m\"<ipython-input-117-69d63d244212>\"\u001b[0;36m, line \u001b[0;32m7\u001b[0m\n\u001b[0;31m    argument (2 given)\u001b[0m\n\u001b[0m              ^\u001b[0m\n\u001b[0;31mSyntaxError\u001b[0m\u001b[0;31m:\u001b[0m invalid syntax. Perhaps you forgot a comma?\n"
          ]
        }
      ]
    },
    {
      "cell_type": "markdown",
      "source": [
        "Если попытаться добавить уже существующий элемент, множество не изменится.\n",
        "При попытке добавить несколько элементов получим ошибку TypeError.\n",
        "\n",
        "🔥 Внимание! Если передать в метод add неизменяемую коллекцию,\n",
        "например кортеж, коллекция будет добавлена как один целостный объект."
      ],
      "metadata": {
        "id": "ueJrJ5QTNHME"
      }
    },
    {
      "cell_type": "markdown",
      "source": [
        "# Метод remove\n",
        "Для удаления элемента множества используют метод remove."
      ],
      "metadata": {
        "id": "Me5ZBgZgNLXs"
      }
    },
    {
      "cell_type": "code",
      "source": [
        "my_set = {3, 4, 2, 5, 6, 1, 7}\n",
        "my_set.remove(5)\n",
        "print(my_set)\n",
        "my_set.remove(10) # KeyError: 10"
      ],
      "metadata": {
        "id": "LTPYlvzvNO4A"
      },
      "execution_count": null,
      "outputs": []
    },
    {
      "cell_type": "markdown",
      "source": [
        "При передаче несуществующего объекта получим ошибку KeyError.\n",
        "# Метод discard\n",
        "Метод discard работает аналогично remove — удаляет один элемент множества."
      ],
      "metadata": {
        "id": "4uuY3mDYNRtP"
      }
    },
    {
      "cell_type": "code",
      "source": [
        "my_set = {3, 4, 2, 5, 6, 1, 7}\n",
        "my_set.discard(5)\n",
        "print(my_set)\n",
        "my_set.discard(10)\n"
      ],
      "metadata": {
        "colab": {
          "base_uri": "https://localhost:8080/"
        },
        "id": "TJ6Fpxz0NVxc",
        "outputId": "17fce7c4-eea2-4e99-d565-a249d0f019c2"
      },
      "execution_count": null,
      "outputs": [
        {
          "output_type": "stream",
          "name": "stdout",
          "text": [
            "{1, 2, 3, 4, 6, 7}\n"
          ]
        }
      ]
    },
    {
      "cell_type": "markdown",
      "source": [
        "В отличии от remove при попытке удалить несуществующий элемент discard не\n",
        "вызывает ошибку. При этом множество не изменяется.\n",
        "\n",
        "# Метод intersection\n",
        "Для получения пересечения множеств, т.е. множества с элементами, которые есть и\n",
        "в левом и в правам множестве используют метод intersection"
      ],
      "metadata": {
        "id": "GbjteKxWNYy2"
      }
    },
    {
      "cell_type": "code",
      "source": [
        "my_set = {3, 4, 2, 5, 6, 1, 7}\n",
        "other_set = {1, 4, 42, 314}\n",
        "new_set = my_set.intersection(other_set)\n",
        "print(f'{my_set = }\\n{other_set = }\\n{new_set = }')"
      ],
      "metadata": {
        "colab": {
          "base_uri": "https://localhost:8080/"
        },
        "id": "IpRzOQDDNcjf",
        "outputId": "935aa1f9-1f8c-4e7f-d597-bf8d8af91278"
      },
      "execution_count": null,
      "outputs": [
        {
          "output_type": "stream",
          "name": "stdout",
          "text": [
            "my_set = {1, 2, 3, 4, 5, 6, 7}\n",
            "other_set = {1, 42, 4, 314}\n",
            "new_set = {1, 4}\n"
          ]
        }
      ]
    },
    {
      "cell_type": "markdown",
      "source": [
        "Новая версия Python позволяет получить пересечение множеств в следующей\n",
        "записи c использованием символа &"
      ],
      "metadata": {
        "id": "Z30xk4uXNgu5"
      }
    },
    {
      "cell_type": "code",
      "source": [
        "my_set = {3, 4, 2, 5, 6, 1, 7}\n",
        "other_set = {1, 4, 42, 314}\n",
        "new_set = my_set & other_set\n",
        "print(f'{my_set = }\\n{other_set = }\\n{new_set = }')"
      ],
      "metadata": {
        "colab": {
          "base_uri": "https://localhost:8080/"
        },
        "id": "mLVttcxMNjjj",
        "outputId": "872b42a8-36f7-47ba-ed64-c5c0b6bba6c9"
      },
      "execution_count": null,
      "outputs": [
        {
          "output_type": "stream",
          "name": "stdout",
          "text": [
            "my_set = {1, 2, 3, 4, 5, 6, 7}\n",
            "other_set = {1, 42, 4, 314}\n",
            "new_set = {1, 4}\n"
          ]
        }
      ]
    },
    {
      "cell_type": "markdown",
      "source": [
        "Внимание! Исходные множества при пересечении не изменяются."
      ],
      "metadata": {
        "id": "me82L8MNNmZL"
      }
    },
    {
      "cell_type": "markdown",
      "source": [
        "# Метод union\n",
        "Для объединения множеств используется метод union."
      ],
      "metadata": {
        "id": "VEpHwckaNp_A"
      }
    },
    {
      "cell_type": "code",
      "source": [
        "my_set = {3, 4, 2, 5, 6, 1, 7}\n",
        "other_set = {1, 4, 42, 314}\n",
        "new_set = my_set.union(other_set)\n",
        "print(f'{my_set = }\\n{other_set = }\\n{new_set = }')\n",
        "new_set_2 = my_set | other_set\n",
        "print(f'{my_set = }\\n{other_set = }\\n{new_set_2 = }')"
      ],
      "metadata": {
        "colab": {
          "base_uri": "https://localhost:8080/"
        },
        "id": "Zn3UEQAZNs67",
        "outputId": "54349cee-ee63-4537-f4be-b80a363e5aa3"
      },
      "execution_count": null,
      "outputs": [
        {
          "output_type": "stream",
          "name": "stdout",
          "text": [
            "my_set = {1, 2, 3, 4, 5, 6, 7}\n",
            "other_set = {1, 42, 4, 314}\n",
            "new_set = {1, 2, 3, 4, 5, 6, 7, 42, 314}\n",
            "my_set = {1, 2, 3, 4, 5, 6, 7}\n",
            "other_set = {1, 42, 4, 314}\n",
            "new_set_2 = {1, 2, 3, 4, 5, 6, 7, 42, 314}\n"
          ]
        }
      ]
    },
    {
      "cell_type": "markdown",
      "source": [
        "На выходе получаем множество уникальных элементов из левого и правого\n",
        "множеств. Более короткая запись объединения возможна при помощи\n",
        "вертикальной черты."
      ],
      "metadata": {
        "id": "35dV_h2cNwZu"
      }
    },
    {
      "cell_type": "markdown",
      "source": [
        "# Метод difference\n",
        "Метод difference удаляет из левого множества элементы правого."
      ],
      "metadata": {
        "id": "8BK1eGCJNyjr"
      }
    },
    {
      "cell_type": "code",
      "source": [
        "my_set = {3, 4, 2, 5, 6, 1, 7}\n",
        "other_set = {1, 4, 42, 314}\n",
        "new_set = my_set.difference(other_set)\n",
        "print(f'{my_set = }\\n{other_set = }\\n{new_set = }')\n",
        "new_set_2 = my_set - other_set\n",
        "print(f'{my_set = }\\n{other_set = }\\n{new_set_2 = }')"
      ],
      "metadata": {
        "colab": {
          "base_uri": "https://localhost:8080/"
        },
        "id": "lM8cVTeIN1hS",
        "outputId": "068e9199-21e0-4b78-b8b1-5f12a8684c33"
      },
      "execution_count": null,
      "outputs": [
        {
          "output_type": "stream",
          "name": "stdout",
          "text": [
            "my_set = {1, 2, 3, 4, 5, 6, 7}\n",
            "other_set = {1, 42, 4, 314}\n",
            "new_set = {2, 3, 5, 6, 7}\n",
            "my_set = {1, 2, 3, 4, 5, 6, 7}\n",
            "other_set = {1, 42, 4, 314}\n",
            "new_set_2 = {2, 3, 5, 6, 7}\n"
          ]
        }
      ]
    },
    {
      "cell_type": "markdown",
      "source": [
        "На выходе получаем множество элементов встречающихся только в левом\n",
        "множестве. Более короткая запись возможно при помощи знака минус. Вычитаем\n",
        "из левого элементы правого.\n",
        "# Проверка на вхождение, in\n",
        "Для проверки входит ли элемент в множество используют зарезервированное\n",
        "слово in.\n"
      ],
      "metadata": {
        "id": "H-k2lvNAN5cq"
      }
    },
    {
      "cell_type": "code",
      "source": [
        "my_set = {3, 4, 2, 5, 6, 1, 7}\n",
        "print(42 in my_set)"
      ],
      "metadata": {
        "colab": {
          "base_uri": "https://localhost:8080/"
        },
        "id": "xa3rFy7ZN93P",
        "outputId": "5486b6d0-4b91-4ba2-9ade-026b84eac802"
      },
      "execution_count": null,
      "outputs": [
        {
          "output_type": "stream",
          "name": "stdout",
          "text": [
            "False\n"
          ]
        }
      ]
    },
    {
      "cell_type": "markdown",
      "source": [
        "Внимание! Слово in позволяет сделать проверку на вхождение и в других\n",
        "коллекциях. Входит ли объект в list, tuple, является ли подстрока частью строки\n",
        "str, встречается ли ключ в словаре. Для list, tuple, str проверка на вхождение\n",
        "работает за линейное время O(n). Для dict, set, frozenset проверка работает за\n",
        "константное время O(1).\n"
      ],
      "metadata": {
        "id": "n7pxYoEPOBUp"
      }
    },
    {
      "cell_type": "markdown",
      "source": [
        "# Задание\n",
        "Перед вами множество и несколько строк кода. Напишите что вернёт каждая из\n",
        "строк. Попробуйте справится с заданием без запуска кода. У вас 3 минуты."
      ],
      "metadata": {
        "id": "fF0obCmIOELE"
      }
    },
    {
      "cell_type": "code",
      "source": [
        "my_set = frozenset({3, 4, 1, 2, 5, 6, 1, 7, 2, 7})\n",
        "print(len(my_set))\n",
        "print(my_set - {1, 2, 3})\n",
        "print(my_set.union({2, 4, 6, 8}))\n",
        "print(my_set & {2, 4, 6, 8})\n",
        "print(my_set.discard(10))"
      ],
      "metadata": {
        "colab": {
          "base_uri": "https://localhost:8080/",
          "height": 280
        },
        "id": "CeDjcGnuOGuR",
        "outputId": "d9c47e8c-2fa0-4098-eab8-2feafe0c0ab0"
      },
      "execution_count": null,
      "outputs": [
        {
          "output_type": "stream",
          "name": "stdout",
          "text": [
            "7\n",
            "frozenset({4, 5, 6, 7})\n",
            "frozenset({1, 2, 3, 4, 5, 6, 7, 8})\n",
            "frozenset({2, 4, 6})\n"
          ]
        },
        {
          "output_type": "error",
          "ename": "AttributeError",
          "evalue": "ignored",
          "traceback": [
            "\u001b[0;31m---------------------------------------------------------------------------\u001b[0m",
            "\u001b[0;31mAttributeError\u001b[0m                            Traceback (most recent call last)",
            "\u001b[0;32m<ipython-input-124-2df6ef59feef>\u001b[0m in \u001b[0;36m<cell line: 6>\u001b[0;34m()\u001b[0m\n\u001b[1;32m      4\u001b[0m \u001b[0mprint\u001b[0m\u001b[0;34m(\u001b[0m\u001b[0mmy_set\u001b[0m\u001b[0;34m.\u001b[0m\u001b[0munion\u001b[0m\u001b[0;34m(\u001b[0m\u001b[0;34m{\u001b[0m\u001b[0;36m2\u001b[0m\u001b[0;34m,\u001b[0m \u001b[0;36m4\u001b[0m\u001b[0;34m,\u001b[0m \u001b[0;36m6\u001b[0m\u001b[0;34m,\u001b[0m \u001b[0;36m8\u001b[0m\u001b[0;34m}\u001b[0m\u001b[0;34m)\u001b[0m\u001b[0;34m)\u001b[0m\u001b[0;34m\u001b[0m\u001b[0;34m\u001b[0m\u001b[0m\n\u001b[1;32m      5\u001b[0m \u001b[0mprint\u001b[0m\u001b[0;34m(\u001b[0m\u001b[0mmy_set\u001b[0m \u001b[0;34m&\u001b[0m \u001b[0;34m{\u001b[0m\u001b[0;36m2\u001b[0m\u001b[0;34m,\u001b[0m \u001b[0;36m4\u001b[0m\u001b[0;34m,\u001b[0m \u001b[0;36m6\u001b[0m\u001b[0;34m,\u001b[0m \u001b[0;36m8\u001b[0m\u001b[0;34m}\u001b[0m\u001b[0;34m)\u001b[0m\u001b[0;34m\u001b[0m\u001b[0;34m\u001b[0m\u001b[0m\n\u001b[0;32m----> 6\u001b[0;31m \u001b[0mprint\u001b[0m\u001b[0;34m(\u001b[0m\u001b[0mmy_set\u001b[0m\u001b[0;34m.\u001b[0m\u001b[0mdiscard\u001b[0m\u001b[0;34m(\u001b[0m\u001b[0;36m10\u001b[0m\u001b[0;34m)\u001b[0m\u001b[0;34m)\u001b[0m\u001b[0;34m\u001b[0m\u001b[0;34m\u001b[0m\u001b[0m\n\u001b[0m",
            "\u001b[0;31mAttributeError\u001b[0m: 'frozenset' object has no attribute 'discard'"
          ]
        }
      ]
    },
    {
      "cell_type": "markdown",
      "source": [
        "# **6. Классы bytes и bytearray**\n",
        "Уделим несколько строк лекции неизменяемым байтам и их изменяемой версии —\n",
        "массиву байт. Для отправки информации по каналам связи объекты не подойдут.\n",
        "Даже текст не отправить. А вот пересылать байты — легко."
      ],
      "metadata": {
        "id": "Odf20itWOLan"
      }
    },
    {
      "cell_type": "code",
      "source": [
        "text_en = 'Hello world!'\n",
        "res = text_en.encode('utf-8')\n",
        "print(res, type(res))\n",
        "text_ru = 'Привет, мир!'\n",
        "res = text_ru.encode('utf-8')\n",
        "print(res, type(res))"
      ],
      "metadata": {
        "colab": {
          "base_uri": "https://localhost:8080/"
        },
        "id": "ESJSd4_FOOeI",
        "outputId": "0fb009ed-8767-4a08-f189-400ae235ce7c"
      },
      "execution_count": null,
      "outputs": [
        {
          "output_type": "stream",
          "name": "stdout",
          "text": [
            "b'Hello world!' <class 'bytes'>\n",
            "b'\\xd0\\x9f\\xd1\\x80\\xd0\\xb8\\xd0\\xb2\\xd0\\xb5\\xd1\\x82, \\xd0\\xbc\\xd0\\xb8\\xd1\\x80!' <class 'bytes'>\n"
          ]
        }
      ]
    },
    {
      "cell_type": "markdown",
      "source": [
        "Строковой метод encode получает в качестве аргумента указание кодировки. На\n",
        "выходе получаем строку байт. Функция print возвращает строковое представление\n",
        "байт, сами ячейки памяти с электронами невозможно увидеть невооруженным\n",
        "глазом."
      ],
      "metadata": {
        "id": "XhjsH8ZXOVoK"
      }
    },
    {
      "cell_type": "code",
      "source": [
        "b'Hello world!'\n",
        "b'\\xd0\\x9f\\xd1\\x80\\xd0\\xb8\\xd0\\xb2\\xd0\\xb5\\xd1\\x82,\\xd0\\xbc\\xd0\\xb8\\xd1\\x80!'"
      ],
      "metadata": {
        "colab": {
          "base_uri": "https://localhost:8080/"
        },
        "id": "twt0zYN7OX3J",
        "outputId": "d7b1ab06-e0da-4668-d915-18b922b118e7"
      },
      "execution_count": null,
      "outputs": [
        {
          "output_type": "execute_result",
          "data": {
            "text/plain": [
              "b'\\xd0\\x9f\\xd1\\x80\\xd0\\xb8\\xd0\\xb2\\xd0\\xb5\\xd1\\x82,\\xd0\\xbc\\xd0\\xb8\\xd1\\x80!'"
            ]
          },
          "metadata": {},
          "execution_count": 126
        }
      ]
    },
    {
      "cell_type": "code",
      "source": [
        "x = bytes(b'\\xd0\\x9f\\xd1\\x80\\xd0\\xb8')\n",
        "y = bytearray(b'\\xd0\\x9f\\xd1\\x80\\xd0\\xb8')\n",
        "print(f'{x = }\\n{y = }')"
      ],
      "metadata": {
        "colab": {
          "base_uri": "https://localhost:8080/"
        },
        "id": "KE435LmLOle5",
        "outputId": "e0633a68-42b2-4ebc-9ace-aec2df082447"
      },
      "execution_count": null,
      "outputs": [
        {
          "output_type": "stream",
          "name": "stdout",
          "text": [
            "x = b'\\xd0\\x9f\\xd1\\x80\\xd0\\xb8'\n",
            "y = bytearray(b'\\xd0\\x9f\\xd1\\x80\\xd0\\xb8')\n"
          ]
        }
      ]
    },
    {
      "cell_type": "code",
      "source": [
        "В качестве аргумента передаётся строковое представление нужным байт.\n",
        "Классы байт и массив байт обладают практически всеми методами строк. Кроме\n",
        "того для массива байт доступны методы модификации списка list."
      ],
      "metadata": {
        "id": "xpg8Ouw3Oopu"
      },
      "execution_count": null,
      "outputs": []
    },
    {
      "cell_type": "markdown",
      "source": [
        "Префикс b говорит о том, что перед нами не строка, а байты. Если байт может быть\n",
        "представлен как символ, т.е. он есть в семибитной кодировке ASCII. отображается\n",
        "символ. В остальных случаях указывается приставка \\x и слитно с ней\n",
        "шестнадцатеричное представление байта.\n",
        "Для получения набора байт можно использовать функцию bytes. А если необходимо\n",
        "изменять байт, использую функцию bytearray.\n"
      ],
      "metadata": {
        "id": "UeqF34ydOiIJ"
      }
    },
    {
      "cell_type": "markdown",
      "source": [
        "# Термины лекции\n",
        "● Итератор — это объект, представляющий поток данных; объект возвращает\n",
        "данные по одному элементу за раз. Итератор Python должен поддерживать\n",
        "метод с именем __next__ (), который не принимает аргументов и всегда\n",
        "возвращает следующий элемент потока.\n",
        "\n",
        "● Генератор — это объект, который сразу при создании не вычисляет значения\n",
        "всех своих элементов. Он хранит в памяти только последний вычисленный\n",
        "элемент, правило перехода к следующему и условие, при котором\n",
        "выполнение прерывается. Вычисление следующего значения происходит\n",
        "лишь при выполнении метода next(). Предыдущее значение при этом\n",
        "теряется.\n",
        "\n",
        "● Факториал — функция, определённая на множестве неотрицательных целых\n",
        "чисел. Название происходит от лат. factorialis — действующий, производящий,\n",
        "умножающий; обозначается n!, произносится эн факториал. Факториал\n",
        "натурального числа n определяется как произведение всех натуральных\n",
        "чисел от 1 до n включительно.\n",
        "\n",
        "# 1. Однострочники\n",
        "Python позволяет разработчикам решать задачи быстрее, чем с использованием\n",
        "других языков. Одна из причин — возможность писать меньше кода для получения\n",
        "результата.\n",
        "Полезные однострочники\n",
        "\n",
        "Рассмотрим несколько примеров кода в одну строку, которые упрощают жизнь.\n",
        "\n",
        "● Обмен значения переменных\n",
        "Начнём с классического обмена значений переменных.\n",
        "a, b = b, a\n",
        "\n",
        "Мы поменяли местами содержимое переменных без создания дополнительных, в\n",
        "одну строку.\n",
        "\n",
        "● Распаковка коллекции\n",
        "Рассмотрим другие варианты упаковки и распаковки значений."
      ],
      "metadata": {
        "id": "OXY5HTnpXcCV"
      }
    },
    {
      "cell_type": "code",
      "source": [
        "a, b, c = input(\"Три символа: \")\n",
        "print(f'{a=} {b=} {c=}')"
      ],
      "metadata": {
        "colab": {
          "base_uri": "https://localhost:8080/"
        },
        "id": "aT5-ltTtX-N6",
        "outputId": "4237fd9c-fcc8-4c64-ddb9-49ed4c9f3aaf"
      },
      "execution_count": null,
      "outputs": [
        {
          "output_type": "stream",
          "name": "stdout",
          "text": [
            "Три символа: 60r\n",
            "a='6' b='0' c='r'\n"
          ]
        }
      ]
    },
    {
      "cell_type": "markdown",
      "source": [
        "Как вы помните функция input возвращает строку str. Указав не одну переменную, а\n",
        "три мы распаковываем строку из 3-х символов в три отдельные переменные"
      ],
      "metadata": {
        "id": "PrXebs7SYPL-"
      }
    },
    {
      "cell_type": "code",
      "source": [
        "a, b, c = (\"один\", \"два\", \"три\",)\n",
        "print(f'{a=} {b=} {c=}')"
      ],
      "metadata": {
        "colab": {
          "base_uri": "https://localhost:8080/"
        },
        "id": "Py2-6N0EYTIb",
        "outputId": "8c898130-1026-48fe-db10-3c1b896c487a"
      },
      "execution_count": null,
      "outputs": [
        {
          "output_type": "stream",
          "name": "stdout",
          "text": [
            "a='один' b='два' c='три'\n"
          ]
        }
      ]
    },
    {
      "cell_type": "markdown",
      "source": [
        "Аналогичным образом можно распаковать кортеж из трёх элементов в три\n",
        "переменные. Со списком list, множеством set и прочими коллекциями будет\n",
        "работать аналогично."
      ],
      "metadata": {
        "id": "3WYZBPykYXC3"
      }
    },
    {
      "cell_type": "code",
      "source": [
        "a, b, c = {\"один\", \"два\", \"три\", \"четыре\", \"пять\"}\n",
        "print(f'{a=} {b=} {c=}') # ValueError: too many values to unpack\n",
        "(expected 3)"
      ],
      "metadata": {
        "id": "zYaCCyaaYZzz"
      },
      "execution_count": null,
      "outputs": []
    },
    {
      "cell_type": "markdown",
      "source": [
        "Если количество переменных слева от равенства не совпадает с количеством\n",
        "элементов последовательности Python вернёт ошибку.\n",
        "\n",
        "● Распаковка коллекции с упаковкой “лишнего”, упаковка со звёздочкой\n",
        "Для упаковки может применяться символ “звёздочка” перед именем переменной.\n",
        "Такая переменная превратиться в список и соберёт в себя все значения, не\n",
        "поместившиеся в остальные переменные."
      ],
      "metadata": {
        "id": "S2vn_DHrYkiG"
      }
    },
    {
      "cell_type": "code",
      "source": [
        "data = [\"один\", \"два\", \"три\", \"четыре\", \"пять\", \"шесть\", \"семь\",]\n",
        "a, b, c, *d = data\n",
        "print(f'{a=} {b=} {c=} {d=}')\n",
        "a, b, *c, d = data\n",
        "print(f'{a=} {b=} {c=} {d=}')\n",
        "a, *b, c, d = data\n",
        "print(f'{a=} {b=} {c=} {d=}')\n",
        "*a, b, c, d = data\n",
        "print(f'{a=} {b=} {c=} {d=}')"
      ],
      "metadata": {
        "colab": {
          "base_uri": "https://localhost:8080/"
        },
        "id": "WLyTIMj2YoY4",
        "outputId": "4df6d417-71d1-416f-c09f-33221568d247"
      },
      "execution_count": null,
      "outputs": [
        {
          "output_type": "stream",
          "name": "stdout",
          "text": [
            "a='один' b='два' c='три' d=['четыре', 'пять', 'шесть', 'семь']\n",
            "a='один' b='два' c=['три', 'четыре', 'пять', 'шесть'] d='семь'\n",
            "a='один' b=['два', 'три', 'четыре', 'пять'] c='шесть' d='семь'\n",
            "a=['один', 'два', 'три', 'четыре'] b='пять' c='шесть' d='семь'\n"
          ]
        }
      ]
    },
    {
      "cell_type": "markdown",
      "source": [
        "Элементы коллекции попадают в переменные в зависимости от того, какая из\n",
        "переменных отмечена звёздочкой.\n",
        "\n",
        "🔥 Важно! Звёздочкой можно отметить только одну переменную из\n",
        "перечня.\n",
        "\n",
        "Если нам нужна часть данных в переменных, а упакованный список в дальнейших\n",
        "расчётах не участвует, в качестве переменной используют подчеркивание."
      ],
      "metadata": {
        "id": "Zcf8vDhuYz3_"
      }
    },
    {
      "cell_type": "code",
      "source": [
        "link ='https://docs.python.org/3/faq/programming.html#how-can-i-pass-optional-or-keyword-parameters-from-one-function-to-another'\n",
        "prefix, *_, suffix = link.split('/')"
      ],
      "metadata": {
        "id": "DjT5wwA4Y5M-"
      },
      "execution_count": null,
      "outputs": []
    },
    {
      "cell_type": "markdown",
      "source": [
        "● Распаковка со звёздочкой\n",
        "\n",
        "Ещё один способ применения звёздочки — распаковка элементов коллекции.\n",
        "Длинный вариант вывода элементов последовательности в одну строку с\n",
        "разделителем табуляцией:"
      ],
      "metadata": {
        "id": "dlH71B9KY_0_"
      }
    },
    {
      "cell_type": "code",
      "source": [
        "data = [2, 4, 6, 8, 10, ]\n",
        "for item in data:\n",
        "  print(item, end='\\t')"
      ],
      "metadata": {
        "colab": {
          "base_uri": "https://localhost:8080/"
        },
        "id": "aIKFO9PkZRvz",
        "outputId": "20e6564e-4309-45b4-9905-87e4255c649d"
      },
      "execution_count": null,
      "outputs": [
        {
          "output_type": "stream",
          "name": "stdout",
          "text": [
            "2\t4\t6\t8\t10\t"
          ]
        }
      ]
    },
    {
      "cell_type": "markdown",
      "source": [
        "И аналогичная операция в одну строку с распаковкой:\n"
      ],
      "metadata": {
        "id": "NRamb28IZdRt"
      }
    },
    {
      "cell_type": "code",
      "source": [
        "data = [2, 4, 6, 8, 10, ]\n",
        "print(*data, sep='\\t')"
      ],
      "metadata": {
        "colab": {
          "base_uri": "https://localhost:8080/"
        },
        "id": "amMinduQZfp8",
        "outputId": "dc19ab03-6e86-4c53-a552-80f0adfecb86"
      },
      "execution_count": null,
      "outputs": [
        {
          "output_type": "stream",
          "name": "stdout",
          "text": [
            "2\t4\t6\t8\t10\n"
          ]
        }
      ]
    },
    {
      "cell_type": "markdown",
      "source": [
        "● Множественное присваивание\n",
        "\n",
        "Если несколько переменных должны получить одинаковые значение, можно\n",
        "объединить несколько строк в одну."
      ],
      "metadata": {
        "id": "yJ4BRzs4Zj8C"
      }
    },
    {
      "cell_type": "code",
      "source": [
        "a = b = c = 0\n",
        "a += 42\n",
        "print(f'{a=} {b=} {c=}')"
      ],
      "metadata": {
        "colab": {
          "base_uri": "https://localhost:8080/"
        },
        "id": "XncEeD7TZppz",
        "outputId": "d85a185c-28a9-4c75-9b5b-1883d077d425"
      },
      "execution_count": null,
      "outputs": [
        {
          "output_type": "stream",
          "name": "stdout",
          "text": [
            "a=42 b=0 c=0\n"
          ]
        }
      ]
    },
    {
      "cell_type": "markdown",
      "source": [
        "Подобная запись допустима только с неизменяемыми типами данных. В противном\n",
        "случае изменение одной переменной приведёт к изменению и других."
      ],
      "metadata": {
        "id": "oOGd8SE-Zv9R"
      }
    },
    {
      "cell_type": "code",
      "source": [
        "a = b = c = {1, 2, 3}\n",
        "a.add(42)\n",
        "print(f'{a=} {b=} {c=}')"
      ],
      "metadata": {
        "colab": {
          "base_uri": "https://localhost:8080/"
        },
        "id": "ZKWBb7IaZyQ4",
        "outputId": "c440020f-1b20-46e1-a663-134acb53d050"
      },
      "execution_count": null,
      "outputs": [
        {
          "output_type": "stream",
          "name": "stdout",
          "text": [
            "a={1, 2, 3, 42} b={1, 2, 3, 42} c={1, 2, 3, 42}\n"
          ]
        }
      ]
    },
    {
      "cell_type": "markdown",
      "source": [
        "Другой вариант множественного присваивания похож на обмен переменных\n",
        "местами."
      ],
      "metadata": {
        "id": "sChtk_aAZ2lt"
      }
    },
    {
      "cell_type": "code",
      "source": [
        "a, b, c = 1, 2, 3\n",
        "print(f'{a=} {b=} {c=}')"
      ],
      "metadata": {
        "colab": {
          "base_uri": "https://localhost:8080/"
        },
        "id": "kkhJ2vldZ44P",
        "outputId": "4951f79d-dc8d-4583-86a5-3b60bc87875e"
      },
      "execution_count": null,
      "outputs": [
        {
          "output_type": "stream",
          "name": "stdout",
          "text": [
            "a=1 b=2 c=3\n"
          ]
        }
      ]
    },
    {
      "cell_type": "markdown",
      "source": [
        "Число элементов в левой части должно совпадать с числом элементов справа от\n",
        "равно.\n",
        "\n",
        "А если в левой части указать лишь одну переменную, получим кортеж."
      ],
      "metadata": {
        "id": "W4Lb5FsnZ-42"
      }
    },
    {
      "cell_type": "code",
      "source": [
        "t = 1, 2, 3\n",
        "print(f'{t=}, {type(t)}')"
      ],
      "metadata": {
        "colab": {
          "base_uri": "https://localhost:8080/"
        },
        "id": "DotIkid8aBxh",
        "outputId": "83a6773b-7e8e-450b-f55d-dcac0e7d8dab"
      },
      "execution_count": null,
      "outputs": [
        {
          "output_type": "stream",
          "name": "stdout",
          "text": [
            "t=(1, 2, 3), <class 'tuple'>\n"
          ]
        }
      ]
    },
    {
      "cell_type": "markdown",
      "source": [
        "🔥 Важно! Тип объектов может отличаться. Не только целые числа, как в\n",
        "примерах. Строки, любые коллекции. Ошибки это не вызовет. Но для\n",
        "повышения читаемости рекомендуется не смешивать разные типы данных при\n",
        "присваивании одной строкой.\n",
        "\n",
        "● Множественное сравнение\n",
        "\n",
        "Аналогично присваиванию можно сравнить несколько переменных внутри\n",
        "конструкции if."
      ],
      "metadata": {
        "id": "34aU1owxaJII"
      }
    },
    {
      "cell_type": "code",
      "source": [
        "a = b = c = 42\n",
        "# if a == b and b == c:\n",
        "if a == b == c:\n",
        "  print('Полное совпадение')\n"
      ],
      "metadata": {
        "colab": {
          "base_uri": "https://localhost:8080/"
        },
        "id": "KQ-KEzXxaPOW",
        "outputId": "2b8dccd6-24c8-4602-c8b8-4bad64a37386"
      },
      "execution_count": null,
      "outputs": [
        {
          "output_type": "stream",
          "name": "stdout",
          "text": [
            "Полное совпадение\n"
          ]
        }
      ]
    },
    {
      "cell_type": "markdown",
      "source": [
        "Запись становится короче, т.к. исключается команда and внутри сравнения.\n",
        "Работает подобная запись не только с проверкой на равенство, но и с другими\n",
        "операциями."
      ],
      "metadata": {
        "id": "3x-SBVkbaV7D"
      }
    },
    {
      "cell_type": "code",
      "source": [
        "if a < b < c:\n",
        "  print('b больше a и меньше c')"
      ],
      "metadata": {
        "id": "B2Qw2d_waZlQ"
      },
      "execution_count": null,
      "outputs": []
    },
    {
      "cell_type": "markdown",
      "source": [
        "Проверяем, что b больше a и b меньше c."
      ],
      "metadata": {
        "id": "CedXqeV2aiwz"
      }
    },
    {
      "cell_type": "markdown",
      "source": [
        "# Плохие однострочники\n",
        "А теперь несколько примеров плохого кода. Да, он будет работать, т.к. Python\n",
        "прощает ошибки. Но читать такой код будет сложно. И есть большая вероятность,\n",
        "что коллеги по проекту не простят подобный код."
      ],
      "metadata": {
        "id": "ZjVpvW7Wam-y"
      }
    },
    {
      "cell_type": "code",
      "source": [
        "a = 12; b = 42; c = 73\n",
        "if a < b < c: b = None; print('Ужасный код')"
      ],
      "metadata": {
        "colab": {
          "base_uri": "https://localhost:8080/"
        },
        "id": "awNNtxjHasXS",
        "outputId": "af335f45-2686-4399-a4f3-6740b05a1360"
      },
      "execution_count": null,
      "outputs": [
        {
          "output_type": "stream",
          "name": "stdout",
          "text": [
            "Ужасный код\n"
          ]
        }
      ]
    },
    {
      "cell_type": "markdown",
      "source": [
        "Перечислили несколько операций присваивания через точку с запятой в одной\n",
        "строке. Такая запись противоречит PEP-8. Скорее это защита от поломки, если\n",
        "разработчик пришёл из другого языка и привык ставить точку с запятой.\n",
        "Во второй строке не перешли на новую строку с отступами после двоеточия. Так же\n",
        "идёт против PEP-8. Кроме того подобные условия, циклы или функции не смогут\n",
        "содержать более одной вложенной строки. Если конечно не начать добавлять точки\n",
        "с запятой.\n",
        "\n",
        "🔥 Очень важно! Отсутствие перехода на новую строку после двоеточия и\n",
        "запись нескольких строк кода в одну через точку с запятой — плохой стиль\n",
        "программирования. Будьте готовы получить “неудовлетворительно” за\n",
        "подобные антипаттерны во время учёбы и отказ в трудоустройстве во время\n",
        "собеседования!"
      ],
      "metadata": {
        "id": "SWInMwB_a0W3"
      }
    },
    {
      "cell_type": "markdown",
      "source": [
        "# Задание\n",
        "Перед вами несколько строк кода. Напишите что по вашему мнению выведет print,\n",
        "не запуская код. У вас 3 минуты."
      ],
      "metadata": {
        "id": "YQwKgM-3a6mw"
      }
    },
    {
      "cell_type": "code",
      "source": [
        "data = {10, 9, 8, 1, 6, 3}\n",
        "a, b, c, *d, e = data\n",
        "print(a, b, c, d, e)\n"
      ],
      "metadata": {
        "colab": {
          "base_uri": "https://localhost:8080/"
        },
        "id": "7yQNiLwQa-BH",
        "outputId": "a409699b-49ca-4382-f832-d414d5dc6173"
      },
      "execution_count": null,
      "outputs": [
        {
          "output_type": "stream",
          "name": "stdout",
          "text": [
            "1 3 6 [8, 9] 10\n"
          ]
        }
      ]
    },
    {
      "cell_type": "markdown",
      "source": [
        "# **2. Итераторы**\n",
        "С итераторами мы уже знакомы. Любая Python коллекция будь то список, словарь,\n",
        "строка и т.п. предоставляют интерфейс итератора. Если коллекцию можно передать\n",
        "в цикл for in для последовательного перебора элементов, значит коллекция\n",
        "итерируемая, поддерживает интерфейс итарации. При этом у каждой коллекции\n",
        "может быть свой интерфейс. Списки, строки, кортежи возвращают элементы слева\n",
        "направо, от нулевого индекса к последнему. Множества возвращают элементы в\n",
        "случайном порядке."
      ],
      "metadata": {
        "id": "pppnhw1ubJk3"
      }
    }
  ]
}